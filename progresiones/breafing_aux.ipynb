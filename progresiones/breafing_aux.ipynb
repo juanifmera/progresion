{
 "cells": [
  {
   "cell_type": "markdown",
   "id": "3f2f964b",
   "metadata": {},
   "source": [
    "# TODOS LOS FORMATOS"
   ]
  },
  {
   "cell_type": "code",
   "execution_count": 1,
   "id": "55a67370",
   "metadata": {},
   "outputs": [],
   "source": [
    "import pandas as pd\n",
    "from datetime import datetime\n",
    "import numpy as np"
   ]
  },
  {
   "cell_type": "markdown",
   "id": "26e9e99f",
   "metadata": {},
   "source": [
    "### Ventas y Volumen"
   ]
  },
  {
   "cell_type": "code",
   "execution_count": 161,
   "id": "0128f4ee",
   "metadata": {},
   "outputs": [],
   "source": [
    "cols = ['Año', 'Mes', 'Direccion', 'Punto Operacional', 'Sector', 'Seccion', 'Grupo de Familia', 'Ventas c/impuesto', 'Venta en Unidades']\n",
    "df_ventas_vol = pd.read_csv('data/ventas y vol total CIA Briefing 2da semana total CIA.csv', encoding='utf-16', header=1, usecols=cols, decimal=',')\n",
    "df_ventas_vol.columns = df_ventas_vol.columns.str.lower().str.replace(' ','_')"
   ]
  },
  {
   "cell_type": "code",
   "execution_count": 162,
   "id": "c2732ddb",
   "metadata": {},
   "outputs": [],
   "source": [
    "df_ventas_vol.rename(columns={\n",
    "    'mes':'fecha',\n",
    "    'ventas_c/impuesto':'vct',\n",
    "    'venta_en_unidades':'vol',\n",
    "}, inplace=True)"
   ]
  },
  {
   "cell_type": "code",
   "execution_count": 163,
   "id": "b5585b81",
   "metadata": {},
   "outputs": [],
   "source": [
    "df_ventas_vol['mes'] = df_ventas_vol['fecha'].str.split(' ').str[0]\n",
    "df_ventas_vol['numero_operacional'] = df_ventas_vol['punto_operacional'].str.split(' ').str[0].astype(int)"
   ]
  },
  {
   "cell_type": "markdown",
   "id": "a8657b1d",
   "metadata": {},
   "source": [
    "### Separacion Ventas y Volumen"
   ]
  },
  {
   "cell_type": "code",
   "execution_count": 164,
   "id": "d889dbee",
   "metadata": {},
   "outputs": [
    {
     "name": "stderr",
     "output_type": "stream",
     "text": [
      "C:\\Users\\Juan Mera\\AppData\\Local\\Temp\\ipykernel_11544\\3609712812.py:3: SettingWithCopyWarning: \n",
      "A value is trying to be set on a copy of a slice from a DataFrame\n",
      "\n",
      "See the caveats in the documentation: https://pandas.pydata.org/pandas-docs/stable/user_guide/indexing.html#returning-a-view-versus-a-copy\n",
      "  df_ventas.rename(columns={\n",
      "C:\\Users\\Juan Mera\\AppData\\Local\\Temp\\ipykernel_11544\\3609712812.py:6: SettingWithCopyWarning: \n",
      "A value is trying to be set on a copy of a slice from a DataFrame\n",
      "\n",
      "See the caveats in the documentation: https://pandas.pydata.org/pandas-docs/stable/user_guide/indexing.html#returning-a-view-versus-a-copy\n",
      "  df_volumen.rename(columns={\n"
     ]
    }
   ],
   "source": [
    "df_ventas = df_ventas_vol[['año', 'fecha', 'direccion', 'punto_operacional', 'sector', 'seccion', 'grupo_de_familia', 'vct', 'mes', 'numero_operacional']]\n",
    "df_volumen = df_ventas_vol[['año', 'fecha', 'direccion', 'punto_operacional', 'sector', 'seccion', 'grupo_de_familia', 'vol', 'mes', 'numero_operacional']]\n",
    "df_ventas.rename(columns={\n",
    "    'vct':'valores'\n",
    "}, inplace=True)\n",
    "df_volumen.rename(columns={\n",
    "    'vol':'valores'\n",
    "}, inplace=True)"
   ]
  },
  {
   "cell_type": "code",
   "execution_count": 165,
   "id": "ded9ccf3",
   "metadata": {},
   "outputs": [],
   "source": [
    "df_ventas['categoria'] = 'vct'\n",
    "df_volumen['categoria'] = 'vol'"
   ]
  },
  {
   "cell_type": "code",
   "execution_count": 166,
   "id": "3658c83f",
   "metadata": {},
   "outputs": [],
   "source": [
    "df_ventas['valores'] = pd.to_numeric(df_ventas['valores'].str.replace('.', '').str.replace(',','.'))\n",
    "df_volumen['valores'] = pd.to_numeric(df_volumen['valores'].str.replace('.', '').str.replace(',','.'))"
   ]
  },
  {
   "cell_type": "markdown",
   "id": "21366daf",
   "metadata": {},
   "source": [
    "### Le quito los envases al volumen"
   ]
  },
  {
   "cell_type": "code",
   "execution_count": 167,
   "id": "6f993490",
   "metadata": {},
   "outputs": [],
   "source": [
    "df_volumen = df_volumen[~df_volumen['grupo_de_familia'].isin(['ENVASES BEBIDAS', 'ENVASES PAGADOS'])]"
   ]
  },
  {
   "cell_type": "code",
   "execution_count": 168,
   "id": "092c705a",
   "metadata": {},
   "outputs": [],
   "source": [
    "df_ventas_tienda = df_ventas.groupby(['año', 'mes', 'direccion', 'numero_operacional', 'punto_operacional', 'categoria'])['valores'].sum().reset_index()\n",
    "df_volumen_tienda = df_volumen.groupby(['año', 'mes', 'direccion', 'numero_operacional', 'punto_operacional', 'categoria'])['valores'].sum().reset_index()"
   ]
  },
  {
   "cell_type": "markdown",
   "id": "e02193bd",
   "metadata": {},
   "source": [
    "### Padron"
   ]
  },
  {
   "cell_type": "code",
   "execution_count": 169,
   "id": "0a39732b",
   "metadata": {},
   "outputs": [],
   "source": [
    "cols = ['N°', 'NOMBRE', 'Fecha apertura', 'BANDERA', 'ORGANIZACIÓN ', 'PROVINCIA', 'FIN DE CIERRE', 'ENE.2', 'FEB.2', 'MAR.2', 'ABR.2', 'MAY.2', 'JUN.2', 'JUL.2', 'AGO.2', 'SEP.2', 'OCT.2', 'NOV.2', 'DIC.2']\n",
    "padron = pd.read_excel('data/padron.xlsx', header=17, usecols=cols)\n",
    "padron.columns = padron.columns.str.lower().str.strip().str.replace(' ', '_').str.replace('.2', '')\n",
    "padron.rename(columns={\n",
    "    'n°':'numero_operacional',\n",
    "}, inplace=True)"
   ]
  },
  {
   "cell_type": "code",
   "execution_count": 170,
   "id": "2e369c6e",
   "metadata": {},
   "outputs": [],
   "source": [
    "#Elimino las filas que tengan na en su numero, nombre y mes comparable\n",
    "padron = padron.dropna(subset=['numero_operacional', 'nombre', 'sep'], how='any')"
   ]
  },
  {
   "cell_type": "code",
   "execution_count": 171,
   "id": "0434cd8f",
   "metadata": {},
   "outputs": [],
   "source": [
    "padron['numero_operacional'] = padron['numero_operacional'].astype(int)"
   ]
  },
  {
   "cell_type": "markdown",
   "id": "2fe16cd4",
   "metadata": {},
   "source": [
    "### Debitos total Tienda"
   ]
  },
  {
   "cell_type": "code",
   "execution_count": 172,
   "id": "2b9c7ad1",
   "metadata": {},
   "outputs": [],
   "source": [
    "df_debitos_tienda = pd.read_csv('data/debitos x tienda total CIA Briefing 2da semana total CIA.csv', encoding='utf-16', header=1, decimal=',')\n",
    "df_debitos_tienda.columns = df_debitos_tienda.columns.str.lower().str.replace(' ', '_')\n",
    "df_debitos_tienda.rename(columns={\n",
    "    'cant._tickets_por_local':'valores',\n",
    "    'mes':'fecha',\n",
    "}, inplace=True)\n",
    "df_debitos_tienda['valores'] = pd.to_numeric(df_debitos_tienda['valores'].str.replace('.', '').str.replace(',','.'))\n",
    "df_debitos_tienda['mes'] = df_debitos_tienda['fecha'].str.split(' ').str[0]\n",
    "df_debitos_tienda['numero_operacional'] = df_debitos_tienda['punto_operacional'].str.split(' ').str[0].astype(int)\n",
    "df_debitos_tienda = df_debitos_tienda.drop(columns=['indicadores', 'fecha'])\n",
    "df_debitos_tienda['categoria'] = 'deb'\n",
    "df_debitos_tienda = df_debitos_tienda[['año', 'mes', 'direccion', 'numero_operacional', 'punto_operacional', 'categoria', 'valores']]"
   ]
  },
  {
   "cell_type": "markdown",
   "id": "2977a9ec",
   "metadata": {},
   "source": [
    "### Concateno todo nivel tienda y Join con el Padron"
   ]
  },
  {
   "cell_type": "code",
   "execution_count": 173,
   "id": "723f3026",
   "metadata": {},
   "outputs": [],
   "source": [
    "df_tienda = pd.concat([df_ventas_tienda, df_debitos_tienda, df_volumen_tienda])\n",
    "df_tienda['numero_operacional'] = df_tienda['numero_operacional'].astype(int)"
   ]
  },
  {
   "cell_type": "code",
   "execution_count": 174,
   "id": "f50d1478",
   "metadata": {},
   "outputs": [],
   "source": [
    "df_tienda_join = pd.merge(df_tienda, padron, how='left', on='numero_operacional')\n",
    "df_tienda_join = df_tienda_join[['año', 'mes', 'direccion', 'numero_operacional', 'punto_operacional', 'provincia', 'fecha_apertura', 'fin_de_cierre','categoria', 'sep', 'valores']]\n",
    "df_tienda_comparable = df_tienda_join[df_tienda_join['sep'] == 'SC']\n",
    "\n",
    "#Este df NO COMPARABLE me sirve para calcular las progresiones 28 dias moviles por formato\n",
    "df_tienda_no_comparable = df_tienda_join"
   ]
  },
  {
   "cell_type": "markdown",
   "id": "e9a6bbfc",
   "metadata": {},
   "source": [
    "### Genero un df por Superficie comparable, pivoteo la info y calculo las porgresiones totales por tienda por categoria"
   ]
  },
  {
   "cell_type": "code",
   "execution_count": 175,
   "id": "de8890f2",
   "metadata": {},
   "outputs": [],
   "source": [
    "df_tienda_comparable = df_tienda_comparable.pivot_table(values='valores', index=['direccion', 'numero_operacional', 'punto_operacional', 'categoria'], columns='año', aggfunc='sum').reset_index()\n",
    "df_tienda_comparable['progresion'] = round((df_tienda_comparable[2025] / df_tienda_comparable[2024]) - 1, 3)\n",
    "df_tienda_comparable = df_tienda_comparable.sort_values(by='progresion', ascending=False)\n",
    "\n",
    "#Me sirve para luego la consolidacion de informacion\n",
    "df_tienda_comparable_aux = df_tienda_comparable"
   ]
  },
  {
   "cell_type": "code",
   "execution_count": 176,
   "id": "1011fcc8",
   "metadata": {},
   "outputs": [],
   "source": [
    "df_tienda_no_comparable = df_tienda_no_comparable.pivot_table(values='valores', index=['direccion', 'numero_operacional', 'punto_operacional', 'categoria'], columns='año', aggfunc='sum').reset_index()\n",
    "df_tienda_no_comparable['progresion'] = round((df_tienda_no_comparable[2025] / df_tienda_no_comparable[2024]) - 1, 3)\n",
    "df_tienda_no_comparable = df_tienda_no_comparable.sort_values(by='progresion', ascending=False)"
   ]
  },
  {
   "cell_type": "markdown",
   "id": "39a1281e",
   "metadata": {},
   "source": [
    "### Genero un DF por superficie comparable, agrupo la informacion a nivel formato para calular sus progresiones por categoria"
   ]
  },
  {
   "cell_type": "code",
   "execution_count": 177,
   "id": "eef75064",
   "metadata": {},
   "outputs": [],
   "source": [
    "df_formato_comparable = df_tienda_comparable.groupby(['direccion', 'categoria'])[[2024, 2025]].sum().reset_index()\n",
    "df_formato_comparable['progresion'] = round(df_formato_comparable[2025] / df_formato_comparable[2024] - 1, 3)\n",
    "df_formato_comparable_final = df_formato_comparable.sort_values(['categoria'])"
   ]
  },
  {
   "cell_type": "code",
   "execution_count": 178,
   "id": "4b7ceea5",
   "metadata": {},
   "outputs": [],
   "source": [
    "df_formato_no_comparable = df_tienda_no_comparable.groupby(['direccion', 'categoria'])[[2024, 2025]].sum().reset_index()\n",
    "df_formato_no_comparable['progresion'] = round(df_formato_no_comparable[2025] / df_formato_no_comparable[2024] - 1, 3)\n",
    "df_formato_no_comparable_final = df_formato_no_comparable.sort_values(['categoria'])"
   ]
  },
  {
   "cell_type": "markdown",
   "id": "b23f8ee5",
   "metadata": {},
   "source": [
    "### Debitos por Sector"
   ]
  },
  {
   "cell_type": "code",
   "execution_count": 179,
   "id": "617340a3",
   "metadata": {},
   "outputs": [],
   "source": [
    "df_debitos_sector = pd.read_csv('data/debitos x sector total CIA Briefing 2da semana total CIA.csv', encoding='utf-16', header=1, decimal=',')"
   ]
  },
  {
   "cell_type": "code",
   "execution_count": 180,
   "id": "7277e3dd",
   "metadata": {},
   "outputs": [],
   "source": [
    "df_debitos_sector.columns = df_debitos_sector.columns.str.strip().str.lower().str.replace(' ', '_')\n",
    "df_debitos_sector = df_debitos_sector.rename(columns={\n",
    "    'cantidad_de_tickets':'valores',\n",
    "    'mes':'fecha'\n",
    "})\n",
    "df_debitos_sector = df_debitos_sector.drop(columns=['indicadores'])\n",
    "df_debitos_sector['mes'] = df_debitos_sector['fecha'].str.split(' ').str[0]\n",
    "df_debitos_sector['numero_operacional'] = df_debitos_sector['punto_operacional'].str.split(' ').str[0]\n",
    "df_debitos_sector['categoria'] = 'deb'\n",
    "df_debitos_sector['valores'] = pd.to_numeric(df_debitos_sector['valores'].str.replace('.', '').str.replace(',','.'))"
   ]
  },
  {
   "cell_type": "markdown",
   "id": "3136d3f9",
   "metadata": {},
   "source": [
    "### Agrupo las tres categorias por Sector, las joineo con el padron, me quedo con los SC, calculo proresiones y pivoteo para mostrar mejor la informacion"
   ]
  },
  {
   "cell_type": "code",
   "execution_count": 181,
   "id": "cc971c25",
   "metadata": {},
   "outputs": [],
   "source": [
    "df_ventas_sector = df_ventas.groupby(['año', 'mes', 'direccion', 'numero_operacional', 'punto_operacional', 'categoria', 'sector'])['valores'].sum().reset_index()\n",
    "df_volumen_sector = df_volumen.groupby(['año', 'mes', 'direccion', 'numero_operacional', 'punto_operacional', 'categoria', 'sector'])['valores'].sum().reset_index()\n",
    "df_debitos_sector = df_debitos_sector[['año', 'mes', 'direccion', 'numero_operacional', 'punto_operacional', 'categoria', 'sector', 'valores']]"
   ]
  },
  {
   "cell_type": "code",
   "execution_count": 182,
   "id": "68070fbe",
   "metadata": {},
   "outputs": [],
   "source": [
    "df_sector = pd.concat([df_ventas_sector, df_volumen_sector, df_debitos_sector])\n",
    "df_sector['numero_operacional'] = df_sector['numero_operacional'].astype(int) \n",
    "df_sector_join = pd.merge(df_sector, padron, on='numero_operacional', how='left')\n",
    "df_sector_join = df_sector_join[['año', 'mes', 'direccion', 'numero_operacional', 'punto_operacional', 'provincia', 'fecha_apertura', 'fin_de_cierre', 'categoria', 'sector', 'sep', 'valores']]"
   ]
  },
  {
   "cell_type": "code",
   "execution_count": 183,
   "id": "d534748f",
   "metadata": {},
   "outputs": [],
   "source": [
    "df_sector_comparable = df_sector_join[df_sector_join['sep'] == 'SC']"
   ]
  },
  {
   "cell_type": "code",
   "execution_count": 184,
   "id": "2e11b932",
   "metadata": {},
   "outputs": [],
   "source": [
    "df_sector_comparable = df_sector_comparable.pivot_table(values='valores', index=['direccion' ,'numero_operacional', 'punto_operacional', 'categoria', 'sector'], columns='año', aggfunc='sum').reset_index()\n",
    "df_sector_comparable['progresion'] = round((df_sector_comparable[2025] / df_sector_comparable[2024]) - 1, 3)"
   ]
  },
  {
   "cell_type": "code",
   "execution_count": 185,
   "id": "107150e1",
   "metadata": {},
   "outputs": [],
   "source": [
    "#Sirve para calcular las progresiones por sector a nivel Formato\n",
    "df_formato_sector_comparable = df_sector_comparable\n",
    "\n",
    "#Sirve Para realizar una baja consolidada de informacion\n",
    "df_formato_sector_comparable_aux = df_formato_sector_comparable"
   ]
  },
  {
   "cell_type": "code",
   "execution_count": 186,
   "id": "20e880a2",
   "metadata": {},
   "outputs": [],
   "source": [
    "df_progresiones_categoria_sectores = df_sector_comparable.pivot_table(values='progresion', index=['numero_operacional', 'punto_operacional', 'categoria'], columns='sector', aggfunc='sum').reset_index()"
   ]
  },
  {
   "cell_type": "code",
   "execution_count": 187,
   "id": "573e1b55",
   "metadata": {},
   "outputs": [],
   "source": [
    "df_tienda_comparable = df_tienda_comparable.rename(columns={'progresion':'total_tienda'})"
   ]
  },
  {
   "cell_type": "markdown",
   "id": "19f1f55d",
   "metadata": {},
   "source": [
    "### Trabajo con la Info para Obtener las progresiones por Sector a Nivel Formato"
   ]
  },
  {
   "cell_type": "code",
   "execution_count": 188,
   "id": "03810678",
   "metadata": {},
   "outputs": [],
   "source": [
    "df_formato_sector_comparable = df_formato_sector_comparable.groupby(['direccion', 'categoria', 'sector'])[[2024, 2025]].sum().reset_index()"
   ]
  },
  {
   "cell_type": "code",
   "execution_count": 189,
   "id": "af9d0307",
   "metadata": {},
   "outputs": [],
   "source": [
    "df_formato_sector_comparable['progresion'] = round(df_formato_sector_comparable[2025] / df_formato_sector_comparable[2024] - 1, 3)"
   ]
  },
  {
   "cell_type": "code",
   "execution_count": 190,
   "id": "113bf97c",
   "metadata": {},
   "outputs": [],
   "source": [
    "df_formato_sector_comparable = df_formato_sector_comparable.pivot_table(values='progresion', index=['direccion', 'categoria'], columns='sector', aggfunc='sum').reset_index()\n",
    "df_formato_sector_comparable = df_formato_sector_comparable.fillna(0)"
   ]
  },
  {
   "cell_type": "markdown",
   "id": "feeb5497",
   "metadata": {},
   "source": [
    "### Concateno las progresiones por sectores con el primer df utilziando su numero operacional. Luego lo limpio y lo presento"
   ]
  },
  {
   "cell_type": "code",
   "execution_count": 191,
   "id": "4edb6928",
   "metadata": {},
   "outputs": [],
   "source": [
    "df_progresiones_join_sector_tienda = pd.merge(df_progresiones_categoria_sectores, df_tienda_comparable[['direccion', 'numero_operacional', 'categoria', 'total_tienda']], on=['numero_operacional', 'categoria'], how='left')"
   ]
  },
  {
   "cell_type": "code",
   "execution_count": 192,
   "id": "393b260a",
   "metadata": {},
   "outputs": [],
   "source": [
    "df_progresiones_join_sector_tienda = df_progresiones_join_sector_tienda.fillna(0)"
   ]
  },
  {
   "cell_type": "code",
   "execution_count": 193,
   "id": "628bfb1e",
   "metadata": {},
   "outputs": [],
   "source": [
    "df_progresiones_join_sector_tienda.columns = df_progresiones_join_sector_tienda.columns.str.capitalize().str.strip().str.replace('_', ' ')"
   ]
  },
  {
   "cell_type": "code",
   "execution_count": 194,
   "id": "67903aa8",
   "metadata": {},
   "outputs": [],
   "source": [
    "df_progresiones_join_sector_tienda = df_progresiones_join_sector_tienda.drop(columns=['Numero operacional'])\n",
    "df_progresiones_join_sector_tienda = df_progresiones_join_sector_tienda.rename(columns={'Total tienda': 'Total tienda', 'P.g.c.': 'PGC'})\n",
    "df_progresiones_join_sector_tienda = df_progresiones_join_sector_tienda.sort_values(by='Total tienda', ascending=False)"
   ]
  },
  {
   "cell_type": "code",
   "execution_count": 195,
   "id": "eee8146e",
   "metadata": {},
   "outputs": [],
   "source": [
    "df_final_consolidado_tienda = df_tienda_comparable.drop(columns=[2024, 2025])\n",
    "df_final_consolidado_tienda = df_final_consolidado_tienda.rename(columns={'total_tienda':'progresion'})\n",
    "df_final_consolidado_tienda['sector'] = 'Total'"
   ]
  },
  {
   "cell_type": "code",
   "execution_count": 196,
   "id": "b052b2a5",
   "metadata": {},
   "outputs": [
    {
     "data": {
      "text/html": [
       "<div>\n",
       "<style scoped>\n",
       "    .dataframe tbody tr th:only-of-type {\n",
       "        vertical-align: middle;\n",
       "    }\n",
       "\n",
       "    .dataframe tbody tr th {\n",
       "        vertical-align: top;\n",
       "    }\n",
       "\n",
       "    .dataframe thead th {\n",
       "        text-align: right;\n",
       "    }\n",
       "</style>\n",
       "<table border=\"1\" class=\"dataframe\">\n",
       "  <thead>\n",
       "    <tr style=\"text-align: right;\">\n",
       "      <th>año</th>\n",
       "      <th>direccion</th>\n",
       "      <th>numero_operacional</th>\n",
       "      <th>punto_operacional</th>\n",
       "      <th>categoria</th>\n",
       "      <th>progresion</th>\n",
       "      <th>sector</th>\n",
       "    </tr>\n",
       "  </thead>\n",
       "  <tbody>\n",
       "    <tr>\n",
       "      <th>0</th>\n",
       "      <td>E-COMMERCE</td>\n",
       "      <td>899</td>\n",
       "      <td>899 - E-Commerce</td>\n",
       "      <td>deb</td>\n",
       "      <td>-0.747</td>\n",
       "      <td>BAZAR</td>\n",
       "    </tr>\n",
       "    <tr>\n",
       "      <th>1</th>\n",
       "      <td>E-COMMERCE</td>\n",
       "      <td>899</td>\n",
       "      <td>899 - E-Commerce</td>\n",
       "      <td>deb</td>\n",
       "      <td>-0.293</td>\n",
       "      <td>ELECTRODOMESTICOS</td>\n",
       "    </tr>\n",
       "    <tr>\n",
       "      <th>2</th>\n",
       "      <td>E-COMMERCE</td>\n",
       "      <td>899</td>\n",
       "      <td>899 - E-Commerce</td>\n",
       "      <td>deb</td>\n",
       "      <td>1.000</td>\n",
       "      <td>P.G.C.</td>\n",
       "    </tr>\n",
       "    <tr>\n",
       "      <th>3</th>\n",
       "      <td>E-COMMERCE</td>\n",
       "      <td>899</td>\n",
       "      <td>899 - E-Commerce</td>\n",
       "      <td>deb</td>\n",
       "      <td>NaN</td>\n",
       "      <td>TEXTIL</td>\n",
       "    </tr>\n",
       "    <tr>\n",
       "      <th>4</th>\n",
       "      <td>E-COMMERCE</td>\n",
       "      <td>899</td>\n",
       "      <td>899 - E-Commerce</td>\n",
       "      <td>vct</td>\n",
       "      <td>-0.734</td>\n",
       "      <td>BAZAR</td>\n",
       "    </tr>\n",
       "    <tr>\n",
       "      <th>...</th>\n",
       "      <td>...</td>\n",
       "      <td>...</td>\n",
       "      <td>...</td>\n",
       "      <td>...</td>\n",
       "      <td>...</td>\n",
       "      <td>...</td>\n",
       "    </tr>\n",
       "    <tr>\n",
       "      <th>11610</th>\n",
       "      <td>PROXIMIDAD</td>\n",
       "      <td>874</td>\n",
       "      <td>874 - Mini Caraffa Claudio Cuenca 1784 Cb</td>\n",
       "      <td>vol</td>\n",
       "      <td>-0.750</td>\n",
       "      <td>ELECTRODOMESTICOS</td>\n",
       "    </tr>\n",
       "    <tr>\n",
       "      <th>11611</th>\n",
       "      <td>PROXIMIDAD</td>\n",
       "      <td>874</td>\n",
       "      <td>874 - Mini Caraffa Claudio Cuenca 1784 Cb</td>\n",
       "      <td>vol</td>\n",
       "      <td>0.319</td>\n",
       "      <td>OTROS</td>\n",
       "    </tr>\n",
       "    <tr>\n",
       "      <th>11612</th>\n",
       "      <td>PROXIMIDAD</td>\n",
       "      <td>874</td>\n",
       "      <td>874 - Mini Caraffa Claudio Cuenca 1784 Cb</td>\n",
       "      <td>vol</td>\n",
       "      <td>0.317</td>\n",
       "      <td>P.G.C.</td>\n",
       "    </tr>\n",
       "    <tr>\n",
       "      <th>11613</th>\n",
       "      <td>PROXIMIDAD</td>\n",
       "      <td>874</td>\n",
       "      <td>874 - Mini Caraffa Claudio Cuenca 1784 Cb</td>\n",
       "      <td>vol</td>\n",
       "      <td>0.509</td>\n",
       "      <td>PRODUCTOS FRESCO</td>\n",
       "    </tr>\n",
       "    <tr>\n",
       "      <th>11614</th>\n",
       "      <td>PROXIMIDAD</td>\n",
       "      <td>874</td>\n",
       "      <td>874 - Mini Caraffa Claudio Cuenca 1784 Cb</td>\n",
       "      <td>vol</td>\n",
       "      <td>-0.571</td>\n",
       "      <td>TEXTIL</td>\n",
       "    </tr>\n",
       "  </tbody>\n",
       "</table>\n",
       "<p>11615 rows × 6 columns</p>\n",
       "</div>"
      ],
      "text/plain": [
       "año     direccion  numero_operacional  \\\n",
       "0      E-COMMERCE                 899   \n",
       "1      E-COMMERCE                 899   \n",
       "2      E-COMMERCE                 899   \n",
       "3      E-COMMERCE                 899   \n",
       "4      E-COMMERCE                 899   \n",
       "...           ...                 ...   \n",
       "11610  PROXIMIDAD                 874   \n",
       "11611  PROXIMIDAD                 874   \n",
       "11612  PROXIMIDAD                 874   \n",
       "11613  PROXIMIDAD                 874   \n",
       "11614  PROXIMIDAD                 874   \n",
       "\n",
       "año                            punto_operacional categoria  progresion  \\\n",
       "0                               899 - E-Commerce       deb      -0.747   \n",
       "1                               899 - E-Commerce       deb      -0.293   \n",
       "2                               899 - E-Commerce       deb       1.000   \n",
       "3                               899 - E-Commerce       deb         NaN   \n",
       "4                               899 - E-Commerce       vct      -0.734   \n",
       "...                                          ...       ...         ...   \n",
       "11610  874 - Mini Caraffa Claudio Cuenca 1784 Cb       vol      -0.750   \n",
       "11611  874 - Mini Caraffa Claudio Cuenca 1784 Cb       vol       0.319   \n",
       "11612  874 - Mini Caraffa Claudio Cuenca 1784 Cb       vol       0.317   \n",
       "11613  874 - Mini Caraffa Claudio Cuenca 1784 Cb       vol       0.509   \n",
       "11614  874 - Mini Caraffa Claudio Cuenca 1784 Cb       vol      -0.571   \n",
       "\n",
       "año               sector  \n",
       "0                  BAZAR  \n",
       "1      ELECTRODOMESTICOS  \n",
       "2                 P.G.C.  \n",
       "3                 TEXTIL  \n",
       "4                  BAZAR  \n",
       "...                  ...  \n",
       "11610  ELECTRODOMESTICOS  \n",
       "11611              OTROS  \n",
       "11612             P.G.C.  \n",
       "11613   PRODUCTOS FRESCO  \n",
       "11614             TEXTIL  \n",
       "\n",
       "[11615 rows x 6 columns]"
      ]
     },
     "execution_count": 196,
     "metadata": {},
     "output_type": "execute_result"
    }
   ],
   "source": [
    "df_final_consolidado_sector = df_sector_comparable.drop(columns=[2024, 2025])\n",
    "df_final_consolidado_sector[['direccion', 'numero_operacional', 'punto_operacional', 'categoria', 'progresion', 'sector']]"
   ]
  },
  {
   "cell_type": "code",
   "execution_count": 197,
   "id": "8599ca6c",
   "metadata": {},
   "outputs": [],
   "source": [
    "df_final_consolidado_total = pd.concat([df_final_consolidado_sector, df_final_consolidado_tienda])\n",
    "df_final_consolidado_total = df_final_consolidado_total.pivot_table(values='progresion', index=['direccion', 'punto_operacional'], columns=['categoria', 'sector'], aggfunc='sum').reset_index()"
   ]
  },
  {
   "cell_type": "markdown",
   "id": "7b15aa2e",
   "metadata": {},
   "source": [
    "### Trabajo sobre el ultimo punto \"Grupo de Familia\". Agrupo, joineo con el padron, me quedo con los SC, calculo el gap y la CMG, limpio la info y presento"
   ]
  },
  {
   "cell_type": "code",
   "execution_count": 198,
   "id": "5f0987ac",
   "metadata": {},
   "outputs": [],
   "source": [
    "df_volumen_grupo_de_familia = df_volumen.groupby(['año', 'mes', 'direccion', 'numero_operacional', 'punto_operacional', 'categoria', 'sector', 'seccion', 'grupo_de_familia'])['valores'].sum().reset_index()"
   ]
  },
  {
   "cell_type": "code",
   "execution_count": 199,
   "id": "fec39dfa",
   "metadata": {},
   "outputs": [],
   "source": [
    "df_volumen_grupo_de_familia_join = pd.merge(df_volumen_grupo_de_familia, padron[['numero_operacional', 'sep']], on='numero_operacional', how='left')"
   ]
  },
  {
   "cell_type": "code",
   "execution_count": 200,
   "id": "4aa2188b",
   "metadata": {},
   "outputs": [],
   "source": [
    "df_volumen_grupo_de_familia_comparable = df_volumen_grupo_de_familia_join[df_volumen_grupo_de_familia_join['sep'] == 'SC']"
   ]
  },
  {
   "cell_type": "code",
   "execution_count": 201,
   "id": "30ea84fb",
   "metadata": {},
   "outputs": [],
   "source": [
    "df_volumen_grupo_de_familia_comparable = df_volumen_grupo_de_familia_comparable.pivot_table(values='valores', index=['direccion', 'grupo_de_familia', 'seccion', 'categoria'], columns='año', aggfunc='sum').reset_index()"
   ]
  },
  {
   "cell_type": "code",
   "execution_count": 202,
   "id": "e1a229a4",
   "metadata": {},
   "outputs": [],
   "source": [
    "df_volumen_grupo_de_familia_comparable[2024] = df_volumen_grupo_de_familia_comparable[2024].fillna(0)"
   ]
  },
  {
   "cell_type": "code",
   "execution_count": 203,
   "id": "68957332",
   "metadata": {},
   "outputs": [],
   "source": [
    "df_volumen_grupo_de_familia_comparable['GAP'] = df_volumen_grupo_de_familia_comparable[2025] - df_volumen_grupo_de_familia_comparable[2024]"
   ]
  },
  {
   "cell_type": "code",
   "execution_count": 204,
   "id": "6962e294",
   "metadata": {},
   "outputs": [],
   "source": [
    "df_volumen_grupo_de_familia_comparable['progresion'] = (df_volumen_grupo_de_familia_comparable[2025] / df_volumen_grupo_de_familia_comparable[2024]) - 1"
   ]
  },
  {
   "cell_type": "code",
   "execution_count": 205,
   "id": "b783ef74",
   "metadata": {},
   "outputs": [
    {
     "data": {
      "text/html": [
       "<div>\n",
       "<style scoped>\n",
       "    .dataframe tbody tr th:only-of-type {\n",
       "        vertical-align: middle;\n",
       "    }\n",
       "\n",
       "    .dataframe tbody tr th {\n",
       "        vertical-align: top;\n",
       "    }\n",
       "\n",
       "    .dataframe thead th {\n",
       "        text-align: right;\n",
       "    }\n",
       "</style>\n",
       "<table border=\"1\" class=\"dataframe\">\n",
       "  <thead>\n",
       "    <tr style=\"text-align: right;\">\n",
       "      <th>año</th>\n",
       "      <th>direccion</th>\n",
       "      <th>grupo_de_familia</th>\n",
       "      <th>seccion</th>\n",
       "      <th>categoria</th>\n",
       "      <th>2024</th>\n",
       "      <th>2025</th>\n",
       "      <th>GAP</th>\n",
       "      <th>progresion</th>\n",
       "    </tr>\n",
       "  </thead>\n",
       "  <tbody>\n",
       "    <tr>\n",
       "      <th>132</th>\n",
       "      <td>HIPERMERCADO</td>\n",
       "      <td>FOTOGRAFIA</td>\n",
       "      <td>FOTOGRAFIA</td>\n",
       "      <td>vol</td>\n",
       "      <td>1.00</td>\n",
       "      <td>330.0</td>\n",
       "      <td>329.00</td>\n",
       "      <td>329.000000</td>\n",
       "    </tr>\n",
       "    <tr>\n",
       "      <th>410</th>\n",
       "      <td>MARKET</td>\n",
       "      <td>MERCADO DEL MAR CONGELADO</td>\n",
       "      <td>PESCADERIA</td>\n",
       "      <td>vol</td>\n",
       "      <td>5.47</td>\n",
       "      <td>1164.7</td>\n",
       "      <td>1159.23</td>\n",
       "      <td>211.925046</td>\n",
       "    </tr>\n",
       "    <tr>\n",
       "      <th>291</th>\n",
       "      <td>MARKET</td>\n",
       "      <td>BAGAJE</td>\n",
       "      <td>LIBRERIA</td>\n",
       "      <td>vol</td>\n",
       "      <td>6.00</td>\n",
       "      <td>405.0</td>\n",
       "      <td>399.00</td>\n",
       "      <td>66.500000</td>\n",
       "    </tr>\n",
       "    <tr>\n",
       "      <th>304</th>\n",
       "      <td>MARKET</td>\n",
       "      <td>CALZADO AGUA VERANO</td>\n",
       "      <td>CALZADO</td>\n",
       "      <td>vol</td>\n",
       "      <td>1.00</td>\n",
       "      <td>63.0</td>\n",
       "      <td>62.00</td>\n",
       "      <td>62.000000</td>\n",
       "    </tr>\n",
       "    <tr>\n",
       "      <th>121</th>\n",
       "      <td>HIPERMERCADO</td>\n",
       "      <td>ESTACIONAL NAVIDAD</td>\n",
       "      <td>SECO</td>\n",
       "      <td>vol</td>\n",
       "      <td>277.00</td>\n",
       "      <td>12839.0</td>\n",
       "      <td>12562.00</td>\n",
       "      <td>45.350181</td>\n",
       "    </tr>\n",
       "    <tr>\n",
       "      <th>...</th>\n",
       "      <td>...</td>\n",
       "      <td>...</td>\n",
       "      <td>...</td>\n",
       "      <td>...</td>\n",
       "      <td>...</td>\n",
       "      <td>...</td>\n",
       "      <td>...</td>\n",
       "      <td>...</td>\n",
       "    </tr>\n",
       "    <tr>\n",
       "      <th>429</th>\n",
       "      <td>MARKET</td>\n",
       "      <td>PLANTINES</td>\n",
       "      <td>FRUTAS Y VERDURAS</td>\n",
       "      <td>vol</td>\n",
       "      <td>1572.00</td>\n",
       "      <td>13.0</td>\n",
       "      <td>-1559.00</td>\n",
       "      <td>-0.991730</td>\n",
       "    </tr>\n",
       "    <tr>\n",
       "      <th>842</th>\n",
       "      <td>PROXIMIDAD</td>\n",
       "      <td>ROPA DE BANO PERMANENTE</td>\n",
       "      <td>BLANCO</td>\n",
       "      <td>vol</td>\n",
       "      <td>203.00</td>\n",
       "      <td>1.0</td>\n",
       "      <td>-202.00</td>\n",
       "      <td>-0.995074</td>\n",
       "    </tr>\n",
       "    <tr>\n",
       "      <th>265</th>\n",
       "      <td>HIPERMERCADO</td>\n",
       "      <td>VIDEOJUEGOS</td>\n",
       "      <td>IMAGEN</td>\n",
       "      <td>vol</td>\n",
       "      <td>7.00</td>\n",
       "      <td>0.0</td>\n",
       "      <td>-7.00</td>\n",
       "      <td>-1.000000</td>\n",
       "    </tr>\n",
       "    <tr>\n",
       "      <th>463</th>\n",
       "      <td>MARKET</td>\n",
       "      <td>TARJETA GIFT CARD</td>\n",
       "      <td>OTRAS VENTAS</td>\n",
       "      <td>vol</td>\n",
       "      <td>-1.00</td>\n",
       "      <td>0.0</td>\n",
       "      <td>1.00</td>\n",
       "      <td>-1.000000</td>\n",
       "    </tr>\n",
       "    <tr>\n",
       "      <th>676</th>\n",
       "      <td>MAXI</td>\n",
       "      <td>TARJETA GIFT CARD</td>\n",
       "      <td>OTRAS VENTAS</td>\n",
       "      <td>vol</td>\n",
       "      <td>-1.00</td>\n",
       "      <td>0.0</td>\n",
       "      <td>1.00</td>\n",
       "      <td>-1.000000</td>\n",
       "    </tr>\n",
       "  </tbody>\n",
       "</table>\n",
       "<p>870 rows × 8 columns</p>\n",
       "</div>"
      ],
      "text/plain": [
       "año     direccion           grupo_de_familia            seccion categoria  \\\n",
       "132  HIPERMERCADO                 FOTOGRAFIA         FOTOGRAFIA       vol   \n",
       "410        MARKET  MERCADO DEL MAR CONGELADO         PESCADERIA       vol   \n",
       "291        MARKET                     BAGAJE           LIBRERIA       vol   \n",
       "304        MARKET        CALZADO AGUA VERANO            CALZADO       vol   \n",
       "121  HIPERMERCADO         ESTACIONAL NAVIDAD               SECO       vol   \n",
       "..            ...                        ...                ...       ...   \n",
       "429        MARKET                  PLANTINES  FRUTAS Y VERDURAS       vol   \n",
       "842    PROXIMIDAD    ROPA DE BANO PERMANENTE             BLANCO       vol   \n",
       "265  HIPERMERCADO                VIDEOJUEGOS             IMAGEN       vol   \n",
       "463        MARKET          TARJETA GIFT CARD       OTRAS VENTAS       vol   \n",
       "676          MAXI          TARJETA GIFT CARD       OTRAS VENTAS       vol   \n",
       "\n",
       "año     2024     2025       GAP  progresion  \n",
       "132     1.00    330.0    329.00  329.000000  \n",
       "410     5.47   1164.7   1159.23  211.925046  \n",
       "291     6.00    405.0    399.00   66.500000  \n",
       "304     1.00     63.0     62.00   62.000000  \n",
       "121   277.00  12839.0  12562.00   45.350181  \n",
       "..       ...      ...       ...         ...  \n",
       "429  1572.00     13.0  -1559.00   -0.991730  \n",
       "842   203.00      1.0   -202.00   -0.995074  \n",
       "265     7.00      0.0     -7.00   -1.000000  \n",
       "463    -1.00      0.0      1.00   -1.000000  \n",
       "676    -1.00      0.0      1.00   -1.000000  \n",
       "\n",
       "[870 rows x 8 columns]"
      ]
     },
     "execution_count": 205,
     "metadata": {},
     "output_type": "execute_result"
    }
   ],
   "source": [
    "df_volumen_grupo_de_familia_comparable['progresion'] = df_volumen_grupo_de_familia_comparable['progresion'].replace(np.inf, 0)\n",
    "df_volumen_grupo_de_familia_comparable['progresion'] = df_volumen_grupo_de_familia_comparable['progresion'].replace(np.nan, 0)\n",
    "df_volumen_grupo_de_familia_comparable.sort_values('progresion', ascending=False)"
   ]
  },
  {
   "cell_type": "code",
   "execution_count": 206,
   "id": "e5cd3832",
   "metadata": {},
   "outputs": [],
   "source": [
    "df_volumen_grupo_de_familia_comparable['total_2024_direccion'] = df_volumen_grupo_de_familia_comparable.groupby('direccion')[2024].transform('sum')\n",
    "df_volumen_grupo_de_familia_comparable['Cmg'] = df_volumen_grupo_de_familia_comparable['GAP'] / df_volumen_grupo_de_familia_comparable['total_2024_direccion']"
   ]
  },
  {
   "cell_type": "code",
   "execution_count": 207,
   "id": "0d95c362",
   "metadata": {},
   "outputs": [],
   "source": [
    "df_volumen_grupo_de_familia_comparable['Cmg'] = df_volumen_grupo_de_familia_comparable['Cmg'].fillna(0)\n",
    "df_volumen_grupo_de_familia_comparable = df_volumen_grupo_de_familia_comparable.sort_values('Cmg', ascending=False)\n",
    "df_volumen_grupo_de_familia_comparable = df_volumen_grupo_de_familia_comparable.rename(columns={'direccion':'Direccion','grupo_de_familia':'Grupo de familia', 'seccion':'Seccion', 'categoria':'Categoria', 'progresion':'Progresion'})\n",
    "df_volumen_grupo_de_familia_comparable = df_volumen_grupo_de_familia_comparable.drop(columns=['total_2024_direccion'])"
   ]
  },
  {
   "cell_type": "markdown",
   "id": "ccf2b1f3",
   "metadata": {},
   "source": [
    "### Trabajo sobre una bajada de informacion consolidada para realizar un giratorio"
   ]
  },
  {
   "cell_type": "code",
   "execution_count": 208,
   "id": "760fd42f",
   "metadata": {},
   "outputs": [],
   "source": [
    "# Genero un DF auxiliar para realizar una bajada consolidada de informacion para generar un giratorio\n",
    "df_tienda_comparable_aux['sector'] = ''\n",
    "df_tienda_comparable_aux = df_tienda_comparable_aux[['direccion', 'numero_operacional', 'punto_operacional', 'categoria', 'sector', 2024, 2025, 'progresion']]\n",
    "df_tienda_comparable_aux['aux'] = 'tienda'\n",
    "\n",
    "df_formato_comparable_aux = df_formato_comparable.copy()\n",
    "df_formato_comparable_aux['sector'] = ''\n",
    "df_formato_comparable_aux['numero_operacional'] = ''\n",
    "df_formato_comparable_aux['punto_operacional'] = ''\n",
    "df_formato_comparable_aux = df_formato_comparable_aux[['direccion', 'numero_operacional', 'punto_operacional', 'categoria', 'sector', 2024, 2025, 'progresion']]\n",
    "df_formato_comparable_aux['aux'] = 'formato'\n",
    "\n",
    "df_formato_sector_comparable_2_aux = df_formato_sector_comparable_aux.groupby(['direccion', 'categoria', 'sector'])[[2024, 2025]].sum().reset_index()\n",
    "df_formato_sector_comparable_2_aux['progresion'] = round(df_formato_sector_comparable_2_aux[2025] / df_formato_sector_comparable_2_aux[2024] - 1, 3)\n",
    "df_formato_sector_comparable_2_aux['aux'] = 'formato_sector'\n",
    "df_formato_sector_comparable_2_aux['numero_operacional'] = ''\n",
    "df_formato_sector_comparable_2_aux['punto_operacional'] = ''\n",
    "\n",
    "df_formato_sector_comparable_aux['aux'] = 'tienda_sector'\n",
    "\n",
    "df_bajada_consolidada = pd.concat([df_tienda_comparable_aux, df_formato_comparable_aux, df_formato_sector_comparable_aux, df_formato_sector_comparable_2_aux])"
   ]
  },
  {
   "cell_type": "markdown",
   "id": "dcf82857",
   "metadata": {},
   "source": [
    "# GRAFICOS V2"
   ]
  },
  {
   "cell_type": "code",
   "execution_count": 209,
   "id": "0a79ed04",
   "metadata": {},
   "outputs": [],
   "source": [
    "deb_acum = pd.read_csv('data/debitos total CIA Acumulado Briefing 2da semana.csv', encoding='utf-16', header=1, decimal=',')\n",
    "cols = ['Año', 'Mes', 'Direccion', 'Punto Operacional', 'Ventas c/impuesto']\n",
    "vct_acum = pd.read_csv('data/ventas total CIA Acumulado Briefing 2da semana.csv', encoding='utf-16', header=1, usecols=cols)\n",
    "vol_acum = pd.read_csv('data/volumen sin envases total CIA Acumulado Briefing 2da semana.csv', encoding='utf-16', header=1)"
   ]
  },
  {
   "cell_type": "code",
   "execution_count": 210,
   "id": "f5c2c66f",
   "metadata": {},
   "outputs": [],
   "source": [
    "deb_acum = deb_acum.drop(columns=['Indicadores'])\n",
    "vol_acum = vol_acum.drop(columns=['Indicadores'])"
   ]
  },
  {
   "cell_type": "code",
   "execution_count": 211,
   "id": "28cd614c",
   "metadata": {},
   "outputs": [],
   "source": [
    "deb_acum = deb_acum.rename(columns={'Cant. Tickets por Local':'valores'})\n",
    "vol_acum = vol_acum.rename(columns={'VOLUMEN':'valores'})\n",
    "vct_acum = vct_acum.rename(columns={'Ventas c/impuesto':'valores'})"
   ]
  },
  {
   "cell_type": "code",
   "execution_count": 212,
   "id": "fadfe73c",
   "metadata": {},
   "outputs": [],
   "source": [
    "deb_acum['categoria'] = 'deb'\n",
    "vol_acum['categoria'] = 'vol'\n",
    "vct_acum['categoria'] = 'vct'"
   ]
  },
  {
   "cell_type": "code",
   "execution_count": 213,
   "id": "f288226d",
   "metadata": {},
   "outputs": [],
   "source": [
    "vol_acum['valores'] = pd.to_numeric(vol_acum['valores'].str.replace('.','').str.replace(',', '.'))\n",
    "vct_acum['valores'] = pd.to_numeric(vct_acum['valores'].str.replace('.','').str.replace(',', '.'))\n",
    "deb_acum['valores'] = pd.to_numeric(deb_acum['valores'].str.replace('.', ''))"
   ]
  },
  {
   "cell_type": "code",
   "execution_count": 214,
   "id": "7844cce8",
   "metadata": {},
   "outputs": [],
   "source": [
    "acum_join = pd.concat([deb_acum, vol_acum, vct_acum])"
   ]
  },
  {
   "cell_type": "code",
   "execution_count": 215,
   "id": "6ed82816",
   "metadata": {},
   "outputs": [],
   "source": [
    "acum_join.columns = acum_join.columns.str.strip().str.replace(' ', '_').str.lower()"
   ]
  },
  {
   "cell_type": "code",
   "execution_count": 216,
   "id": "b51a870b",
   "metadata": {},
   "outputs": [],
   "source": [
    "acum_join['numero_operacional'] = acum_join['punto_operacional'].str.split(' ').str[0].astype(int)"
   ]
  },
  {
   "cell_type": "code",
   "execution_count": 217,
   "id": "0bdea9e8",
   "metadata": {},
   "outputs": [],
   "source": [
    "acum_join = pd.merge(acum_join, padron[['numero_operacional', 'sep']], how='left')"
   ]
  },
  {
   "cell_type": "code",
   "execution_count": 218,
   "id": "a4d8daf8",
   "metadata": {},
   "outputs": [],
   "source": [
    "acum_join_comparable = acum_join[acum_join['sep'] == 'SC']\n",
    "acum_join_comparable = acum_join_comparable.rename(columns={'mes':'fecha'})\n",
    "acum_join_comparable['mes'] = acum_join_comparable['fecha'].str.split(' ').str[0]\n",
    "\n",
    "acum_join_no_comparable = acum_join\n",
    "acum_join_no_comparable = acum_join_no_comparable.rename(columns={'mes':'fecha'})\n",
    "acum_join_no_comparable['mes'] = acum_join_no_comparable['fecha'].str.split(' ').str[0] "
   ]
  },
  {
   "cell_type": "code",
   "execution_count": 219,
   "id": "703caff7",
   "metadata": {},
   "outputs": [],
   "source": [
    "acum_join_comparable = acum_join_comparable.groupby(['año', 'fecha', 'mes', 'direccion', 'categoria'])['valores'].sum().reset_index()\n",
    "\n",
    "acum_join_no_comparable = acum_join_no_comparable.groupby(['año', 'fecha', 'mes', 'direccion', 'categoria'])['valores'].sum().reset_index()"
   ]
  },
  {
   "cell_type": "code",
   "execution_count": 220,
   "id": "f8ed9c78",
   "metadata": {},
   "outputs": [],
   "source": [
    "meses_orden = {'Enero':1, 'Febrero':2, 'Marzo':3, 'Abril':4, 'Mayo':5, 'Junio':6, 'Julio':7, 'Agosto':8, 'Septiembre':9, 'Octubre':10, 'Noviembre':11, 'Diciembre':12}"
   ]
  },
  {
   "cell_type": "code",
   "execution_count": 221,
   "id": "41a31125",
   "metadata": {},
   "outputs": [],
   "source": [
    "acum_join_comparable['aux'] = acum_join_comparable['mes'].map(meses_orden)\n",
    "\n",
    "acum_join_no_comparable['aux'] = acum_join_no_comparable['mes'].map(meses_orden)"
   ]
  },
  {
   "cell_type": "code",
   "execution_count": 222,
   "id": "1089b741",
   "metadata": {},
   "outputs": [],
   "source": [
    "meses_invertidos = {v:k for k, v in meses_orden.items()}"
   ]
  },
  {
   "cell_type": "code",
   "execution_count": 223,
   "id": "d7d3b2ec",
   "metadata": {},
   "outputs": [],
   "source": [
    "acum_join_comparable.sort_values(by='aux', ascending=True)\n",
    "acum_join_comparable['fecha_completa'] = pd.to_datetime(\n",
    "    '01/' + acum_join_comparable['aux'].astype(str) + '/' + acum_join_comparable['año'].astype(str), format='%d/%m/%Y')\n",
    "mes_comparable = 'Septiembre'\n",
    "fecha_tope = pd.to_datetime('01/'+ str(meses_orden[mes_comparable]) + '/' + '2025', format='%d/%m/%Y')\n",
    "\n",
    "\n",
    "acum_join_no_comparable.sort_values(by='aux', ascending=True)\n",
    "acum_join_no_comparable['fecha_completa'] = pd.to_datetime(\n",
    "    '01/' + acum_join_no_comparable['aux'].astype(str) + '/' + acum_join_no_comparable['año'].astype(str), format='%d/%m/%Y')\n",
    "mes_comparable = 'Septiembre'\n",
    "fecha_tope = pd.to_datetime('01/'+ str(meses_orden[mes_comparable]) + '/' + '2025', format='%d/%m/%Y')"
   ]
  },
  {
   "cell_type": "code",
   "execution_count": 224,
   "id": "a7459ed7",
   "metadata": {},
   "outputs": [],
   "source": [
    "acum_join_comparable = acum_join_comparable[acum_join_comparable['fecha_completa'] <= fecha_tope]\n",
    "\n",
    "acum_join_no_comparable = acum_join_no_comparable[acum_join_no_comparable['fecha_completa'] <= fecha_tope]"
   ]
  },
  {
   "cell_type": "code",
   "execution_count": 225,
   "id": "991f361d",
   "metadata": {},
   "outputs": [],
   "source": [
    "acum_join_comparable = acum_join_comparable.pivot_table(values='valores', columns='año', index=['direccion', 'mes', 'categoria', 'aux'], aggfunc='sum').reset_index()\n",
    "\n",
    "acum_join_no_comparable = acum_join_no_comparable.pivot_table(values='valores', columns='año', index=['direccion', 'mes', 'categoria', 'aux'], aggfunc='sum').reset_index()"
   ]
  },
  {
   "cell_type": "code",
   "execution_count": 226,
   "id": "b981b581",
   "metadata": {},
   "outputs": [],
   "source": [
    "acum_join_comparable['progresion 2024'] = round((acum_join_comparable[2024] / acum_join_comparable[2023]) - 1, 3)\n",
    "acum_join_comparable['progresion 2025'] = round((acum_join_comparable[2025] / acum_join_comparable[2024]) - 1, 3)\n",
    "\n",
    "acum_join_no_comparable['progresion 2024'] = round((acum_join_no_comparable[2024] / acum_join_no_comparable[2023]) - 1, 3)\n",
    "acum_join_no_comparable['progresion 2025'] = round((acum_join_no_comparable[2025] / acum_join_no_comparable[2024]) - 1, 3)"
   ]
  },
  {
   "cell_type": "code",
   "execution_count": 227,
   "id": "f5a54da7",
   "metadata": {},
   "outputs": [],
   "source": [
    "acum_join_comparable = acum_join_comparable.sort_values(by=['direccion', 'categoria' ,'aux'], ascending=[True, True, True])\n",
    "acum_join_comparable = acum_join_comparable.drop(columns=['aux'])\n",
    "\n",
    "acum_join_no_comparable = acum_join_no_comparable.sort_values(by=['direccion', 'categoria' ,'aux'], ascending=[True, True, True])\n",
    "acum_join_no_comparable = acum_join_no_comparable.drop(columns=['aux'])"
   ]
  },
  {
   "cell_type": "markdown",
   "id": "101684f2",
   "metadata": {},
   "source": [
    "### Genero dos bucles para poder realizar varios filtros en las tablas importantes y asi conseguir un archivo por formato donde se muestre la informacion Total a Nivel Formato, Tienda y Sector"
   ]
  },
  {
   "cell_type": "code",
   "execution_count": 228,
   "id": "5b5a53c2",
   "metadata": {},
   "outputs": [
    {
     "name": "stdout",
     "output_type": "stream",
     "text": [
      "Archivo guardado en: results\\Resultados Briefing NO INFORMADO (22-10-2025).xlsx\n",
      "Archivo guardado en: results\\Resultados Briefing PROXIMIDAD (22-10-2025).xlsx\n",
      "Archivo guardado en: results\\Resultados Briefing MARKET (22-10-2025).xlsx\n",
      "Archivo guardado en: results\\Resultados Briefing MAXI (22-10-2025).xlsx\n",
      "Archivo guardado en: results\\Resultados Briefing HIPERMERCADO (22-10-2025).xlsx\n",
      "Archivo guardado en: results\\Resultados Briefing E-COMMERCE (22-10-2025).xlsx\n"
     ]
    }
   ],
   "source": [
    "from pathlib import Path\n",
    "\n",
    "formatos = df_tienda_comparable['direccion'].unique().tolist()\n",
    "categorias = ['vct', 'deb', 'vol']\n",
    "\n",
    "try:\n",
    "    out_dir = Path(\"results\")\n",
    "    out_dir.mkdir(parents=True, exist_ok=True)\n",
    "\n",
    "    for formato in formatos:\n",
    "        out_file = out_dir / f\"Resultados Briefing {formato.upper()} ({datetime.today().strftime('%d-%m-%Y')}).xlsx\"\n",
    "\n",
    "        with pd.ExcelWriter(out_file) as writer:\n",
    "\n",
    "            df_formato_comparable_final[df_formato_comparable_final['direccion'] == formato].to_excel(writer, sheet_name=f'Total Categoria - {formato[0:3]}', index=False)\n",
    "\n",
    "            df_formato_no_comparable_final[df_formato_no_comparable_final['direccion'] == formato].to_excel(writer, sheet_name=f'Total Categoria (Sup Total) - {formato[0:3]}'[0:31], index=False)\n",
    "\n",
    "            df_formato_sector_comparable[df_formato_sector_comparable['direccion'] == formato].to_excel(writer, sheet_name=f'Total Categoria x Sector - {formato[0:3]}', index=False)\n",
    "            \n",
    "            for categoria in categorias:\n",
    "\n",
    "                df_filtrado = df_progresiones_join_sector_tienda[(df_progresiones_join_sector_tienda['Categoria'] == categoria) & (df_progresiones_join_sector_tienda['Direccion'] == formato)]\n",
    "                df_filtrado = df_filtrado.drop(columns=['Direccion'])\n",
    "                \n",
    "                df_filtrado.to_excel(writer, sheet_name=f'{categoria} - {formato[0:3]}', index=False)\n",
    "\n",
    "            df_final_consolidado_total[df_final_consolidado_total['direccion'] == formato].to_excel(writer, sheet_name=f'Info Consolidada - {formato[0:3]}', index=True)\n",
    "            \n",
    "            df_volumen_grupo_de_familia_comparable[df_volumen_grupo_de_familia_comparable['Direccion'] == formato].to_excel(writer, sheet_name=f'GF Consolidada - {formato[0:3]}', index=False)\n",
    "\n",
    "            acum_join_comparable[acum_join_comparable['direccion'] == formato].to_excel(writer, sheet_name=f'Progresiones comp - {formato[0:3]}', index=False)\n",
    "\n",
    "            acum_join_no_comparable[acum_join_no_comparable['direccion'] == formato].to_excel(writer, sheet_name=f'Progresiones total - {formato[0:3]}', index=False)\n",
    "\n",
    "            #Por el momento la quito ya que primero tengo que pensar como realizar el giratorio\n",
    "            #df_bajada_consolidada.to_excel(writer, sheet_name=f'Base Giratorio', index=False)\n",
    "            \n",
    "        print(f\"Archivo guardado en: {out_file}\")\n",
    "\n",
    "except Exception as e:\n",
    "    print(f\"No se logró guardar la información en un archivo Excel. ERROR: {e}\")"
   ]
  }
 ],
 "metadata": {
  "kernelspec": {
   "display_name": "Python 3",
   "language": "python",
   "name": "python3"
  },
  "language_info": {
   "codemirror_mode": {
    "name": "ipython",
    "version": 3
   },
   "file_extension": ".py",
   "mimetype": "text/x-python",
   "name": "python",
   "nbconvert_exporter": "python",
   "pygments_lexer": "ipython3",
   "version": "3.13.5"
  }
 },
 "nbformat": 4,
 "nbformat_minor": 5
}
