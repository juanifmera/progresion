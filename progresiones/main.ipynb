{
 "cells": [
  {
   "cell_type": "code",
   "execution_count": 387,
   "id": "de7034ec",
   "metadata": {},
   "outputs": [],
   "source": [
    "import pandas as pd\n",
    "import numpy as np\n",
    "from datetime import datetime\n",
    "import os\n",
    "from pathlib import Path "
   ]
  },
  {
   "cell_type": "code",
   "execution_count": 388,
   "id": "8079574e",
   "metadata": {},
   "outputs": [
    {
     "data": {
      "text/plain": [
       "'\\nPipeline para consegur las progresiones de un mes Puntial, teniendo en cuenta la SC. Las progresiones se mostraran por Formato, por Tienda, Sector, Seccion y grupo de Familia.\\n'"
      ]
     },
     "execution_count": 388,
     "metadata": {},
     "output_type": "execute_result"
    }
   ],
   "source": [
    "'''\n",
    "Pipeline para consegur las progresiones de un mes Puntial, teniendo en cuenta la SC. Las progresiones se mostraran por Formato, por Tienda, Sector, Seccion y grupo de Familia.\n",
    "'''"
   ]
  },
  {
   "cell_type": "markdown",
   "id": "bf173804",
   "metadata": {},
   "source": [
    "# Carga de Archivos y transformaciones generales"
   ]
  },
  {
   "cell_type": "code",
   "execution_count": 389,
   "id": "96aacbd9",
   "metadata": {},
   "outputs": [],
   "source": [
    "df_ventas_y_volumen = pd.read_csv('data/ventas - agosto.csv', encoding='utf-16', header=1)\n",
    "df_debitos = pd.read_csv('data/debitos - agosto.csv', encoding='utf-16', header=1, sep=',', decimal=',')\n",
    "padron = pd.read_excel('data/padron - agosto.xlsx', header=17)"
   ]
  },
  {
   "cell_type": "markdown",
   "id": "86461812",
   "metadata": {},
   "source": [
    "## Trabajo sobre Ventas y Volumen"
   ]
  },
  {
   "cell_type": "code",
   "execution_count": 390,
   "id": "df989eb2",
   "metadata": {},
   "outputs": [
    {
     "name": "stderr",
     "output_type": "stream",
     "text": [
      "C:\\Users\\juan_mera\\AppData\\Local\\Temp\\ipykernel_20268\\394968719.py:19: SettingWithCopyWarning: \n",
      "A value is trying to be set on a copy of a slice from a DataFrame\n",
      "\n",
      "See the caveats in the documentation: https://pandas.pydata.org/pandas-docs/stable/user_guide/indexing.html#returning-a-view-versus-a-copy\n",
      "  ventas.dropna(subset=['venta'], how='any', inplace=True)\n",
      "C:\\Users\\juan_mera\\AppData\\Local\\Temp\\ipykernel_20268\\394968719.py:20: SettingWithCopyWarning: \n",
      "A value is trying to be set on a copy of a slice from a DataFrame\n",
      "\n",
      "See the caveats in the documentation: https://pandas.pydata.org/pandas-docs/stable/user_guide/indexing.html#returning-a-view-versus-a-copy\n",
      "  volumen.dropna(subset=['volumen'], how='any', inplace=True)\n",
      "C:\\Users\\juan_mera\\AppData\\Local\\Temp\\ipykernel_20268\\394968719.py:23: SettingWithCopyWarning: \n",
      "A value is trying to be set on a copy of a slice from a DataFrame.\n",
      "Try using .loc[row_indexer,col_indexer] = value instead\n",
      "\n",
      "See the caveats in the documentation: https://pandas.pydata.org/pandas-docs/stable/user_guide/indexing.html#returning-a-view-versus-a-copy\n",
      "  ventas['venta'] = ventas['venta'].str.replace('.','').str.replace(',','.').astype('float')\n",
      "C:\\Users\\juan_mera\\AppData\\Local\\Temp\\ipykernel_20268\\394968719.py:24: SettingWithCopyWarning: \n",
      "A value is trying to be set on a copy of a slice from a DataFrame.\n",
      "Try using .loc[row_indexer,col_indexer] = value instead\n",
      "\n",
      "See the caveats in the documentation: https://pandas.pydata.org/pandas-docs/stable/user_guide/indexing.html#returning-a-view-versus-a-copy\n",
      "  volumen['volumen'] = volumen['volumen'].str.split(',').str[0].str.replace('.','').astype('int')\n",
      "C:\\Users\\juan_mera\\AppData\\Local\\Temp\\ipykernel_20268\\394968719.py:27: SettingWithCopyWarning: \n",
      "A value is trying to be set on a copy of a slice from a DataFrame\n",
      "\n",
      "See the caveats in the documentation: https://pandas.pydata.org/pandas-docs/stable/user_guide/indexing.html#returning-a-view-versus-a-copy\n",
      "  ventas.rename(columns={\n",
      "C:\\Users\\juan_mera\\AppData\\Local\\Temp\\ipykernel_20268\\394968719.py:31: SettingWithCopyWarning: \n",
      "A value is trying to be set on a copy of a slice from a DataFrame\n",
      "\n",
      "See the caveats in the documentation: https://pandas.pydata.org/pandas-docs/stable/user_guide/indexing.html#returning-a-view-versus-a-copy\n",
      "  volumen.rename(columns={\n",
      "C:\\Users\\juan_mera\\AppData\\Local\\Temp\\ipykernel_20268\\394968719.py:37: SettingWithCopyWarning: \n",
      "A value is trying to be set on a copy of a slice from a DataFrame.\n",
      "Try using .loc[row_indexer,col_indexer] = value instead\n",
      "\n",
      "See the caveats in the documentation: https://pandas.pydata.org/pandas-docs/stable/user_guide/indexing.html#returning-a-view-versus-a-copy\n",
      "  volumen['categoria'] = 'VOL'\n"
     ]
    }
   ],
   "source": [
    "#Me quedo unicamente con las columnas importantes\n",
    "df_ventas_y_volumen = df_ventas_y_volumen[['Año', 'Mes', 'Direccion', 'Punto Operacional', 'Sector', 'Seccion', 'Grupo de Familia', 'Ventas c/impuesto', 'Venta en Unidades']]\n",
    "\n",
    "#Renombro las columnas\n",
    "df_ventas_y_volumen.columns = (df_ventas_y_volumen.columns.str.strip().str.lower().str.replace(\" \", \"_\"))\n",
    "df_ventas_y_volumen.rename(columns={\n",
    "    'ventas_c/impuesto':'venta',\n",
    "    'venta_en_unidades':'volumen'\n",
    "}, inplace=True)\n",
    "\n",
    "#Genero una columna para Obtener el ID tienda\n",
    "df_ventas_y_volumen['numero_operacional'] = df_ventas_y_volumen['punto_operacional'].str.split('-').str[0]\n",
    "\n",
    "#Me quedo con las columnas necesarias\n",
    "ventas = df_ventas_y_volumen[['año', 'mes', 'direccion', 'numero_operacional', 'punto_operacional', 'sector', 'seccion', 'grupo_de_familia', 'venta']]\n",
    "volumen = df_ventas_y_volumen[['año', 'mes', 'direccion', 'numero_operacional', 'punto_operacional', 'sector', 'seccion', 'grupo_de_familia', 'volumen']]\n",
    "\n",
    "#Quito los NA de las columans de valores\n",
    "ventas.dropna(subset=['venta'], how='any', inplace=True)\n",
    "volumen.dropna(subset=['volumen'], how='any', inplace=True)\n",
    "\n",
    "#Realizo transformaciones para quitar carateres y convertir las columnas a valores numericos\n",
    "ventas['venta'] = ventas['venta'].str.replace('.','').str.replace(',','.').astype('float')\n",
    "volumen['volumen'] = volumen['volumen'].str.split(',').str[0].str.replace('.','').astype('int')\n",
    "\n",
    "#Renombro las columnas con valores de ambos DF\n",
    "ventas.rename(columns={\n",
    "    'venta':'valores'\n",
    "}, inplace=True)\n",
    "\n",
    "volumen.rename(columns={\n",
    "    'volumen':'valores'\n",
    "}, inplace=True)\n",
    "\n",
    "#Categorizo los valores tanto de volumne como de Ventas\n",
    "ventas['categoria'] = 'VCT'\n",
    "volumen['categoria'] = 'VOL'\n",
    "\n",
    "#Agrupo las ventas\n",
    "ventas_agrupado = ventas.groupby(['año', 'mes', 'direccion', 'numero_operacional', 'punto_operacional', 'categoria'])['valores'].sum().reset_index()\n",
    "\n",
    "#Quito Envases del Volumen y Agrupo\n",
    "volumen_sin_vol = volumen[~volumen['grupo_de_familia'].str.contains('ENVASES')]\n",
    "volumen_agrupado = volumen_sin_vol.groupby(['año', 'mes', 'direccion', 'numero_operacional', 'punto_operacional', 'categoria'])['valores'].sum().reset_index()"
   ]
  },
  {
   "cell_type": "markdown",
   "id": "0c9caa79",
   "metadata": {},
   "source": [
    "## Trabajo sobre Debitos"
   ]
  },
  {
   "cell_type": "code",
   "execution_count": 391,
   "id": "dde8413a",
   "metadata": {},
   "outputs": [
    {
     "name": "stderr",
     "output_type": "stream",
     "text": [
      "C:\\Users\\juan_mera\\AppData\\Local\\Temp\\ipykernel_20268\\3003591098.py:15: SettingWithCopyWarning: \n",
      "A value is trying to be set on a copy of a slice from a DataFrame\n",
      "\n",
      "See the caveats in the documentation: https://pandas.pydata.org/pandas-docs/stable/user_guide/indexing.html#returning-a-view-versus-a-copy\n",
      "  debitos_agrupados.dropna(subset=['valores'], how='any', inplace=True)\n",
      "C:\\Users\\juan_mera\\AppData\\Local\\Temp\\ipykernel_20268\\3003591098.py:17: SettingWithCopyWarning: \n",
      "A value is trying to be set on a copy of a slice from a DataFrame.\n",
      "Try using .loc[row_indexer,col_indexer] = value instead\n",
      "\n",
      "See the caveats in the documentation: https://pandas.pydata.org/pandas-docs/stable/user_guide/indexing.html#returning-a-view-versus-a-copy\n",
      "  debitos_agrupados['valores'] = debitos_agrupados['valores'].str.replace('.','').astype(int)\n"
     ]
    }
   ],
   "source": [
    "#Renombro el DF\n",
    "debitos_agrupados = df_debitos\n",
    "#Renombro las columnas como corresponden\n",
    "debitos_agrupados.columns = debitos_agrupados.columns.str.lower().str.replace(' ','_')\n",
    "debitos_agrupados.rename(columns={\n",
    "    'cant._tickets_por_local':'valores'\n",
    "}, inplace=True)\n",
    "#Renombro la columna de Debitos a valores\n",
    "debitos_agrupados['categoria'] = 'DEB'\n",
    "#Genero una columna Categorica\n",
    "debitos_agrupados['numero_operacional'] = debitos_agrupados['punto_operacional'].str.split('-').str[0]\n",
    "#Genero columna para el ID tienda\n",
    "debitos_agrupados = debitos_agrupados[['año', 'mes', 'direccion', 'numero_operacional', 'punto_operacional', 'categoria', 'valores']]\n",
    "#Quito nulos numericos de la columna valores\n",
    "debitos_agrupados.dropna(subset=['valores'], how='any', inplace=True)\n",
    "#Convierto la columna de valores a su tipo de datos correspondiente\n",
    "debitos_agrupados['valores'] = debitos_agrupados['valores'].str.replace('.','').astype(int)"
   ]
  },
  {
   "cell_type": "markdown",
   "id": "06d6f0c1",
   "metadata": {},
   "source": [
    "## Trabajo sobre el padron"
   ]
  },
  {
   "cell_type": "code",
   "execution_count": 392,
   "id": "f82ae80e",
   "metadata": {},
   "outputs": [],
   "source": [
    "#Cargo el padron\n",
    "padron = pd.read_excel('data/padron - agosto.xlsx', header=17)\n",
    "#Selecciono las columnas que me sirven del padron\n",
    "padron = padron[['N°', 'NOMBRE', 'Fecha apertura', 'ORGANIZACIÓN ', 'M² SALÓN', 'M² PGC', 'M² PFT', 'M² BAZAR', 'M² Electro', 'M² Textil', 'M² Pls', 'M² GALERIAS', 'PROVINCIA', 'M² Parcking', 'FIN DE CIERRE', 'ENE.2', 'FEB.2', 'MAR.2', 'ABR.2', 'MAY.2', 'JUN.2', 'JUL.2', 'AGO.2', 'SEP.2', 'OCT.2', 'NOV.2', 'DIC.2']]\n",
    "#Cambio de nombres en el padron\n",
    "padron.columns = (\n",
    "    padron.columns\n",
    "    .str.lower()\n",
    "    .str.strip()\n",
    "    .str.replace(' ', '_', regex=False)\n",
    "    .str.replace('m²', 'm', regex=False)\n",
    "    .str.replace('.2','')\n",
    ")\n",
    "padron.columns\n",
    "#Formateo la fecha para que tenga sentido\n",
    "padron['fecha_apertura'] = padron['fecha_apertura'].dt.strftime('%d/%m/%Y')\n",
    "#Cambio el nombre de la columna N por \"Numero Operacional\"\n",
    "padron.rename(columns={'n°':'numero_operacional'}, inplace=True)\n",
    "#Quito los valores nulos utilizando como referencia la columna Numero Operacional, nombre y fecha apertura\n",
    "padron.dropna(subset=['numero_operacional', 'nombre', 'fecha_apertura', 'ago'], how='any', inplace=True)\n",
    "#Genero una funcion para convertir los valores de una columna a mayuscula\n",
    "def maysc(df: pd.DataFrame, columna: str):\n",
    "    df[columna] = df[columna].str.upper()\n",
    "    #Aplico la formula a la columna 'ago' para que todos los valores sean en mayuscula\n",
    "maysc(padron, 'ago')\n",
    "#Coloco el numero operacional como numero\n",
    "padron['numero_operacional'] = padron['numero_operacional'].astype(int)"
   ]
  },
  {
   "cell_type": "markdown",
   "id": "a2cfa673",
   "metadata": {},
   "source": [
    "## Concateno todos los df (venta, debito y volumen) y lo joineo con el padron"
   ]
  },
  {
   "cell_type": "code",
   "execution_count": 393,
   "id": "e2c6463f",
   "metadata": {},
   "outputs": [],
   "source": [
    "df = pd.concat([ventas_agrupado, volumen_agrupado, debitos_agrupados])\n",
    "#Convierto el ID a numero\n",
    "df['numero_operacional'] = df['numero_operacional'].astype(int)"
   ]
  },
  {
   "cell_type": "code",
   "execution_count": 394,
   "id": "a9cce894",
   "metadata": {},
   "outputs": [],
   "source": [
    "# Genero el Join del df Agupado con el Padron con el objetivo de quedarme unicamente con aquellas tiendas Comparables\n",
    "df_join = df.merge(padron, how='left', on='numero_operacional')"
   ]
  },
  {
   "cell_type": "markdown",
   "id": "a1c721f5",
   "metadata": {},
   "source": [
    "## Trabajo sobre Progresiones Total Formato"
   ]
  },
  {
   "cell_type": "code",
   "execution_count": 395,
   "id": "d553cb22",
   "metadata": {},
   "outputs": [],
   "source": [
    "#Me quedo unicamente con las columnas que me sirven del DF Joineado (ACA TENGO LA SC DEL MES)\n",
    "df_join = df_join[['año', 'mes', 'direccion', 'numero_operacional', 'punto_operacional', 'fecha_apertura', 'fin_de_cierre', 'provincia','categoria', 'valores', 'ago']]\n",
    "#Filtro unicamente las lineas que sean Superficie Comparable\n",
    "df_join_sc = df_join[df_join['ago'] == 'SC']\n",
    "df_progresiones_total_carrefour = df_join_sc.groupby(['año','categoria'])['valores'].sum().reset_index().pivot_table('valores', ['categoria'], 'año', 'sum').reset_index()\n",
    "#Genero la Columna de Progresiones\n",
    "df_progresiones_total_carrefour['progresion'] = round(((df_progresiones_total_carrefour[2025] / df_progresiones_total_carrefour[2024]) - 1) * 100, 1)\n"
   ]
  },
  {
   "cell_type": "markdown",
   "id": "f9e741bf",
   "metadata": {},
   "source": [
    "## Trabajo sobre Progresiones por Formato"
   ]
  },
  {
   "cell_type": "code",
   "execution_count": 396,
   "id": "86f30547",
   "metadata": {},
   "outputs": [],
   "source": [
    "#Agrupo el df por año, direccion y categoria para pivotrear y construir un df para realizar las progresiones\n",
    "df_progresiones_formato = df_join_sc.groupby(['año', 'direccion','categoria'])['valores'].sum().reset_index().pivot_table('valores', ['direccion', 'categoria'], 'año', 'sum').reset_index()\n",
    "#Genero la Columna de Progresiones\n",
    "df_progresiones_formato['progresion'] = round(((df_progresiones_formato[2025] / df_progresiones_formato[2024]) - 1) * 100, 1)\n",
    "#Pivoteo nuevamente la informacion para que este en un formato mas legible (Wide y no Long)\n",
    "df_progresiones_formato = df_progresiones_formato.pivot_table([2024, 2025, 'progresion'], 'direccion', 'categoria').sort_values(by=('progresion', 'VOL'), ascending=False)"
   ]
  },
  {
   "cell_type": "markdown",
   "id": "18c9912c",
   "metadata": {},
   "source": [
    "## Trabajo sobre Progresiones por Provincia"
   ]
  },
  {
   "cell_type": "code",
   "execution_count": 397,
   "id": "0f0d4c61",
   "metadata": {},
   "outputs": [],
   "source": [
    "df_progresiones_provincia = df_join_sc.groupby(['año', 'provincia','categoria'])['valores'].sum().reset_index().pivot_table('valores', ['provincia', 'categoria'], 'año', 'sum').reset_index()\n",
    "#Genero la Columna de Progresiones\n",
    "df_progresiones_provincia['progresion'] = round(((df_progresiones_provincia[2025] / df_progresiones_provincia[2024]) - 1) * 100, 1)\n",
    "#Pivoteo nuevamente la informacion para que este en un provincia mas legible (Wide y no Long)\n",
    "df_progresiones_provincia = df_progresiones_provincia.pivot_table([2024, 2025, 'progresion'], 'provincia', 'categoria').sort_values(by=('progresion', 'VOL'), ascending=False)"
   ]
  },
  {
   "cell_type": "markdown",
   "id": "19ecab0d",
   "metadata": {},
   "source": [
    "## Trabajo sobre Progresiones por Tiendas / Formatos"
   ]
  },
  {
   "cell_type": "code",
   "execution_count": 398,
   "id": "29a005e0",
   "metadata": {},
   "outputs": [],
   "source": [
    "#Agrupo el DF joineado con el padron y ya con la superficie comparable y agrego las tiendas\n",
    "df_progresiones_tiendas = df_join_sc.groupby(['año', 'direccion', 'punto_operacional','categoria'])['valores'].sum().reset_index().pivot_table('valores', ['direccion', 'punto_operacional', 'categoria'], 'año', 'sum').reset_index()\n",
    "#Genero las Progresiones\n",
    "df_progresiones_tiendas['progresion'] = round(((df_progresiones_tiendas[2025] / df_progresiones_tiendas[2024]) - 1) * 100, 1)\n",
    "#Pivoteo la Informacion para mostrar en unformato Wide (Mas legible) y no un un formato long (Mas estructura para trabajar)\n",
    "df_progresiones_tiendas = df_progresiones_tiendas.pivot_table(values=[2024, 2025, 'progresion'], index=['direccion', 'punto_operacional'], columns='categoria').reset_index().sort_values(by=['direccion', ('progresion', 'VOL')], ascending=[False, False])"
   ]
  },
  {
   "cell_type": "markdown",
   "id": "bceb18d9",
   "metadata": {},
   "source": [
    "## Trabajo sobre Progresiones por Sector Total (Solo Vol y VCT porque Debitos llega hasta el detalle de Tiendas)\n",
    "\n",
    "### Concateno las ventas y el volumen sin envases, lo cruzo con el padron, me quedo con los valores comparables segun el mes, genero tres df agrupados por sector, seccion y grupo de familia"
   ]
  },
  {
   "cell_type": "code",
   "execution_count": 399,
   "id": "5dad232e",
   "metadata": {},
   "outputs": [],
   "source": [
    "#Concateno las ventas con el volumen sin Envases con el objetivo de agruparlo por sus distintas carecteristicas y  asi conseguir las progresiones totales por Sector, seccion y grupo de familia\n",
    "df_venta_volumen = pd.concat([ventas, volumen_sin_vol])\n",
    "#Convierto la columna Numero Operacional para realizar el merge con el padron\n",
    "df_venta_volumen['numero_operacional'] = df_venta_volumen['numero_operacional'].astype(int) \n",
    "df_venta_volumen = df_venta_volumen.merge(padron, how='left', on='numero_operacional')\n",
    "#Me quedo unicamente con las columnas que me sirven y los valores comparables\n",
    "df_venta_volumen = df_venta_volumen[['año', 'mes', 'direccion', 'numero_operacional', 'punto_operacional', 'sector', 'seccion', 'grupo_de_familia','fecha_apertura', 'fin_de_cierre', 'provincia', 'categoria', 'valores', 'ago']]\n",
    "df_venta_volumen = df_venta_volumen[df_venta_volumen['ago'] == 'SC'] \n",
    "#Agrupo por sector\n",
    "df_venta_volumen_agrupado_sector = df_venta_volumen.groupby(['año', 'mes', 'direccion', 'numero_operacional', 'punto_operacional', 'sector', 'categoria'])['valores'].sum().reset_index()\n",
    "#Agrupo por Seccion\n",
    "df_venta_volumen_agrupado_seccion = df_venta_volumen.groupby(['año', 'mes', 'direccion', 'numero_operacional', 'punto_operacional', 'seccion', 'categoria'])['valores'].sum().reset_index()\n",
    "#Agrupo por grupo de familia\n",
    "df_venta_volumen_agrupado_grupo_familia = df_venta_volumen.groupby(['año', 'mes', 'direccion', 'numero_operacional', 'punto_operacional', 'grupo_de_familia', 'categoria'])['valores'].sum().reset_index()"
   ]
  },
  {
   "cell_type": "markdown",
   "id": "6c4f40ec",
   "metadata": {},
   "source": [
    "## Trabajo sobre los Sectores"
   ]
  },
  {
   "cell_type": "code",
   "execution_count": 400,
   "id": "a15a5399",
   "metadata": {},
   "outputs": [],
   "source": [
    "#Pivoteo la Info para generar las Progresiones\n",
    "sectores_total = df_venta_volumen_agrupado_sector.groupby(['año', 'mes', 'direccion', 'sector', 'categoria'])['valores'].sum().reset_index().pivot_table(values='valores', index=['sector', 'categoria'], columns='año', aggfunc='sum').reset_index()\n",
    "#Genero las progresiones por Sector\n",
    "sectores_total['progresion'] = round(((sectores_total[2025] / sectores_total[2024])-1)*100,1)\n",
    "#Pivoteo la Informacion para disponibilizar la informacion en formato wide y no long\n",
    "progresion_sectores_total = sectores_total.pivot_table(values=[2024, 2025, 'progresion'], index='sector', columns='categoria', aggfunc='sum').sort_values(by=('progresion', 'VOL'), ascending=False)"
   ]
  },
  {
   "cell_type": "markdown",
   "id": "bc37424e",
   "metadata": {},
   "source": [
    "## Trabajo sobre las secciones"
   ]
  },
  {
   "cell_type": "code",
   "execution_count": 401,
   "id": "de696d51",
   "metadata": {},
   "outputs": [],
   "source": [
    "#Pivoteo la Info para generar las Progresiones\n",
    "seccion_total = df_venta_volumen_agrupado_seccion.groupby(['año', 'mes', 'direccion', 'seccion', 'categoria'])['valores'].sum().reset_index().pivot_table(values='valores', index=['seccion', 'categoria'], columns='año', aggfunc='sum').reset_index()\n",
    "#Genero las progresiones por seccion\n",
    "seccion_total['progresion'] = round(((seccion_total[2025] / seccion_total[2024])-1)*100,1)\n",
    "#Pivoteo la Informacion para disponibilizar la informacion en formato wide y no long\n",
    "progresion_seccion_total = seccion_total.pivot_table(values=[2024, 2025, 'progresion'], index='seccion', columns='categoria', aggfunc='sum').sort_values(by=('progresion', 'VOL'), ascending=False)"
   ]
  },
  {
   "cell_type": "markdown",
   "id": "882051f3",
   "metadata": {},
   "source": [
    "## Trabajo sobre los Grupos de Familia"
   ]
  },
  {
   "cell_type": "code",
   "execution_count": 402,
   "id": "508c3b1d",
   "metadata": {},
   "outputs": [],
   "source": [
    "#Pivoteo la Info para generar las Progrgrupo_de_familia\n",
    "grupo_de_familia_total = df_venta_volumen_agrupado_grupo_familia.groupby(['año', 'mes', 'direccion', 'grupo_de_familia', 'categoria'])['valores'].sum().reset_index().pivot_table(values='valores', index=['grupo_de_familia', 'categoria'], columns='año', aggfunc='sum').reset_index()\n",
    "#Genero las progresiones por grupo_de_familia\n",
    "grupo_de_familia_total['progresion'] = round(((grupo_de_familia_total[2025] / grupo_de_familia_total[2024])-1)*100,1)\n",
    "#Pivoteo la Informacion para disponibilizar la informacion en formato wide y no long\n",
    "progresion_grupo_de_familia_total = grupo_de_familia_total.pivot_table(values=[2024, 2025, 'progresion'], index='grupo_de_familia', columns='categoria', aggfunc='sum').sort_values(by=('progresion', 'VOL'), ascending=False)"
   ]
  },
  {
   "cell_type": "markdown",
   "id": "e1a6ea0d",
   "metadata": {},
   "source": [
    "## Trabajo sobre Ventas y Vol Aperturado por Formato, Tienda, sector, seccion en una misma Tab"
   ]
  },
  {
   "cell_type": "code",
   "execution_count": 403,
   "id": "7065c7a2",
   "metadata": {},
   "outputs": [],
   "source": [
    "#Agrupo la informacion de las ventas y volumen por sector, seccion y GF. El problema aca es que en una misma tabla no puedo poner subtotales de sector seccion por tienda, por lo que tengo que generar tres tablas diferentes, cada una de estas aperturadas por Tienda y luego (Sector/seccion/GF)\n",
    "df_aperturado = df_venta_volumen.groupby(['año', 'mes', 'direccion', 'numero_operacional', 'punto_operacional', 'sector', 'seccion', 'grupo_de_familia', 'categoria'])['valores'].sum().reset_index().pivot_table(values='valores', columns='año', index=['direccion', 'punto_operacional', 'sector', 'seccion', 'grupo_de_familia', 'categoria'], aggfunc='sum').reset_index()\n",
    "#Obtengo la informacion correspondiente\n",
    "df_tienda_sector = df_aperturado.groupby(['direccion', 'punto_operacional', 'sector', 'categoria'])[[2024, 2025]].sum()\n",
    "df_tienda_seccion = df_aperturado.groupby(['direccion', 'punto_operacional', 'seccion', 'categoria'])[[2024, 2025]].sum()\n",
    "df_tienda_grupo_de_familia = df_aperturado.groupby(['direccion', 'punto_operacional', 'grupo_de_familia', 'categoria'])[[2024, 2025]].sum()"
   ]
  },
  {
   "cell_type": "code",
   "execution_count": 404,
   "id": "5e9dffc3",
   "metadata": {},
   "outputs": [],
   "source": [
    "#Calculo las progresiones\n",
    "df_tienda_sector['progresion'] = round(((df_tienda_sector[2025] /df_tienda_sector[2024] -1) *100),1)\n",
    "df_tienda_seccion['progresion'] = round(((df_tienda_seccion[2025] /df_tienda_seccion[2024] -1) *100),1)\n",
    "df_tienda_grupo_de_familia['progresion'] = round(((df_tienda_grupo_de_familia[2025] /df_tienda_grupo_de_familia[2024] -1) *100),1)\n",
    "#Reseteo los index\n",
    "df_tienda_sector = df_tienda_sector.reset_index()\n",
    "df_tienda_seccion = df_tienda_seccion.reset_index()\n",
    "df_tienda_grupo_de_familia = df_tienda_grupo_de_familia.reset_index()\n",
    "#Ordeno los valores por su volumen \n",
    "df_tienda_sector = df_tienda_sector.sort_values(by=['direccion', 'punto_operacional', 'sector', 'progresion'], ascending=[False, False, False, False])\n",
    "df_tienda_seccion = df_tienda_seccion = df_tienda_seccion.sort_values(by=['direccion', 'punto_operacional', 'seccion', 'progresion'], ascending=[False, False, False, False])\n",
    "df_tienda_grupo_de_familia = df_tienda_grupo_de_familia = df_tienda_grupo_de_familia.sort_values(by=['direccion', 'punto_operacional', 'grupo_de_familia', 'progresion'], ascending=[False, False, False, False])\n",
    "#Pivoteo para presentar en un formato mas legible\n",
    "df_tienda_sector = df_tienda_sector.pivot_table(values=[2024, 2025, 'progresion'], columns='categoria', index=['direccion', 'punto_operacional', 'sector'], aggfunc='sum').reset_index().sort_values(by=[('direccion',''), ('punto_operacional',    ''), ('sector',    ''), ('progresion', 'VOL')], ascending=[False, False, False, False])\n",
    "df_tienda_seccion = df_tienda_seccion.pivot_table(values=[2024, 2025, 'progresion'], columns='categoria', index=['direccion', 'punto_operacional', 'seccion'], aggfunc='sum').reset_index().sort_values(by=[('direccion',''), ('punto_operacional',    ''), ('seccion',    ''), ('progresion', 'VOL')], ascending=[False, False, False, False])\n",
    "df_tienda_grupo_de_familia = df_tienda_grupo_de_familia.pivot_table(values=[2024, 2025, 'progresion'], columns='categoria', index=['direccion', 'punto_operacional', 'grupo_de_familia'], aggfunc='sum').reset_index().sort_values(by=[('direccion',''), ('punto_operacional',    ''), ('grupo_de_familia',    ''), ('progresion', 'VOL')], ascending=[False, False, False, False])"
   ]
  },
  {
   "cell_type": "markdown",
   "id": "74826451",
   "metadata": {},
   "source": [
    "## Exporto todas las tablas a Excel"
   ]
  },
  {
   "cell_type": "code",
   "execution_count": 405,
   "id": "543f1eed",
   "metadata": {},
   "outputs": [
    {
     "name": "stdout",
     "output_type": "stream",
     "text": [
      "Archivo guardado en: results\\Resultados.xlsx\n"
     ]
    }
   ],
   "source": [
    "try:\n",
    "    out_dir = Path(\"results\")\n",
    "    out_dir.mkdir(parents=True, exist_ok=True)\n",
    "    out_file = out_dir / f\"Resultados.xlsx\"\n",
    "\n",
    "    with pd.ExcelWriter(out_file) as writer:\n",
    "        df_progresiones_total_carrefour.to_excel(writer, sheet_name=\"Prog Carrefour - SC\", index=False)\n",
    "        df_progresiones_formato.to_excel(writer, sheet_name=\"Prog x Formatos - SC\", index=True)\n",
    "        df_progresiones_provincia.to_excel(writer, sheet_name=\"Prog x Provincia - SC\", index=True)\n",
    "        df_progresiones_tiendas.to_excel(writer, sheet_name=\"Prog x Tiendas - SC\", index=True)\n",
    "        progresion_sectores_total.to_excel(writer, sheet_name='Progresiones x Sector - SC', index=True)\n",
    "        progresion_seccion_total.to_excel(writer, sheet_name='Progresiones x Seccion - SC', index=True)\n",
    "        progresion_grupo_de_familia_total.to_excel(writer, sheet_name='Progresiones x GF - SC', index=True)\n",
    "        df_tienda_sector.to_excel(writer, sheet_name='Prog Sector x Tienda - SC', index=True)\n",
    "        df_tienda_seccion.to_excel(writer, sheet_name='Prog Seccion x Tienda - SC', index=True)\n",
    "        df_tienda_grupo_de_familia.to_excel(writer, sheet_name='Prog GF x Tienda - SC', index=True)\n",
    "        df_aperturado.to_excel(writer, sheet_name='Prog Aperturado x Tienda - SC', index=True)\n",
    "\n",
    "    print(f\"Archivo guardado en: {out_file}\")\n",
    "\n",
    "except Exception as e:\n",
    "    print(f\"No se logró guardar la información en un archivo Excel. ERROR: {e}\")"
   ]
  }
 ],
 "metadata": {
  "kernelspec": {
   "display_name": "env (3.13.7)",
   "language": "python",
   "name": "python3"
  },
  "language_info": {
   "codemirror_mode": {
    "name": "ipython",
    "version": 3
   },
   "file_extension": ".py",
   "mimetype": "text/x-python",
   "name": "python",
   "nbconvert_exporter": "python",
   "pygments_lexer": "ipython3",
   "version": "3.13.7"
  }
 },
 "nbformat": 4,
 "nbformat_minor": 5
}
