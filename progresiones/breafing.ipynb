{
 "cells": [
  {
   "cell_type": "markdown",
   "id": "3f2f964b",
   "metadata": {},
   "source": [
    "# TODOS LOS FORMATOS"
   ]
  },
  {
   "cell_type": "code",
   "execution_count": 358,
   "id": "55a67370",
   "metadata": {},
   "outputs": [],
   "source": [
    "import pandas as pd\n",
    "from datetime import datetime\n",
    "import numpy as np"
   ]
  },
  {
   "cell_type": "markdown",
   "id": "26e9e99f",
   "metadata": {},
   "source": [
    "### Ventas y Volumen"
   ]
  },
  {
   "cell_type": "code",
   "execution_count": 359,
   "id": "0128f4ee",
   "metadata": {},
   "outputs": [],
   "source": [
    "cols = ['Año', 'Mes', 'Direccion', 'Punto Operacional', 'Sector', 'Seccion', 'Grupo de Familia', 'Ventas c/impuesto', 'Venta en Unidades']\n",
    "df_ventas_vol = pd.read_csv('data/tercer semana - briefing/28 dias/ventas y volumen total cia tercer semana briefing.csv', encoding='utf-16', header=1, usecols=cols, decimal=',')\n",
    "df_ventas_vol.columns = df_ventas_vol.columns.str.lower().str.replace(' ','_')"
   ]
  },
  {
   "cell_type": "code",
   "execution_count": 360,
   "id": "c2732ddb",
   "metadata": {},
   "outputs": [],
   "source": [
    "df_ventas_vol.rename(columns={\n",
    "    'mes':'fecha',\n",
    "    'ventas_c/impuesto':'vct',\n",
    "    'venta_en_unidades':'vol',\n",
    "}, inplace=True)"
   ]
  },
  {
   "cell_type": "code",
   "execution_count": 361,
   "id": "b5585b81",
   "metadata": {},
   "outputs": [],
   "source": [
    "df_ventas_vol['mes'] = df_ventas_vol['fecha'].str.split(' ').str[0]\n",
    "df_ventas_vol['numero_operacional'] = df_ventas_vol['punto_operacional'].str.split(' ').str[0].astype(int)"
   ]
  },
  {
   "cell_type": "markdown",
   "id": "a8657b1d",
   "metadata": {},
   "source": [
    "### Separacion Ventas y Volumen"
   ]
  },
  {
   "cell_type": "code",
   "execution_count": 362,
   "id": "d889dbee",
   "metadata": {},
   "outputs": [
    {
     "name": "stderr",
     "output_type": "stream",
     "text": [
      "C:\\Users\\juan_mera\\AppData\\Local\\Temp\\ipykernel_15932\\3609712812.py:3: SettingWithCopyWarning: \n",
      "A value is trying to be set on a copy of a slice from a DataFrame\n",
      "\n",
      "See the caveats in the documentation: https://pandas.pydata.org/pandas-docs/stable/user_guide/indexing.html#returning-a-view-versus-a-copy\n",
      "  df_ventas.rename(columns={\n",
      "C:\\Users\\juan_mera\\AppData\\Local\\Temp\\ipykernel_15932\\3609712812.py:6: SettingWithCopyWarning: \n",
      "A value is trying to be set on a copy of a slice from a DataFrame\n",
      "\n",
      "See the caveats in the documentation: https://pandas.pydata.org/pandas-docs/stable/user_guide/indexing.html#returning-a-view-versus-a-copy\n",
      "  df_volumen.rename(columns={\n"
     ]
    }
   ],
   "source": [
    "df_ventas = df_ventas_vol[['año', 'fecha', 'direccion', 'punto_operacional', 'sector', 'seccion', 'grupo_de_familia', 'vct', 'mes', 'numero_operacional']]\n",
    "df_volumen = df_ventas_vol[['año', 'fecha', 'direccion', 'punto_operacional', 'sector', 'seccion', 'grupo_de_familia', 'vol', 'mes', 'numero_operacional']]\n",
    "df_ventas.rename(columns={\n",
    "    'vct':'valores'\n",
    "}, inplace=True)\n",
    "df_volumen.rename(columns={\n",
    "    'vol':'valores'\n",
    "}, inplace=True)"
   ]
  },
  {
   "cell_type": "code",
   "execution_count": 363,
   "id": "ded9ccf3",
   "metadata": {},
   "outputs": [],
   "source": [
    "df_ventas['categoria'] = 'vct'\n",
    "df_volumen['categoria'] = 'vol'"
   ]
  },
  {
   "cell_type": "code",
   "execution_count": 364,
   "id": "3658c83f",
   "metadata": {},
   "outputs": [],
   "source": [
    "df_ventas['valores'] = pd.to_numeric(df_ventas['valores'].str.replace('.', '').str.replace(',','.'))\n",
    "df_volumen['valores'] = pd.to_numeric(df_volumen['valores'].str.replace('.', '').str.replace(',','.'))"
   ]
  },
  {
   "cell_type": "markdown",
   "id": "21366daf",
   "metadata": {},
   "source": [
    "### Le quito los envases al volumen"
   ]
  },
  {
   "cell_type": "code",
   "execution_count": 365,
   "id": "6f993490",
   "metadata": {},
   "outputs": [],
   "source": [
    "df_volumen = df_volumen[~df_volumen['grupo_de_familia'].isin(['ENVASES BEBIDAS', 'ENVASES PAGADOS'])]"
   ]
  },
  {
   "cell_type": "code",
   "execution_count": 366,
   "id": "092c705a",
   "metadata": {},
   "outputs": [],
   "source": [
    "df_ventas_tienda = df_ventas.groupby(['año', 'mes', 'direccion', 'numero_operacional', 'punto_operacional', 'categoria'])['valores'].sum().reset_index()\n",
    "df_volumen_tienda = df_volumen.groupby(['año', 'mes', 'direccion', 'numero_operacional', 'punto_operacional', 'categoria'])['valores'].sum().reset_index()"
   ]
  },
  {
   "cell_type": "markdown",
   "id": "e02193bd",
   "metadata": {},
   "source": [
    "### Padron"
   ]
  },
  {
   "cell_type": "code",
   "execution_count": 367,
   "id": "0a39732b",
   "metadata": {},
   "outputs": [],
   "source": [
    "cols = ['N°', 'NOMBRE', 'Fecha apertura', 'BANDERA', 'ORGANIZACIÓN ', 'PROVINCIA', 'FIN DE CIERRE', 'ENE.2', 'FEB.2', 'MAR.2', 'ABR.2', 'MAY.2', 'JUN.2', 'JUL.2', 'AGO.2', 'SEP.2', 'OCT.2', 'NOV.2', 'DIC.2']\n",
    "padron = pd.read_excel('data/tercer semana - briefing/padron.xlsx', header=17, usecols=cols)\n",
    "padron.columns = padron.columns.str.lower().str.strip().str.replace(' ', '_').str.replace('.2', '')\n",
    "padron.rename(columns={\n",
    "    'n°':'numero_operacional',\n",
    "}, inplace=True)"
   ]
  },
  {
   "cell_type": "code",
   "execution_count": 368,
   "id": "2e369c6e",
   "metadata": {},
   "outputs": [],
   "source": [
    "#Elimino las filas que tengan na en su numero, nombre y mes comparable\n",
    "padron = padron.dropna(subset=['numero_operacional', 'nombre', 'sep'], how='any')"
   ]
  },
  {
   "cell_type": "code",
   "execution_count": 369,
   "id": "0434cd8f",
   "metadata": {},
   "outputs": [],
   "source": [
    "padron['numero_operacional'] = padron['numero_operacional'].astype(int)"
   ]
  },
  {
   "cell_type": "markdown",
   "id": "2fe16cd4",
   "metadata": {},
   "source": [
    "### Debitos total Tienda"
   ]
  },
  {
   "cell_type": "code",
   "execution_count": 370,
   "id": "2b9c7ad1",
   "metadata": {},
   "outputs": [],
   "source": [
    "df_debitos_tienda = pd.read_csv('data/tercer semana - briefing/28 dias/debitos x tienda total cia tercer semana briefing.csv', encoding='utf-16', header=1, decimal=',')\n",
    "df_debitos_tienda.columns = df_debitos_tienda.columns.str.lower().str.replace(' ', '_')\n",
    "df_debitos_tienda.rename(columns={\n",
    "    'cant._tickets_por_local':'valores',\n",
    "    'mes':'fecha',\n",
    "}, inplace=True)\n",
    "df_debitos_tienda['valores'] = pd.to_numeric(df_debitos_tienda['valores'].str.replace('.', '').str.replace(',','.'))\n",
    "df_debitos_tienda['mes'] = df_debitos_tienda['fecha'].str.split(' ').str[0]\n",
    "df_debitos_tienda['numero_operacional'] = df_debitos_tienda['punto_operacional'].str.split(' ').str[0].astype(int)\n",
    "df_debitos_tienda = df_debitos_tienda.drop(columns=['indicadores', 'fecha'])\n",
    "df_debitos_tienda['categoria'] = 'deb'\n",
    "df_debitos_tienda = df_debitos_tienda[['año', 'mes', 'direccion', 'numero_operacional', 'punto_operacional', 'categoria', 'valores']]"
   ]
  },
  {
   "cell_type": "markdown",
   "id": "2977a9ec",
   "metadata": {},
   "source": [
    "### Concateno todo nivel tienda y Join con el Padron"
   ]
  },
  {
   "cell_type": "code",
   "execution_count": 371,
   "id": "723f3026",
   "metadata": {},
   "outputs": [],
   "source": [
    "df_tienda = pd.concat([df_ventas_tienda, df_debitos_tienda, df_volumen_tienda])\n",
    "df_tienda['numero_operacional'] = df_tienda['numero_operacional'].astype(int)"
   ]
  },
  {
   "cell_type": "code",
   "execution_count": 372,
   "id": "f50d1478",
   "metadata": {},
   "outputs": [],
   "source": [
    "df_tienda_join = pd.merge(df_tienda, padron, how='left', on='numero_operacional')\n",
    "df_tienda_join = df_tienda_join[['año', 'mes', 'direccion', 'numero_operacional', 'punto_operacional', 'provincia', 'fecha_apertura', 'fin_de_cierre','categoria', 'sep', 'valores']]\n",
    "df_tienda_comparable = df_tienda_join[df_tienda_join['sep'] == 'SC']\n",
    "\n",
    "#Este df NO COMPARABLE me sirve para calcular las progresiones 28 dias moviles por formato\n",
    "df_tienda_no_comparable = df_tienda_join"
   ]
  },
  {
   "cell_type": "markdown",
   "id": "e9a6bbfc",
   "metadata": {},
   "source": [
    "### Genero un df por Superficie comparable, pivoteo la info y calculo las porgresiones totales por tienda por categoria"
   ]
  },
  {
   "cell_type": "code",
   "execution_count": 373,
   "id": "de8890f2",
   "metadata": {},
   "outputs": [],
   "source": [
    "df_tienda_comparable = df_tienda_comparable.pivot_table(values='valores', index=['direccion', 'numero_operacional', 'punto_operacional', 'categoria'], columns='año', aggfunc='sum').reset_index()\n",
    "df_tienda_comparable['progresion'] = round((df_tienda_comparable[2025] / df_tienda_comparable[2024]) - 1, 3)\n",
    "df_tienda_comparable = df_tienda_comparable.sort_values(by='progresion', ascending=False)\n",
    "\n",
    "#Me sirve para luego la consolidacion de informacion\n",
    "df_tienda_comparable_aux = df_tienda_comparable"
   ]
  },
  {
   "cell_type": "code",
   "execution_count": 374,
   "id": "1011fcc8",
   "metadata": {},
   "outputs": [],
   "source": [
    "df_tienda_no_comparable = df_tienda_no_comparable.pivot_table(values='valores', index=['direccion', 'numero_operacional', 'punto_operacional', 'categoria'], columns='año', aggfunc='sum').reset_index()\n",
    "df_tienda_no_comparable['progresion'] = round((df_tienda_no_comparable[2025] / df_tienda_no_comparable[2024]) - 1, 3)\n",
    "df_tienda_no_comparable = df_tienda_no_comparable.sort_values(by='progresion', ascending=False)"
   ]
  },
  {
   "cell_type": "markdown",
   "id": "39a1281e",
   "metadata": {},
   "source": [
    "### Genero un DF por superficie comparable, agrupo la informacion a nivel formato para calular sus progresiones por categoria"
   ]
  },
  {
   "cell_type": "code",
   "execution_count": 375,
   "id": "eef75064",
   "metadata": {},
   "outputs": [],
   "source": [
    "df_formato_comparable = df_tienda_comparable.groupby(['direccion', 'categoria'])[[2024, 2025]].sum().reset_index()\n",
    "df_formato_comparable['progresion'] = round(df_formato_comparable[2025] / df_formato_comparable[2024] - 1, 3)\n",
    "df_formato_comparable_final = df_formato_comparable.sort_values(['categoria'])"
   ]
  },
  {
   "cell_type": "code",
   "execution_count": 376,
   "id": "4b7ceea5",
   "metadata": {},
   "outputs": [],
   "source": [
    "df_formato_no_comparable = df_tienda_no_comparable.groupby(['direccion', 'categoria'])[[2024, 2025]].sum().reset_index()\n",
    "df_formato_no_comparable['progresion'] = round(df_formato_no_comparable[2025] / df_formato_no_comparable[2024] - 1, 3)\n",
    "df_formato_no_comparable_final = df_formato_no_comparable.sort_values(['categoria'])"
   ]
  },
  {
   "cell_type": "markdown",
   "id": "b23f8ee5",
   "metadata": {},
   "source": [
    "### Debitos por Sector"
   ]
  },
  {
   "cell_type": "code",
   "execution_count": 377,
   "id": "617340a3",
   "metadata": {},
   "outputs": [],
   "source": [
    "df_debitos_sector = pd.read_csv('data/tercer semana - briefing/28 dias/debitos x sector total cia tercer semana briefing.csv', encoding='utf-16', header=1, decimal=',')"
   ]
  },
  {
   "cell_type": "code",
   "execution_count": 378,
   "id": "7277e3dd",
   "metadata": {},
   "outputs": [],
   "source": [
    "df_debitos_sector.columns = df_debitos_sector.columns.str.strip().str.lower().str.replace(' ', '_')\n",
    "df_debitos_sector = df_debitos_sector.rename(columns={\n",
    "    'cantidad_de_tickets':'valores',\n",
    "    'mes':'fecha'\n",
    "})\n",
    "df_debitos_sector = df_debitos_sector.drop(columns=['indicadores'])\n",
    "df_debitos_sector['mes'] = df_debitos_sector['fecha'].str.split(' ').str[0]\n",
    "df_debitos_sector['numero_operacional'] = df_debitos_sector['punto_operacional'].str.split(' ').str[0]\n",
    "df_debitos_sector['categoria'] = 'deb'\n",
    "df_debitos_sector['valores'] = pd.to_numeric(df_debitos_sector['valores'].str.replace('.', '').str.replace(',','.'))"
   ]
  },
  {
   "cell_type": "markdown",
   "id": "3136d3f9",
   "metadata": {},
   "source": [
    "### Agrupo las tres categorias por Sector, las joineo con el padron, me quedo con los SC, calculo proresiones y pivoteo para mostrar mejor la informacion"
   ]
  },
  {
   "cell_type": "code",
   "execution_count": 379,
   "id": "cc971c25",
   "metadata": {},
   "outputs": [],
   "source": [
    "df_ventas_sector = df_ventas.groupby(['año', 'mes', 'direccion', 'numero_operacional', 'punto_operacional', 'categoria', 'sector'])['valores'].sum().reset_index()\n",
    "df_volumen_sector = df_volumen.groupby(['año', 'mes', 'direccion', 'numero_operacional', 'punto_operacional', 'categoria', 'sector'])['valores'].sum().reset_index()\n",
    "df_debitos_sector = df_debitos_sector[['año', 'mes', 'direccion', 'numero_operacional', 'punto_operacional', 'categoria', 'sector', 'valores']]"
   ]
  },
  {
   "cell_type": "code",
   "execution_count": 380,
   "id": "68070fbe",
   "metadata": {},
   "outputs": [],
   "source": [
    "df_sector = pd.concat([df_ventas_sector, df_volumen_sector, df_debitos_sector])\n",
    "df_sector['numero_operacional'] = df_sector['numero_operacional'].astype(int) \n",
    "df_sector_join = pd.merge(df_sector, padron, on='numero_operacional', how='left')\n",
    "df_sector_join = df_sector_join[['año', 'mes', 'direccion', 'numero_operacional', 'punto_operacional', 'provincia', 'fecha_apertura', 'fin_de_cierre', 'categoria', 'sector', 'sep', 'valores']]"
   ]
  },
  {
   "cell_type": "code",
   "execution_count": 381,
   "id": "d534748f",
   "metadata": {},
   "outputs": [],
   "source": [
    "df_sector_comparable = df_sector_join[df_sector_join['sep'] == 'SC']"
   ]
  },
  {
   "cell_type": "code",
   "execution_count": 382,
   "id": "2e11b932",
   "metadata": {},
   "outputs": [],
   "source": [
    "df_sector_comparable = df_sector_comparable.pivot_table(values='valores', index=['direccion' ,'numero_operacional', 'punto_operacional', 'categoria', 'sector'], columns='año', aggfunc='sum').reset_index()\n",
    "df_sector_comparable['progresion'] = round((df_sector_comparable[2025] / df_sector_comparable[2024]) - 1, 3)"
   ]
  },
  {
   "cell_type": "code",
   "execution_count": 383,
   "id": "107150e1",
   "metadata": {},
   "outputs": [],
   "source": [
    "#Sirve para calcular las progresiones por sector a nivel Formato\n",
    "df_formato_sector_comparable = df_sector_comparable\n",
    "\n",
    "#Sirve Para realizar una baja consolidada de informacion\n",
    "df_formato_sector_comparable_aux = df_formato_sector_comparable"
   ]
  },
  {
   "cell_type": "code",
   "execution_count": 384,
   "id": "20e880a2",
   "metadata": {},
   "outputs": [],
   "source": [
    "df_progresiones_categoria_sectores = df_sector_comparable.pivot_table(values='progresion', index=['numero_operacional', 'punto_operacional', 'categoria'], columns='sector', aggfunc='sum').reset_index()"
   ]
  },
  {
   "cell_type": "code",
   "execution_count": 385,
   "id": "573e1b55",
   "metadata": {},
   "outputs": [],
   "source": [
    "df_tienda_comparable = df_tienda_comparable.rename(columns={'progresion':'total_tienda'})"
   ]
  },
  {
   "cell_type": "markdown",
   "id": "19f1f55d",
   "metadata": {},
   "source": [
    "### Trabajo con la Info para Obtener las progresiones por Sector a Nivel Formato"
   ]
  },
  {
   "cell_type": "code",
   "execution_count": 386,
   "id": "03810678",
   "metadata": {},
   "outputs": [],
   "source": [
    "df_formato_sector_comparable = df_formato_sector_comparable.groupby(['direccion', 'categoria', 'sector'])[[2024, 2025]].sum().reset_index()"
   ]
  },
  {
   "cell_type": "code",
   "execution_count": 387,
   "id": "af9d0307",
   "metadata": {},
   "outputs": [],
   "source": [
    "df_formato_sector_comparable['progresion'] = round(df_formato_sector_comparable[2025] / df_formato_sector_comparable[2024] - 1, 3)"
   ]
  },
  {
   "cell_type": "code",
   "execution_count": 388,
   "id": "113bf97c",
   "metadata": {},
   "outputs": [],
   "source": [
    "df_formato_sector_comparable = df_formato_sector_comparable.pivot_table(values='progresion', index=['direccion', 'categoria'], columns='sector', aggfunc='sum').reset_index()\n",
    "df_formato_sector_comparable = df_formato_sector_comparable.fillna(0)"
   ]
  },
  {
   "cell_type": "markdown",
   "id": "feeb5497",
   "metadata": {},
   "source": [
    "### Concateno las progresiones por sectores con el primer df utilziando su numero operacional. Luego lo limpio y lo presento"
   ]
  },
  {
   "cell_type": "code",
   "execution_count": 389,
   "id": "4edb6928",
   "metadata": {},
   "outputs": [],
   "source": [
    "df_progresiones_join_sector_tienda = pd.merge(df_progresiones_categoria_sectores, df_tienda_comparable[['direccion', 'numero_operacional', 'categoria', 'total_tienda']], on=['numero_operacional', 'categoria'], how='left')"
   ]
  },
  {
   "cell_type": "code",
   "execution_count": 390,
   "id": "393b260a",
   "metadata": {},
   "outputs": [],
   "source": [
    "df_progresiones_join_sector_tienda = df_progresiones_join_sector_tienda.fillna(0)"
   ]
  },
  {
   "cell_type": "code",
   "execution_count": 391,
   "id": "628bfb1e",
   "metadata": {},
   "outputs": [],
   "source": [
    "df_progresiones_join_sector_tienda.columns = df_progresiones_join_sector_tienda.columns.str.capitalize().str.strip().str.replace('_', ' ')"
   ]
  },
  {
   "cell_type": "code",
   "execution_count": 392,
   "id": "67903aa8",
   "metadata": {},
   "outputs": [],
   "source": [
    "df_progresiones_join_sector_tienda = df_progresiones_join_sector_tienda.drop(columns=['Numero operacional'])\n",
    "df_progresiones_join_sector_tienda = df_progresiones_join_sector_tienda.rename(columns={'Total tienda': 'Total tienda', 'P.g.c.': 'PGC'})\n",
    "df_progresiones_join_sector_tienda = df_progresiones_join_sector_tienda.sort_values(by='Total tienda', ascending=False)"
   ]
  },
  {
   "cell_type": "code",
   "execution_count": 393,
   "id": "eee8146e",
   "metadata": {},
   "outputs": [],
   "source": [
    "df_final_consolidado_tienda = df_tienda_comparable.drop(columns=[2024, 2025])\n",
    "df_final_consolidado_tienda = df_final_consolidado_tienda.rename(columns={'total_tienda':'progresion'})\n",
    "df_final_consolidado_tienda['sector'] = 'Total'"
   ]
  },
  {
   "cell_type": "code",
   "execution_count": 394,
   "id": "b052b2a5",
   "metadata": {},
   "outputs": [
    {
     "data": {
      "text/html": [
       "<div>\n",
       "<style scoped>\n",
       "    .dataframe tbody tr th:only-of-type {\n",
       "        vertical-align: middle;\n",
       "    }\n",
       "\n",
       "    .dataframe tbody tr th {\n",
       "        vertical-align: top;\n",
       "    }\n",
       "\n",
       "    .dataframe thead th {\n",
       "        text-align: right;\n",
       "    }\n",
       "</style>\n",
       "<table border=\"1\" class=\"dataframe\">\n",
       "  <thead>\n",
       "    <tr style=\"text-align: right;\">\n",
       "      <th>año</th>\n",
       "      <th>direccion</th>\n",
       "      <th>numero_operacional</th>\n",
       "      <th>punto_operacional</th>\n",
       "      <th>categoria</th>\n",
       "      <th>progresion</th>\n",
       "      <th>sector</th>\n",
       "    </tr>\n",
       "  </thead>\n",
       "  <tbody>\n",
       "    <tr>\n",
       "      <th>0</th>\n",
       "      <td>E-COMMERCE</td>\n",
       "      <td>899</td>\n",
       "      <td>899 - E-Commerce</td>\n",
       "      <td>deb</td>\n",
       "      <td>-0.586</td>\n",
       "      <td>BAZAR</td>\n",
       "    </tr>\n",
       "    <tr>\n",
       "      <th>1</th>\n",
       "      <td>E-COMMERCE</td>\n",
       "      <td>899</td>\n",
       "      <td>899 - E-Commerce</td>\n",
       "      <td>deb</td>\n",
       "      <td>-0.057</td>\n",
       "      <td>ELECTRODOMESTICOS</td>\n",
       "    </tr>\n",
       "    <tr>\n",
       "      <th>2</th>\n",
       "      <td>E-COMMERCE</td>\n",
       "      <td>899</td>\n",
       "      <td>899 - E-Commerce</td>\n",
       "      <td>deb</td>\n",
       "      <td>2.000</td>\n",
       "      <td>P.G.C.</td>\n",
       "    </tr>\n",
       "    <tr>\n",
       "      <th>3</th>\n",
       "      <td>E-COMMERCE</td>\n",
       "      <td>899</td>\n",
       "      <td>899 - E-Commerce</td>\n",
       "      <td>deb</td>\n",
       "      <td>NaN</td>\n",
       "      <td>TEXTIL</td>\n",
       "    </tr>\n",
       "    <tr>\n",
       "      <th>4</th>\n",
       "      <td>E-COMMERCE</td>\n",
       "      <td>899</td>\n",
       "      <td>899 - E-Commerce</td>\n",
       "      <td>vct</td>\n",
       "      <td>-0.740</td>\n",
       "      <td>BAZAR</td>\n",
       "    </tr>\n",
       "    <tr>\n",
       "      <th>...</th>\n",
       "      <td>...</td>\n",
       "      <td>...</td>\n",
       "      <td>...</td>\n",
       "      <td>...</td>\n",
       "      <td>...</td>\n",
       "      <td>...</td>\n",
       "    </tr>\n",
       "    <tr>\n",
       "      <th>11613</th>\n",
       "      <td>PROXIMIDAD</td>\n",
       "      <td>874</td>\n",
       "      <td>874 - Mini Caraffa Claudio Cuenca 1784 Cb</td>\n",
       "      <td>vol</td>\n",
       "      <td>-0.750</td>\n",
       "      <td>ELECTRODOMESTICOS</td>\n",
       "    </tr>\n",
       "    <tr>\n",
       "      <th>11614</th>\n",
       "      <td>PROXIMIDAD</td>\n",
       "      <td>874</td>\n",
       "      <td>874 - Mini Caraffa Claudio Cuenca 1784 Cb</td>\n",
       "      <td>vol</td>\n",
       "      <td>0.306</td>\n",
       "      <td>OTROS</td>\n",
       "    </tr>\n",
       "    <tr>\n",
       "      <th>11615</th>\n",
       "      <td>PROXIMIDAD</td>\n",
       "      <td>874</td>\n",
       "      <td>874 - Mini Caraffa Claudio Cuenca 1784 Cb</td>\n",
       "      <td>vol</td>\n",
       "      <td>0.317</td>\n",
       "      <td>P.G.C.</td>\n",
       "    </tr>\n",
       "    <tr>\n",
       "      <th>11616</th>\n",
       "      <td>PROXIMIDAD</td>\n",
       "      <td>874</td>\n",
       "      <td>874 - Mini Caraffa Claudio Cuenca 1784 Cb</td>\n",
       "      <td>vol</td>\n",
       "      <td>0.522</td>\n",
       "      <td>PRODUCTOS FRESCO</td>\n",
       "    </tr>\n",
       "    <tr>\n",
       "      <th>11617</th>\n",
       "      <td>PROXIMIDAD</td>\n",
       "      <td>874</td>\n",
       "      <td>874 - Mini Caraffa Claudio Cuenca 1784 Cb</td>\n",
       "      <td>vol</td>\n",
       "      <td>-0.600</td>\n",
       "      <td>TEXTIL</td>\n",
       "    </tr>\n",
       "  </tbody>\n",
       "</table>\n",
       "<p>11618 rows × 6 columns</p>\n",
       "</div>"
      ],
      "text/plain": [
       "año     direccion  numero_operacional  \\\n",
       "0      E-COMMERCE                 899   \n",
       "1      E-COMMERCE                 899   \n",
       "2      E-COMMERCE                 899   \n",
       "3      E-COMMERCE                 899   \n",
       "4      E-COMMERCE                 899   \n",
       "...           ...                 ...   \n",
       "11613  PROXIMIDAD                 874   \n",
       "11614  PROXIMIDAD                 874   \n",
       "11615  PROXIMIDAD                 874   \n",
       "11616  PROXIMIDAD                 874   \n",
       "11617  PROXIMIDAD                 874   \n",
       "\n",
       "año                            punto_operacional categoria  progresion  \\\n",
       "0                               899 - E-Commerce       deb      -0.586   \n",
       "1                               899 - E-Commerce       deb      -0.057   \n",
       "2                               899 - E-Commerce       deb       2.000   \n",
       "3                               899 - E-Commerce       deb         NaN   \n",
       "4                               899 - E-Commerce       vct      -0.740   \n",
       "...                                          ...       ...         ...   \n",
       "11613  874 - Mini Caraffa Claudio Cuenca 1784 Cb       vol      -0.750   \n",
       "11614  874 - Mini Caraffa Claudio Cuenca 1784 Cb       vol       0.306   \n",
       "11615  874 - Mini Caraffa Claudio Cuenca 1784 Cb       vol       0.317   \n",
       "11616  874 - Mini Caraffa Claudio Cuenca 1784 Cb       vol       0.522   \n",
       "11617  874 - Mini Caraffa Claudio Cuenca 1784 Cb       vol      -0.600   \n",
       "\n",
       "año               sector  \n",
       "0                  BAZAR  \n",
       "1      ELECTRODOMESTICOS  \n",
       "2                 P.G.C.  \n",
       "3                 TEXTIL  \n",
       "4                  BAZAR  \n",
       "...                  ...  \n",
       "11613  ELECTRODOMESTICOS  \n",
       "11614              OTROS  \n",
       "11615             P.G.C.  \n",
       "11616   PRODUCTOS FRESCO  \n",
       "11617             TEXTIL  \n",
       "\n",
       "[11618 rows x 6 columns]"
      ]
     },
     "execution_count": 394,
     "metadata": {},
     "output_type": "execute_result"
    }
   ],
   "source": [
    "df_final_consolidado_sector = df_sector_comparable.drop(columns=[2024, 2025])\n",
    "df_final_consolidado_sector[['direccion', 'numero_operacional', 'punto_operacional', 'categoria', 'progresion', 'sector']]"
   ]
  },
  {
   "cell_type": "code",
   "execution_count": 395,
   "id": "8599ca6c",
   "metadata": {},
   "outputs": [],
   "source": [
    "df_final_consolidado_total = pd.concat([df_final_consolidado_sector, df_final_consolidado_tienda])\n",
    "df_final_consolidado_total = df_final_consolidado_total.pivot_table(values='progresion', index=['direccion', 'punto_operacional'], columns=['categoria', 'sector'], aggfunc='sum').reset_index()"
   ]
  },
  {
   "cell_type": "markdown",
   "id": "7b15aa2e",
   "metadata": {},
   "source": [
    "### Trabajo sobre el ultimo punto \"Grupo de Familia\". Agrupo, joineo con el padron, me quedo con los SC, calculo el gap y la CMG, limpio la info y presento"
   ]
  },
  {
   "cell_type": "code",
   "execution_count": 396,
   "id": "5f0987ac",
   "metadata": {},
   "outputs": [],
   "source": [
    "df_volumen_grupo_de_familia = df_volumen.groupby(['año', 'mes', 'direccion', 'numero_operacional', 'punto_operacional', 'categoria', 'sector', 'seccion', 'grupo_de_familia'])['valores'].sum().reset_index()"
   ]
  },
  {
   "cell_type": "code",
   "execution_count": 397,
   "id": "fec39dfa",
   "metadata": {},
   "outputs": [],
   "source": [
    "df_volumen_grupo_de_familia_join = pd.merge(df_volumen_grupo_de_familia, padron[['numero_operacional', 'sep']], on='numero_operacional', how='left')"
   ]
  },
  {
   "cell_type": "code",
   "execution_count": 398,
   "id": "4aa2188b",
   "metadata": {},
   "outputs": [],
   "source": [
    "df_volumen_grupo_de_familia_comparable = df_volumen_grupo_de_familia_join[df_volumen_grupo_de_familia_join['sep'] == 'SC']"
   ]
  },
  {
   "cell_type": "code",
   "execution_count": 399,
   "id": "30ea84fb",
   "metadata": {},
   "outputs": [],
   "source": [
    "df_volumen_grupo_de_familia_comparable = df_volumen_grupo_de_familia_comparable.pivot_table(values='valores', index=['direccion', 'grupo_de_familia', 'seccion', 'categoria'], columns='año', aggfunc='sum').reset_index()"
   ]
  },
  {
   "cell_type": "code",
   "execution_count": 400,
   "id": "e1a229a4",
   "metadata": {},
   "outputs": [],
   "source": [
    "df_volumen_grupo_de_familia_comparable[2024] = df_volumen_grupo_de_familia_comparable[2024].fillna(0)"
   ]
  },
  {
   "cell_type": "code",
   "execution_count": 401,
   "id": "68957332",
   "metadata": {},
   "outputs": [],
   "source": [
    "df_volumen_grupo_de_familia_comparable['GAP'] = df_volumen_grupo_de_familia_comparable[2025] - df_volumen_grupo_de_familia_comparable[2024]"
   ]
  },
  {
   "cell_type": "code",
   "execution_count": 402,
   "id": "6962e294",
   "metadata": {},
   "outputs": [],
   "source": [
    "df_volumen_grupo_de_familia_comparable['progresion'] = (df_volumen_grupo_de_familia_comparable[2025] / df_volumen_grupo_de_familia_comparable[2024]) - 1"
   ]
  },
  {
   "cell_type": "code",
   "execution_count": 403,
   "id": "b783ef74",
   "metadata": {},
   "outputs": [
    {
     "data": {
      "text/html": [
       "<div>\n",
       "<style scoped>\n",
       "    .dataframe tbody tr th:only-of-type {\n",
       "        vertical-align: middle;\n",
       "    }\n",
       "\n",
       "    .dataframe tbody tr th {\n",
       "        vertical-align: top;\n",
       "    }\n",
       "\n",
       "    .dataframe thead th {\n",
       "        text-align: right;\n",
       "    }\n",
       "</style>\n",
       "<table border=\"1\" class=\"dataframe\">\n",
       "  <thead>\n",
       "    <tr style=\"text-align: right;\">\n",
       "      <th>año</th>\n",
       "      <th>direccion</th>\n",
       "      <th>grupo_de_familia</th>\n",
       "      <th>seccion</th>\n",
       "      <th>categoria</th>\n",
       "      <th>2024</th>\n",
       "      <th>2025</th>\n",
       "      <th>GAP</th>\n",
       "      <th>progresion</th>\n",
       "    </tr>\n",
       "  </thead>\n",
       "  <tbody>\n",
       "    <tr>\n",
       "      <th>132</th>\n",
       "      <td>HIPERMERCADO</td>\n",
       "      <td>FOTOGRAFIA</td>\n",
       "      <td>FOTOGRAFIA</td>\n",
       "      <td>vol</td>\n",
       "      <td>1.00</td>\n",
       "      <td>332.00</td>\n",
       "      <td>331.00</td>\n",
       "      <td>331.000000</td>\n",
       "    </tr>\n",
       "    <tr>\n",
       "      <th>410</th>\n",
       "      <td>MARKET</td>\n",
       "      <td>MERCADO DEL MAR CONGELADO</td>\n",
       "      <td>PESCADERIA</td>\n",
       "      <td>vol</td>\n",
       "      <td>5.47</td>\n",
       "      <td>1164.55</td>\n",
       "      <td>1159.08</td>\n",
       "      <td>211.897623</td>\n",
       "    </tr>\n",
       "    <tr>\n",
       "      <th>291</th>\n",
       "      <td>MARKET</td>\n",
       "      <td>BAGAJE</td>\n",
       "      <td>LIBRERIA</td>\n",
       "      <td>vol</td>\n",
       "      <td>6.00</td>\n",
       "      <td>395.00</td>\n",
       "      <td>389.00</td>\n",
       "      <td>64.833333</td>\n",
       "    </tr>\n",
       "    <tr>\n",
       "      <th>304</th>\n",
       "      <td>MARKET</td>\n",
       "      <td>CALZADO AGUA VERANO</td>\n",
       "      <td>CALZADO</td>\n",
       "      <td>vol</td>\n",
       "      <td>1.00</td>\n",
       "      <td>64.00</td>\n",
       "      <td>63.00</td>\n",
       "      <td>63.000000</td>\n",
       "    </tr>\n",
       "    <tr>\n",
       "      <th>699</th>\n",
       "      <td>No informado</td>\n",
       "      <td>CONSUMIBLES ELECTRONICA</td>\n",
       "      <td>SONIDO</td>\n",
       "      <td>vol</td>\n",
       "      <td>1.00</td>\n",
       "      <td>36.00</td>\n",
       "      <td>35.00</td>\n",
       "      <td>35.000000</td>\n",
       "    </tr>\n",
       "    <tr>\n",
       "      <th>...</th>\n",
       "      <td>...</td>\n",
       "      <td>...</td>\n",
       "      <td>...</td>\n",
       "      <td>...</td>\n",
       "      <td>...</td>\n",
       "      <td>...</td>\n",
       "      <td>...</td>\n",
       "      <td>...</td>\n",
       "    </tr>\n",
       "    <tr>\n",
       "      <th>429</th>\n",
       "      <td>MARKET</td>\n",
       "      <td>PLANTINES</td>\n",
       "      <td>FRUTAS Y VERDURAS</td>\n",
       "      <td>vol</td>\n",
       "      <td>1595.00</td>\n",
       "      <td>13.00</td>\n",
       "      <td>-1582.00</td>\n",
       "      <td>-0.991850</td>\n",
       "    </tr>\n",
       "    <tr>\n",
       "      <th>841</th>\n",
       "      <td>PROXIMIDAD</td>\n",
       "      <td>ROPA DE BANO PERMANENTE</td>\n",
       "      <td>BLANCO</td>\n",
       "      <td>vol</td>\n",
       "      <td>201.00</td>\n",
       "      <td>1.00</td>\n",
       "      <td>-200.00</td>\n",
       "      <td>-0.995025</td>\n",
       "    </tr>\n",
       "    <tr>\n",
       "      <th>463</th>\n",
       "      <td>MARKET</td>\n",
       "      <td>TARJETA GIFT CARD</td>\n",
       "      <td>OTRAS VENTAS</td>\n",
       "      <td>vol</td>\n",
       "      <td>-1.00</td>\n",
       "      <td>0.00</td>\n",
       "      <td>1.00</td>\n",
       "      <td>-1.000000</td>\n",
       "    </tr>\n",
       "    <tr>\n",
       "      <th>676</th>\n",
       "      <td>MAXI</td>\n",
       "      <td>TARJETA GIFT CARD</td>\n",
       "      <td>OTRAS VENTAS</td>\n",
       "      <td>vol</td>\n",
       "      <td>-1.00</td>\n",
       "      <td>0.00</td>\n",
       "      <td>1.00</td>\n",
       "      <td>-1.000000</td>\n",
       "    </tr>\n",
       "    <tr>\n",
       "      <th>265</th>\n",
       "      <td>HIPERMERCADO</td>\n",
       "      <td>VIDEOJUEGOS</td>\n",
       "      <td>IMAGEN</td>\n",
       "      <td>vol</td>\n",
       "      <td>6.00</td>\n",
       "      <td>0.00</td>\n",
       "      <td>-6.00</td>\n",
       "      <td>-1.000000</td>\n",
       "    </tr>\n",
       "  </tbody>\n",
       "</table>\n",
       "<p>869 rows × 8 columns</p>\n",
       "</div>"
      ],
      "text/plain": [
       "año     direccion           grupo_de_familia            seccion categoria  \\\n",
       "132  HIPERMERCADO                 FOTOGRAFIA         FOTOGRAFIA       vol   \n",
       "410        MARKET  MERCADO DEL MAR CONGELADO         PESCADERIA       vol   \n",
       "291        MARKET                     BAGAJE           LIBRERIA       vol   \n",
       "304        MARKET        CALZADO AGUA VERANO            CALZADO       vol   \n",
       "699  No informado    CONSUMIBLES ELECTRONICA             SONIDO       vol   \n",
       "..            ...                        ...                ...       ...   \n",
       "429        MARKET                  PLANTINES  FRUTAS Y VERDURAS       vol   \n",
       "841    PROXIMIDAD    ROPA DE BANO PERMANENTE             BLANCO       vol   \n",
       "463        MARKET          TARJETA GIFT CARD       OTRAS VENTAS       vol   \n",
       "676          MAXI          TARJETA GIFT CARD       OTRAS VENTAS       vol   \n",
       "265  HIPERMERCADO                VIDEOJUEGOS             IMAGEN       vol   \n",
       "\n",
       "año     2024     2025      GAP  progresion  \n",
       "132     1.00   332.00   331.00  331.000000  \n",
       "410     5.47  1164.55  1159.08  211.897623  \n",
       "291     6.00   395.00   389.00   64.833333  \n",
       "304     1.00    64.00    63.00   63.000000  \n",
       "699     1.00    36.00    35.00   35.000000  \n",
       "..       ...      ...      ...         ...  \n",
       "429  1595.00    13.00 -1582.00   -0.991850  \n",
       "841   201.00     1.00  -200.00   -0.995025  \n",
       "463    -1.00     0.00     1.00   -1.000000  \n",
       "676    -1.00     0.00     1.00   -1.000000  \n",
       "265     6.00     0.00    -6.00   -1.000000  \n",
       "\n",
       "[869 rows x 8 columns]"
      ]
     },
     "execution_count": 403,
     "metadata": {},
     "output_type": "execute_result"
    }
   ],
   "source": [
    "df_volumen_grupo_de_familia_comparable['progresion'] = df_volumen_grupo_de_familia_comparable['progresion'].replace(np.inf, 0)\n",
    "df_volumen_grupo_de_familia_comparable['progresion'] = df_volumen_grupo_de_familia_comparable['progresion'].replace(np.nan, 0)\n",
    "df_volumen_grupo_de_familia_comparable.sort_values('progresion', ascending=False)"
   ]
  },
  {
   "cell_type": "code",
   "execution_count": 404,
   "id": "e5cd3832",
   "metadata": {},
   "outputs": [],
   "source": [
    "df_volumen_grupo_de_familia_comparable['total_2024_direccion'] = df_volumen_grupo_de_familia_comparable.groupby('direccion')[2024].transform('sum')\n",
    "df_volumen_grupo_de_familia_comparable['Cmg'] = df_volumen_grupo_de_familia_comparable['GAP'] / df_volumen_grupo_de_familia_comparable['total_2024_direccion']"
   ]
  },
  {
   "cell_type": "code",
   "execution_count": 405,
   "id": "0d95c362",
   "metadata": {},
   "outputs": [],
   "source": [
    "df_volumen_grupo_de_familia_comparable['Cmg'] = df_volumen_grupo_de_familia_comparable['Cmg'].fillna(0)\n",
    "df_volumen_grupo_de_familia_comparable = df_volumen_grupo_de_familia_comparable.sort_values('Cmg', ascending=False)\n",
    "df_volumen_grupo_de_familia_comparable = df_volumen_grupo_de_familia_comparable.rename(columns={'direccion':'Direccion','grupo_de_familia':'Grupo de familia', 'seccion':'Seccion', 'categoria':'Categoria', 'progresion':'Progresion'})\n",
    "df_volumen_grupo_de_familia_comparable = df_volumen_grupo_de_familia_comparable.drop(columns=['total_2024_direccion'])"
   ]
  },
  {
   "cell_type": "markdown",
   "id": "ccf2b1f3",
   "metadata": {},
   "source": [
    "### Trabajo sobre una bajada de informacion consolidada para realizar un giratorio"
   ]
  },
  {
   "cell_type": "code",
   "execution_count": 406,
   "id": "760fd42f",
   "metadata": {},
   "outputs": [],
   "source": [
    "# Genero un DF auxiliar para realizar una bajada consolidada de informacion para generar un giratorio\n",
    "df_tienda_comparable_aux['sector'] = ''\n",
    "df_tienda_comparable_aux = df_tienda_comparable_aux[['direccion', 'numero_operacional', 'punto_operacional', 'categoria', 'sector', 2024, 2025, 'progresion']]\n",
    "df_tienda_comparable_aux['aux'] = 'tienda'\n",
    "\n",
    "df_formato_comparable_aux = df_formato_comparable.copy()\n",
    "df_formato_comparable_aux['sector'] = ''\n",
    "df_formato_comparable_aux['numero_operacional'] = ''\n",
    "df_formato_comparable_aux['punto_operacional'] = ''\n",
    "df_formato_comparable_aux = df_formato_comparable_aux[['direccion', 'numero_operacional', 'punto_operacional', 'categoria', 'sector', 2024, 2025, 'progresion']]\n",
    "df_formato_comparable_aux['aux'] = 'formato'\n",
    "\n",
    "df_formato_sector_comparable_aux['aux'] = 'sector'\n",
    "\n",
    "\n",
    "# ME FALTA AGREGAR UNA TAB QUE SEA TOTAL FORMATO APERTURADO POR SECTOR PARA REALIZAR EL GIRATORIO\n",
    "df_bajada_consolidada = pd.concat([df_tienda_comparable_aux, df_formato_comparable_aux, df_formato_sector_comparable_aux])"
   ]
  },
  {
   "cell_type": "markdown",
   "id": "dcf82857",
   "metadata": {},
   "source": [
    "# GRAFICOS V2"
   ]
  },
  {
   "cell_type": "code",
   "execution_count": 407,
   "id": "0a79ed04",
   "metadata": {},
   "outputs": [],
   "source": [
    "deb_acum = pd.read_csv('data/tercer semana - briefing/acum/debitos x tienda total cia acum 2023 - 2025.csv', encoding='utf-16', header=1, decimal=',')\n",
    "cols = ['Año', 'Mes', 'Direccion', 'Punto Operacional', 'Ventas c/impuesto']\n",
    "vct_acum = pd.read_csv('data/tercer semana - briefing/acum/ventas y volumen total cia acum 2023 - 2025.csv', encoding='utf-16', header=1, usecols=cols)\n",
    "vol_acum = pd.read_csv('data/tercer semana - briefing/acum/volumen sin envase total cia acum 2023 - 2025.csv', encoding='utf-16', header=1)"
   ]
  },
  {
   "cell_type": "code",
   "execution_count": 408,
   "id": "f5c2c66f",
   "metadata": {},
   "outputs": [],
   "source": [
    "deb_acum = deb_acum.drop(columns=['Indicadores'])\n",
    "vol_acum = vol_acum.drop(columns=['Indicadores'])"
   ]
  },
  {
   "cell_type": "code",
   "execution_count": 409,
   "id": "28cd614c",
   "metadata": {},
   "outputs": [],
   "source": [
    "deb_acum = deb_acum.rename(columns={'Cant. Tickets por Local':'valores'})\n",
    "vol_acum = vol_acum.rename(columns={'VOLUMEN':'valores'})\n",
    "vct_acum = vct_acum.rename(columns={'Ventas c/impuesto':'valores'})"
   ]
  },
  {
   "cell_type": "code",
   "execution_count": 410,
   "id": "fadfe73c",
   "metadata": {},
   "outputs": [],
   "source": [
    "deb_acum['categoria'] = 'deb'\n",
    "vol_acum['categoria'] = 'vol'\n",
    "vct_acum['categoria'] = 'vct'"
   ]
  },
  {
   "cell_type": "code",
   "execution_count": 411,
   "id": "8c5e1ae6",
   "metadata": {},
   "outputs": [],
   "source": [
    "vol_acum = vol_acum[['Año', 'Mes', 'Direccion', 'Punto Operacional', 'valores', 'categoria']]"
   ]
  },
  {
   "cell_type": "code",
   "execution_count": 412,
   "id": "f288226d",
   "metadata": {},
   "outputs": [],
   "source": [
    "vol_acum['valores'] = pd.to_numeric(vol_acum['valores'].str.replace('.','').str.replace(',', '.'))\n",
    "vct_acum['valores'] = pd.to_numeric(vct_acum['valores'].str.replace('.','').str.replace(',', '.'))\n",
    "deb_acum['valores'] = pd.to_numeric(deb_acum['valores'].str.replace('.', ''))"
   ]
  },
  {
   "cell_type": "code",
   "execution_count": 413,
   "id": "7844cce8",
   "metadata": {},
   "outputs": [],
   "source": [
    "acum_join = pd.concat([deb_acum, vol_acum, vct_acum])"
   ]
  },
  {
   "cell_type": "code",
   "execution_count": 414,
   "id": "6ed82816",
   "metadata": {},
   "outputs": [],
   "source": [
    "acum_join.columns = acum_join.columns.str.strip().str.replace(' ', '_').str.lower()"
   ]
  },
  {
   "cell_type": "code",
   "execution_count": 415,
   "id": "b51a870b",
   "metadata": {},
   "outputs": [],
   "source": [
    "acum_join['numero_operacional'] = acum_join['punto_operacional'].str.split(' ').str[0].astype(int)"
   ]
  },
  {
   "cell_type": "code",
   "execution_count": 416,
   "id": "0bdea9e8",
   "metadata": {},
   "outputs": [],
   "source": [
    "acum_join = pd.merge(acum_join, padron[['numero_operacional', 'sep']], how='left')"
   ]
  },
  {
   "cell_type": "code",
   "execution_count": 417,
   "id": "a4d8daf8",
   "metadata": {},
   "outputs": [],
   "source": [
    "acum_join_comparable = acum_join[acum_join['sep'] == 'SC']\n",
    "acum_join_comparable = acum_join_comparable.rename(columns={'mes':'fecha'})\n",
    "acum_join_comparable['mes'] = acum_join_comparable['fecha'].str.split(' ').str[0]\n",
    "\n",
    "acum_join_no_comparable = acum_join\n",
    "acum_join_no_comparable = acum_join_no_comparable.rename(columns={'mes':'fecha'})\n",
    "acum_join_no_comparable['mes'] = acum_join_no_comparable['fecha'].str.split(' ').str[0] "
   ]
  },
  {
   "cell_type": "code",
   "execution_count": 420,
   "id": "703caff7",
   "metadata": {},
   "outputs": [],
   "source": [
    "acum_join_comparable = acum_join_comparable.groupby(['año', 'fecha', 'mes', 'direccion', 'categoria'])['valores'].sum().reset_index()\n",
    "\n",
    "acum_join_no_comparable = acum_join_no_comparable.groupby(['año', 'fecha', 'mes', 'direccion', 'categoria'])['valores'].sum().reset_index()"
   ]
  },
  {
   "cell_type": "code",
   "execution_count": 421,
   "id": "f8ed9c78",
   "metadata": {},
   "outputs": [],
   "source": [
    "meses_orden = {'Enero':1, 'Febrero':2, 'Marzo':3, 'Abril':4, 'Mayo':5, 'Junio':6, 'Julio':7, 'Agosto':8, 'Septiembre':9, 'Octubre':10, 'Noviembre':11, 'Diciembre':12}"
   ]
  },
  {
   "cell_type": "code",
   "execution_count": 422,
   "id": "41a31125",
   "metadata": {},
   "outputs": [],
   "source": [
    "acum_join_comparable['aux'] = acum_join_comparable['mes'].map(meses_orden)\n",
    "\n",
    "acum_join_no_comparable['aux'] = acum_join_no_comparable['mes'].map(meses_orden)"
   ]
  },
  {
   "cell_type": "code",
   "execution_count": 423,
   "id": "1089b741",
   "metadata": {},
   "outputs": [
    {
     "data": {
      "text/plain": [
       "{1: 'Enero',\n",
       " 2: 'Febrero',\n",
       " 3: 'Marzo',\n",
       " 4: 'Abril',\n",
       " 5: 'Mayo',\n",
       " 6: 'Junio',\n",
       " 7: 'Julio',\n",
       " 8: 'Agosto',\n",
       " 9: 'Septiembre',\n",
       " 10: 'Octubre',\n",
       " 11: 'Noviembre',\n",
       " 12: 'Diciembre'}"
      ]
     },
     "execution_count": 423,
     "metadata": {},
     "output_type": "execute_result"
    }
   ],
   "source": [
    "meses_orden.items()\n",
    "meses_invertidos = {v:k for k, v in meses_orden.items()}\n",
    "meses_invertidos"
   ]
  },
  {
   "cell_type": "code",
   "execution_count": 424,
   "id": "d7d3b2ec",
   "metadata": {},
   "outputs": [],
   "source": [
    "acum_join_comparable.sort_values(by='aux', ascending=True)\n",
    "acum_join_comparable['fecha_completa'] = pd.to_datetime(\n",
    "    '01/' + acum_join_comparable['aux'].astype(str) + '/' + acum_join_comparable['año'].astype(str), format='%d/%m/%Y')\n",
    "mes_comparable = 'Septiembre'\n",
    "fecha_tope = pd.to_datetime('01/'+ str(meses_orden[mes_comparable]) + '/' + '2025', format='%d/%m/%Y')\n",
    "\n",
    "\n",
    "acum_join_no_comparable.sort_values(by='aux', ascending=True)\n",
    "acum_join_no_comparable['fecha_completa'] = pd.to_datetime(\n",
    "    '01/' + acum_join_no_comparable['aux'].astype(str) + '/' + acum_join_no_comparable['año'].astype(str), format='%d/%m/%Y')\n",
    "mes_comparable = 'Septiembre'\n",
    "fecha_tope = pd.to_datetime('01/'+ str(meses_orden[mes_comparable]) + '/' + '2025', format='%d/%m/%Y')"
   ]
  },
  {
   "cell_type": "code",
   "execution_count": 425,
   "id": "a7459ed7",
   "metadata": {},
   "outputs": [],
   "source": [
    "acum_join_comparable = acum_join_comparable[acum_join_comparable['fecha_completa'] <= fecha_tope]\n",
    "\n",
    "acum_join_no_comparable = acum_join_no_comparable[acum_join_no_comparable['fecha_completa'] <= fecha_tope]"
   ]
  },
  {
   "cell_type": "code",
   "execution_count": 426,
   "id": "991f361d",
   "metadata": {},
   "outputs": [],
   "source": [
    "acum_join_comparable = acum_join_comparable.pivot_table(values='valores', columns='año', index=['direccion', 'mes', 'categoria', 'aux'], aggfunc='sum').reset_index()\n",
    "\n",
    "acum_join_no_comparable = acum_join_no_comparable.pivot_table(values='valores', columns='año', index=['direccion', 'mes', 'categoria', 'aux'], aggfunc='sum').reset_index()"
   ]
  },
  {
   "cell_type": "code",
   "execution_count": 427,
   "id": "b981b581",
   "metadata": {},
   "outputs": [],
   "source": [
    "acum_join_comparable['progresion 2024'] = round((acum_join_comparable[2024] / acum_join_comparable[2023]) - 1, 3)\n",
    "acum_join_comparable['progresion 2025'] = round((acum_join_comparable[2025] / acum_join_comparable[2024]) - 1, 3)\n",
    "\n",
    "acum_join_no_comparable['progresion 2024'] = round((acum_join_no_comparable[2024] / acum_join_no_comparable[2023]) - 1, 3)\n",
    "acum_join_no_comparable['progresion 2025'] = round((acum_join_no_comparable[2025] / acum_join_no_comparable[2024]) - 1, 3)"
   ]
  },
  {
   "cell_type": "code",
   "execution_count": 428,
   "id": "f5a54da7",
   "metadata": {},
   "outputs": [],
   "source": [
    "acum_join_comparable = acum_join_comparable.sort_values(by=['direccion', 'categoria' ,'aux'], ascending=[True, True, True])\n",
    "acum_join_comparable = acum_join_comparable.drop(columns=['aux'])\n",
    "\n",
    "acum_join_no_comparable = acum_join_no_comparable.sort_values(by=['direccion', 'categoria' ,'aux'], ascending=[True, True, True])\n",
    "acum_join_no_comparable = acum_join_no_comparable.drop(columns=['aux'])"
   ]
  },
  {
   "cell_type": "markdown",
   "id": "101684f2",
   "metadata": {},
   "source": [
    "### Genero dos bucles para poder realizar varios filtros en las tablas importantes y asi conseguir un archivo por formato donde se muestre la informacion Total a Nivel Formato, Tienda y Sector"
   ]
  },
  {
   "cell_type": "code",
   "execution_count": 429,
   "id": "5b5a53c2",
   "metadata": {},
   "outputs": [
    {
     "name": "stdout",
     "output_type": "stream",
     "text": [
      "Archivo guardado en: results\\Resultados Briefing NO INFORMADO (21-10-2025).xlsx\n",
      "Archivo guardado en: results\\Resultados Briefing PROXIMIDAD (21-10-2025).xlsx\n",
      "Archivo guardado en: results\\Resultados Briefing MARKET (21-10-2025).xlsx\n",
      "Archivo guardado en: results\\Resultados Briefing MAXI (21-10-2025).xlsx\n",
      "Archivo guardado en: results\\Resultados Briefing HIPERMERCADO (21-10-2025).xlsx\n",
      "Archivo guardado en: results\\Resultados Briefing E-COMMERCE (21-10-2025).xlsx\n"
     ]
    }
   ],
   "source": [
    "from pathlib import Path\n",
    "\n",
    "formatos = df_tienda_comparable['direccion'].unique().tolist()\n",
    "categorias = ['vct', 'deb', 'vol']\n",
    "\n",
    "try:\n",
    "    out_dir = Path(\"results\")\n",
    "    out_dir.mkdir(parents=True, exist_ok=True)\n",
    "\n",
    "    for formato in formatos:\n",
    "        out_file = out_dir / f\"Resultados Briefing {formato.upper()} ({datetime.today().strftime('%d-%m-%Y')}).xlsx\"\n",
    "\n",
    "        with pd.ExcelWriter(out_file) as writer:\n",
    "\n",
    "            df_formato_comparable_final[df_formato_comparable_final['direccion'] == formato].to_excel(writer, sheet_name=f'Total Categoria - {formato[0:3]}', index=False)\n",
    "\n",
    "            df_formato_no_comparable_final[df_formato_no_comparable_final['direccion'] == formato].to_excel(writer, sheet_name=f'Total Categoria (Sup Total) - {formato[0:3]}'[0:31], index=False)\n",
    "\n",
    "            df_formato_sector_comparable[df_formato_sector_comparable['direccion'] == formato].to_excel(writer, sheet_name=f'Total Categoria x Sector - {formato[0:3]}', index=False)\n",
    "            \n",
    "            for categoria in categorias:\n",
    "                df_progresiones_join_sector_tienda[(df_progresiones_join_sector_tienda['Categoria'] == categoria) & (df_progresiones_join_sector_tienda['Direccion'] == formato)].to_excel(writer, sheet_name=f'{categoria} - {formato[0:3]}', index=False)\n",
    "\n",
    "            df_final_consolidado_total[df_final_consolidado_total['direccion'] == formato].to_excel(writer, sheet_name=f'Info Consolidada - {formato[0:3]}', index=True)\n",
    "            \n",
    "            df_volumen_grupo_de_familia_comparable[df_volumen_grupo_de_familia_comparable['Direccion'] == formato].to_excel(writer, sheet_name=f'GF Consolidada - {formato[0:3]}', index=False)\n",
    "\n",
    "            acum_join_comparable[acum_join_comparable['direccion'] == formato].to_excel(writer, sheet_name=f'Progresiones comp - {formato[0:3]}', index=False)\n",
    "\n",
    "            acum_join_no_comparable[acum_join_no_comparable['direccion'] == formato].to_excel(writer, sheet_name=f'Progresiones total - {formato[0:3]}', index=False)\n",
    "\n",
    "            #Por el momento la quito ya que primero tengo que pensar como realizar el giratorio\n",
    "            #df_bajada_consolidada.to_excel(writer, sheet_name=f'Base Giratorio', index=False)\n",
    "            \n",
    "        print(f\"Archivo guardado en: {out_file}\")\n",
    "\n",
    "except Exception as e:\n",
    "    print(f\"No se logró guardar la información en un archivo Excel. ERROR: {e}\")"
   ]
  },
  {
   "cell_type": "markdown",
   "id": "2c07bbb3",
   "metadata": {},
   "source": [
    "### Graficos"
   ]
  },
  {
   "cell_type": "code",
   "execution_count": null,
   "id": "493650cf",
   "metadata": {},
   "outputs": [
    {
     "ename": "FileNotFoundError",
     "evalue": "[Errno 2] No such file or directory: 'data/debitos maxi 2023 - 2025.csv'",
     "output_type": "error",
     "traceback": [
      "\u001b[31m---------------------------------------------------------------------------\u001b[39m",
      "\u001b[31mFileNotFoundError\u001b[39m                         Traceback (most recent call last)",
      "\u001b[36mCell\u001b[39m\u001b[36m \u001b[39m\u001b[32mIn[357]\u001b[39m\u001b[32m, line 1\u001b[39m\n\u001b[32m----> \u001b[39m\u001b[32m1\u001b[39m df_debitos = \u001b[43mpd\u001b[49m\u001b[43m.\u001b[49m\u001b[43mread_csv\u001b[49m\u001b[43m(\u001b[49m\u001b[33;43m'\u001b[39;49m\u001b[33;43mdata/debitos maxi 2023 - 2025.csv\u001b[39;49m\u001b[33;43m'\u001b[39;49m\u001b[43m,\u001b[49m\u001b[43m \u001b[49m\u001b[43mencoding\u001b[49m\u001b[43m=\u001b[49m\u001b[33;43m'\u001b[39;49m\u001b[33;43mutf-16\u001b[39;49m\u001b[33;43m'\u001b[39;49m\u001b[43m,\u001b[49m\u001b[43m \u001b[49m\u001b[43mheader\u001b[49m\u001b[43m=\u001b[49m\u001b[32;43m1\u001b[39;49m\u001b[43m,\u001b[49m\u001b[43m \u001b[49m\u001b[43mdecimal\u001b[49m\u001b[43m=\u001b[49m\u001b[33;43m'\u001b[39;49m\u001b[33;43m,\u001b[39;49m\u001b[33;43m'\u001b[39;49m\u001b[43m)\u001b[49m\n",
      "\u001b[36mFile \u001b[39m\u001b[32mc:\\Users\\juan_mera\\Documents\\Python\\Progresiones\\Progresiones Formato, Tiendas y mas\\env\\Lib\\site-packages\\pandas\\io\\parsers\\readers.py:1026\u001b[39m, in \u001b[36mread_csv\u001b[39m\u001b[34m(filepath_or_buffer, sep, delimiter, header, names, index_col, usecols, dtype, engine, converters, true_values, false_values, skipinitialspace, skiprows, skipfooter, nrows, na_values, keep_default_na, na_filter, verbose, skip_blank_lines, parse_dates, infer_datetime_format, keep_date_col, date_parser, date_format, dayfirst, cache_dates, iterator, chunksize, compression, thousands, decimal, lineterminator, quotechar, quoting, doublequote, escapechar, comment, encoding, encoding_errors, dialect, on_bad_lines, delim_whitespace, low_memory, memory_map, float_precision, storage_options, dtype_backend)\u001b[39m\n\u001b[32m   1013\u001b[39m kwds_defaults = _refine_defaults_read(\n\u001b[32m   1014\u001b[39m     dialect,\n\u001b[32m   1015\u001b[39m     delimiter,\n\u001b[32m   (...)\u001b[39m\u001b[32m   1022\u001b[39m     dtype_backend=dtype_backend,\n\u001b[32m   1023\u001b[39m )\n\u001b[32m   1024\u001b[39m kwds.update(kwds_defaults)\n\u001b[32m-> \u001b[39m\u001b[32m1026\u001b[39m \u001b[38;5;28;01mreturn\u001b[39;00m \u001b[43m_read\u001b[49m\u001b[43m(\u001b[49m\u001b[43mfilepath_or_buffer\u001b[49m\u001b[43m,\u001b[49m\u001b[43m \u001b[49m\u001b[43mkwds\u001b[49m\u001b[43m)\u001b[49m\n",
      "\u001b[36mFile \u001b[39m\u001b[32mc:\\Users\\juan_mera\\Documents\\Python\\Progresiones\\Progresiones Formato, Tiendas y mas\\env\\Lib\\site-packages\\pandas\\io\\parsers\\readers.py:620\u001b[39m, in \u001b[36m_read\u001b[39m\u001b[34m(filepath_or_buffer, kwds)\u001b[39m\n\u001b[32m    617\u001b[39m _validate_names(kwds.get(\u001b[33m\"\u001b[39m\u001b[33mnames\u001b[39m\u001b[33m\"\u001b[39m, \u001b[38;5;28;01mNone\u001b[39;00m))\n\u001b[32m    619\u001b[39m \u001b[38;5;66;03m# Create the parser.\u001b[39;00m\n\u001b[32m--> \u001b[39m\u001b[32m620\u001b[39m parser = \u001b[43mTextFileReader\u001b[49m\u001b[43m(\u001b[49m\u001b[43mfilepath_or_buffer\u001b[49m\u001b[43m,\u001b[49m\u001b[43m \u001b[49m\u001b[43m*\u001b[49m\u001b[43m*\u001b[49m\u001b[43mkwds\u001b[49m\u001b[43m)\u001b[49m\n\u001b[32m    622\u001b[39m \u001b[38;5;28;01mif\u001b[39;00m chunksize \u001b[38;5;129;01mor\u001b[39;00m iterator:\n\u001b[32m    623\u001b[39m     \u001b[38;5;28;01mreturn\u001b[39;00m parser\n",
      "\u001b[36mFile \u001b[39m\u001b[32mc:\\Users\\juan_mera\\Documents\\Python\\Progresiones\\Progresiones Formato, Tiendas y mas\\env\\Lib\\site-packages\\pandas\\io\\parsers\\readers.py:1620\u001b[39m, in \u001b[36mTextFileReader.__init__\u001b[39m\u001b[34m(self, f, engine, **kwds)\u001b[39m\n\u001b[32m   1617\u001b[39m     \u001b[38;5;28mself\u001b[39m.options[\u001b[33m\"\u001b[39m\u001b[33mhas_index_names\u001b[39m\u001b[33m\"\u001b[39m] = kwds[\u001b[33m\"\u001b[39m\u001b[33mhas_index_names\u001b[39m\u001b[33m\"\u001b[39m]\n\u001b[32m   1619\u001b[39m \u001b[38;5;28mself\u001b[39m.handles: IOHandles | \u001b[38;5;28;01mNone\u001b[39;00m = \u001b[38;5;28;01mNone\u001b[39;00m\n\u001b[32m-> \u001b[39m\u001b[32m1620\u001b[39m \u001b[38;5;28mself\u001b[39m._engine = \u001b[38;5;28;43mself\u001b[39;49m\u001b[43m.\u001b[49m\u001b[43m_make_engine\u001b[49m\u001b[43m(\u001b[49m\u001b[43mf\u001b[49m\u001b[43m,\u001b[49m\u001b[43m \u001b[49m\u001b[38;5;28;43mself\u001b[39;49m\u001b[43m.\u001b[49m\u001b[43mengine\u001b[49m\u001b[43m)\u001b[49m\n",
      "\u001b[36mFile \u001b[39m\u001b[32mc:\\Users\\juan_mera\\Documents\\Python\\Progresiones\\Progresiones Formato, Tiendas y mas\\env\\Lib\\site-packages\\pandas\\io\\parsers\\readers.py:1880\u001b[39m, in \u001b[36mTextFileReader._make_engine\u001b[39m\u001b[34m(self, f, engine)\u001b[39m\n\u001b[32m   1878\u001b[39m     \u001b[38;5;28;01mif\u001b[39;00m \u001b[33m\"\u001b[39m\u001b[33mb\u001b[39m\u001b[33m\"\u001b[39m \u001b[38;5;129;01mnot\u001b[39;00m \u001b[38;5;129;01min\u001b[39;00m mode:\n\u001b[32m   1879\u001b[39m         mode += \u001b[33m\"\u001b[39m\u001b[33mb\u001b[39m\u001b[33m\"\u001b[39m\n\u001b[32m-> \u001b[39m\u001b[32m1880\u001b[39m \u001b[38;5;28mself\u001b[39m.handles = \u001b[43mget_handle\u001b[49m\u001b[43m(\u001b[49m\n\u001b[32m   1881\u001b[39m \u001b[43m    \u001b[49m\u001b[43mf\u001b[49m\u001b[43m,\u001b[49m\n\u001b[32m   1882\u001b[39m \u001b[43m    \u001b[49m\u001b[43mmode\u001b[49m\u001b[43m,\u001b[49m\n\u001b[32m   1883\u001b[39m \u001b[43m    \u001b[49m\u001b[43mencoding\u001b[49m\u001b[43m=\u001b[49m\u001b[38;5;28;43mself\u001b[39;49m\u001b[43m.\u001b[49m\u001b[43moptions\u001b[49m\u001b[43m.\u001b[49m\u001b[43mget\u001b[49m\u001b[43m(\u001b[49m\u001b[33;43m\"\u001b[39;49m\u001b[33;43mencoding\u001b[39;49m\u001b[33;43m\"\u001b[39;49m\u001b[43m,\u001b[49m\u001b[43m \u001b[49m\u001b[38;5;28;43;01mNone\u001b[39;49;00m\u001b[43m)\u001b[49m\u001b[43m,\u001b[49m\n\u001b[32m   1884\u001b[39m \u001b[43m    \u001b[49m\u001b[43mcompression\u001b[49m\u001b[43m=\u001b[49m\u001b[38;5;28;43mself\u001b[39;49m\u001b[43m.\u001b[49m\u001b[43moptions\u001b[49m\u001b[43m.\u001b[49m\u001b[43mget\u001b[49m\u001b[43m(\u001b[49m\u001b[33;43m\"\u001b[39;49m\u001b[33;43mcompression\u001b[39;49m\u001b[33;43m\"\u001b[39;49m\u001b[43m,\u001b[49m\u001b[43m \u001b[49m\u001b[38;5;28;43;01mNone\u001b[39;49;00m\u001b[43m)\u001b[49m\u001b[43m,\u001b[49m\n\u001b[32m   1885\u001b[39m \u001b[43m    \u001b[49m\u001b[43mmemory_map\u001b[49m\u001b[43m=\u001b[49m\u001b[38;5;28;43mself\u001b[39;49m\u001b[43m.\u001b[49m\u001b[43moptions\u001b[49m\u001b[43m.\u001b[49m\u001b[43mget\u001b[49m\u001b[43m(\u001b[49m\u001b[33;43m\"\u001b[39;49m\u001b[33;43mmemory_map\u001b[39;49m\u001b[33;43m\"\u001b[39;49m\u001b[43m,\u001b[49m\u001b[43m \u001b[49m\u001b[38;5;28;43;01mFalse\u001b[39;49;00m\u001b[43m)\u001b[49m\u001b[43m,\u001b[49m\n\u001b[32m   1886\u001b[39m \u001b[43m    \u001b[49m\u001b[43mis_text\u001b[49m\u001b[43m=\u001b[49m\u001b[43mis_text\u001b[49m\u001b[43m,\u001b[49m\n\u001b[32m   1887\u001b[39m \u001b[43m    \u001b[49m\u001b[43merrors\u001b[49m\u001b[43m=\u001b[49m\u001b[38;5;28;43mself\u001b[39;49m\u001b[43m.\u001b[49m\u001b[43moptions\u001b[49m\u001b[43m.\u001b[49m\u001b[43mget\u001b[49m\u001b[43m(\u001b[49m\u001b[33;43m\"\u001b[39;49m\u001b[33;43mencoding_errors\u001b[39;49m\u001b[33;43m\"\u001b[39;49m\u001b[43m,\u001b[49m\u001b[43m \u001b[49m\u001b[33;43m\"\u001b[39;49m\u001b[33;43mstrict\u001b[39;49m\u001b[33;43m\"\u001b[39;49m\u001b[43m)\u001b[49m\u001b[43m,\u001b[49m\n\u001b[32m   1888\u001b[39m \u001b[43m    \u001b[49m\u001b[43mstorage_options\u001b[49m\u001b[43m=\u001b[49m\u001b[38;5;28;43mself\u001b[39;49m\u001b[43m.\u001b[49m\u001b[43moptions\u001b[49m\u001b[43m.\u001b[49m\u001b[43mget\u001b[49m\u001b[43m(\u001b[49m\u001b[33;43m\"\u001b[39;49m\u001b[33;43mstorage_options\u001b[39;49m\u001b[33;43m\"\u001b[39;49m\u001b[43m,\u001b[49m\u001b[43m \u001b[49m\u001b[38;5;28;43;01mNone\u001b[39;49;00m\u001b[43m)\u001b[49m\u001b[43m,\u001b[49m\n\u001b[32m   1889\u001b[39m \u001b[43m\u001b[49m\u001b[43m)\u001b[49m\n\u001b[32m   1890\u001b[39m \u001b[38;5;28;01massert\u001b[39;00m \u001b[38;5;28mself\u001b[39m.handles \u001b[38;5;129;01mis\u001b[39;00m \u001b[38;5;129;01mnot\u001b[39;00m \u001b[38;5;28;01mNone\u001b[39;00m\n\u001b[32m   1891\u001b[39m f = \u001b[38;5;28mself\u001b[39m.handles.handle\n",
      "\u001b[36mFile \u001b[39m\u001b[32mc:\\Users\\juan_mera\\Documents\\Python\\Progresiones\\Progresiones Formato, Tiendas y mas\\env\\Lib\\site-packages\\pandas\\io\\common.py:873\u001b[39m, in \u001b[36mget_handle\u001b[39m\u001b[34m(path_or_buf, mode, encoding, compression, memory_map, is_text, errors, storage_options)\u001b[39m\n\u001b[32m    868\u001b[39m \u001b[38;5;28;01melif\u001b[39;00m \u001b[38;5;28misinstance\u001b[39m(handle, \u001b[38;5;28mstr\u001b[39m):\n\u001b[32m    869\u001b[39m     \u001b[38;5;66;03m# Check whether the filename is to be opened in binary mode.\u001b[39;00m\n\u001b[32m    870\u001b[39m     \u001b[38;5;66;03m# Binary mode does not support 'encoding' and 'newline'.\u001b[39;00m\n\u001b[32m    871\u001b[39m     \u001b[38;5;28;01mif\u001b[39;00m ioargs.encoding \u001b[38;5;129;01mand\u001b[39;00m \u001b[33m\"\u001b[39m\u001b[33mb\u001b[39m\u001b[33m\"\u001b[39m \u001b[38;5;129;01mnot\u001b[39;00m \u001b[38;5;129;01min\u001b[39;00m ioargs.mode:\n\u001b[32m    872\u001b[39m         \u001b[38;5;66;03m# Encoding\u001b[39;00m\n\u001b[32m--> \u001b[39m\u001b[32m873\u001b[39m         handle = \u001b[38;5;28;43mopen\u001b[39;49m\u001b[43m(\u001b[49m\n\u001b[32m    874\u001b[39m \u001b[43m            \u001b[49m\u001b[43mhandle\u001b[49m\u001b[43m,\u001b[49m\n\u001b[32m    875\u001b[39m \u001b[43m            \u001b[49m\u001b[43mioargs\u001b[49m\u001b[43m.\u001b[49m\u001b[43mmode\u001b[49m\u001b[43m,\u001b[49m\n\u001b[32m    876\u001b[39m \u001b[43m            \u001b[49m\u001b[43mencoding\u001b[49m\u001b[43m=\u001b[49m\u001b[43mioargs\u001b[49m\u001b[43m.\u001b[49m\u001b[43mencoding\u001b[49m\u001b[43m,\u001b[49m\n\u001b[32m    877\u001b[39m \u001b[43m            \u001b[49m\u001b[43merrors\u001b[49m\u001b[43m=\u001b[49m\u001b[43merrors\u001b[49m\u001b[43m,\u001b[49m\n\u001b[32m    878\u001b[39m \u001b[43m            \u001b[49m\u001b[43mnewline\u001b[49m\u001b[43m=\u001b[49m\u001b[33;43m\"\u001b[39;49m\u001b[33;43m\"\u001b[39;49m\u001b[43m,\u001b[49m\n\u001b[32m    879\u001b[39m \u001b[43m        \u001b[49m\u001b[43m)\u001b[49m\n\u001b[32m    880\u001b[39m     \u001b[38;5;28;01melse\u001b[39;00m:\n\u001b[32m    881\u001b[39m         \u001b[38;5;66;03m# Binary mode\u001b[39;00m\n\u001b[32m    882\u001b[39m         handle = \u001b[38;5;28mopen\u001b[39m(handle, ioargs.mode)\n",
      "\u001b[31mFileNotFoundError\u001b[39m: [Errno 2] No such file or directory: 'data/debitos maxi 2023 - 2025.csv'"
     ]
    }
   ],
   "source": [
    "df_debitos = pd.read_csv('data/debitos maxi 2023 - 2025.csv', encoding='utf-16', header=1, decimal=',')"
   ]
  },
  {
   "cell_type": "code",
   "execution_count": null,
   "id": "f72f8870",
   "metadata": {},
   "outputs": [],
   "source": [
    "meses_orden = {'Enero':1, 'Febrero':2, 'Marzo':3, 'Abril':4, 'Mayo':5, 'Junio':6, 'Julio':7, 'Agosto':8, 'Septiembre':9, 'Octubre':10, 'Noviembre':11, 'Diciembre':12}"
   ]
  },
  {
   "cell_type": "code",
   "execution_count": null,
   "id": "fa8c2b02",
   "metadata": {},
   "outputs": [],
   "source": [
    "df_debitos.columns = df_debitos.columns.str.strip().str.replace(' ', '_').str.lower()\n",
    "df_debitos = df_debitos.rename(columns={'mes':'fecha', 'cant._tickets_por_local': 'valores'})\n",
    "df_debitos['mes'] = df_debitos['fecha'].str.split(' ').str[0]\n",
    "df_debitos['numero_operacional'] = df_debitos['punto_operacional'].str.split(' ').str[0].astype(int)\n",
    "df_debitos = df_debitos.drop(columns=['indicadores'])\n",
    "df_debitos['valores'] = df_debitos['valores'].str.replace('.','').str.replace(',','.').astype(int)\n",
    "df_debitos['categoria'] = 'deb'"
   ]
  },
  {
   "cell_type": "code",
   "execution_count": null,
   "id": "81c49b2d",
   "metadata": {},
   "outputs": [
    {
     "data": {
      "text/html": [
       "<div>\n",
       "<style scoped>\n",
       "    .dataframe tbody tr th:only-of-type {\n",
       "        vertical-align: middle;\n",
       "    }\n",
       "\n",
       "    .dataframe tbody tr th {\n",
       "        vertical-align: top;\n",
       "    }\n",
       "\n",
       "    .dataframe thead th {\n",
       "        text-align: right;\n",
       "    }\n",
       "</style>\n",
       "<table border=\"1\" class=\"dataframe\">\n",
       "  <thead>\n",
       "    <tr style=\"text-align: right;\">\n",
       "      <th></th>\n",
       "      <th>año</th>\n",
       "      <th>fecha</th>\n",
       "      <th>punto_operacional</th>\n",
       "      <th>direccion</th>\n",
       "      <th>valores</th>\n",
       "      <th>mes</th>\n",
       "      <th>numero_operacional</th>\n",
       "      <th>categoria</th>\n",
       "    </tr>\n",
       "  </thead>\n",
       "  <tbody>\n",
       "    <tr>\n",
       "      <th>0</th>\n",
       "      <td>2023</td>\n",
       "      <td>Enero del 2023</td>\n",
       "      <td>020 - Avellaneda</td>\n",
       "      <td>MAXI</td>\n",
       "      <td>40016</td>\n",
       "      <td>Enero</td>\n",
       "      <td>20</td>\n",
       "      <td>deb</td>\n",
       "    </tr>\n",
       "    <tr>\n",
       "      <th>1</th>\n",
       "      <td>2023</td>\n",
       "      <td>Enero del 2023</td>\n",
       "      <td>040 - Temperley</td>\n",
       "      <td>MAXI</td>\n",
       "      <td>34536</td>\n",
       "      <td>Enero</td>\n",
       "      <td>40</td>\n",
       "      <td>deb</td>\n",
       "    </tr>\n",
       "    <tr>\n",
       "      <th>2</th>\n",
       "      <td>2023</td>\n",
       "      <td>Enero del 2023</td>\n",
       "      <td>045 - Trelew 25 de Mayo</td>\n",
       "      <td>MAXI</td>\n",
       "      <td>30130</td>\n",
       "      <td>Enero</td>\n",
       "      <td>45</td>\n",
       "      <td>deb</td>\n",
       "    </tr>\n",
       "    <tr>\n",
       "      <th>3</th>\n",
       "      <td>2023</td>\n",
       "      <td>Enero del 2023</td>\n",
       "      <td>057 - Tandil Villa Italia</td>\n",
       "      <td>MAXI</td>\n",
       "      <td>36672</td>\n",
       "      <td>Enero</td>\n",
       "      <td>57</td>\n",
       "      <td>deb</td>\n",
       "    </tr>\n",
       "    <tr>\n",
       "      <th>4</th>\n",
       "      <td>2023</td>\n",
       "      <td>Enero del 2023</td>\n",
       "      <td>059 - Mendoza Godoy Cruz</td>\n",
       "      <td>MAXI</td>\n",
       "      <td>45809</td>\n",
       "      <td>Enero</td>\n",
       "      <td>59</td>\n",
       "      <td>deb</td>\n",
       "    </tr>\n",
       "    <tr>\n",
       "      <th>...</th>\n",
       "      <td>...</td>\n",
       "      <td>...</td>\n",
       "      <td>...</td>\n",
       "      <td>...</td>\n",
       "      <td>...</td>\n",
       "      <td>...</td>\n",
       "      <td>...</td>\n",
       "      <td>...</td>\n",
       "    </tr>\n",
       "    <tr>\n",
       "      <th>1032</th>\n",
       "      <td>2025</td>\n",
       "      <td>Octubre del 2025</td>\n",
       "      <td>706 - Maxi Lomas</td>\n",
       "      <td>MAXI</td>\n",
       "      <td>5188</td>\n",
       "      <td>Octubre</td>\n",
       "      <td>706</td>\n",
       "      <td>deb</td>\n",
       "    </tr>\n",
       "    <tr>\n",
       "      <th>1033</th>\n",
       "      <td>2025</td>\n",
       "      <td>Octubre del 2025</td>\n",
       "      <td>707 - Maxi Cordoba J.B.Justo</td>\n",
       "      <td>MAXI</td>\n",
       "      <td>7559</td>\n",
       "      <td>Octubre</td>\n",
       "      <td>707</td>\n",
       "      <td>deb</td>\n",
       "    </tr>\n",
       "    <tr>\n",
       "      <th>1034</th>\n",
       "      <td>2025</td>\n",
       "      <td>Octubre del 2025</td>\n",
       "      <td>708 - Maxi Tortuguitas</td>\n",
       "      <td>MAXI</td>\n",
       "      <td>4735</td>\n",
       "      <td>Octubre</td>\n",
       "      <td>708</td>\n",
       "      <td>deb</td>\n",
       "    </tr>\n",
       "    <tr>\n",
       "      <th>1035</th>\n",
       "      <td>2025</td>\n",
       "      <td>Octubre del 2025</td>\n",
       "      <td>709 - MAXI - LOMA HERMOSA</td>\n",
       "      <td>MAXI</td>\n",
       "      <td>4149</td>\n",
       "      <td>Octubre</td>\n",
       "      <td>709</td>\n",
       "      <td>deb</td>\n",
       "    </tr>\n",
       "    <tr>\n",
       "      <th>1036</th>\n",
       "      <td>2025</td>\n",
       "      <td>Octubre del 2025</td>\n",
       "      <td>896 - MAXI - SIDE STORE</td>\n",
       "      <td>MAXI</td>\n",
       "      <td>1</td>\n",
       "      <td>Octubre</td>\n",
       "      <td>896</td>\n",
       "      <td>deb</td>\n",
       "    </tr>\n",
       "  </tbody>\n",
       "</table>\n",
       "<p>1037 rows × 8 columns</p>\n",
       "</div>"
      ],
      "text/plain": [
       "       año             fecha             punto_operacional direccion  valores  \\\n",
       "0     2023    Enero del 2023              020 - Avellaneda      MAXI    40016   \n",
       "1     2023    Enero del 2023               040 - Temperley      MAXI    34536   \n",
       "2     2023    Enero del 2023       045 - Trelew 25 de Mayo      MAXI    30130   \n",
       "3     2023    Enero del 2023     057 - Tandil Villa Italia      MAXI    36672   \n",
       "4     2023    Enero del 2023      059 - Mendoza Godoy Cruz      MAXI    45809   \n",
       "...    ...               ...                           ...       ...      ...   \n",
       "1032  2025  Octubre del 2025              706 - Maxi Lomas      MAXI     5188   \n",
       "1033  2025  Octubre del 2025  707 - Maxi Cordoba J.B.Justo      MAXI     7559   \n",
       "1034  2025  Octubre del 2025        708 - Maxi Tortuguitas      MAXI     4735   \n",
       "1035  2025  Octubre del 2025     709 - MAXI - LOMA HERMOSA      MAXI     4149   \n",
       "1036  2025  Octubre del 2025       896 - MAXI - SIDE STORE      MAXI        1   \n",
       "\n",
       "          mes  numero_operacional categoria  \n",
       "0       Enero                  20       deb  \n",
       "1       Enero                  40       deb  \n",
       "2       Enero                  45       deb  \n",
       "3       Enero                  57       deb  \n",
       "4       Enero                  59       deb  \n",
       "...       ...                 ...       ...  \n",
       "1032  Octubre                 706       deb  \n",
       "1033  Octubre                 707       deb  \n",
       "1034  Octubre                 708       deb  \n",
       "1035  Octubre                 709       deb  \n",
       "1036  Octubre                 896       deb  \n",
       "\n",
       "[1037 rows x 8 columns]"
      ]
     },
     "execution_count": 50,
     "metadata": {},
     "output_type": "execute_result"
    }
   ],
   "source": [
    "df_debitos"
   ]
  },
  {
   "cell_type": "code",
   "execution_count": null,
   "id": "3cce23b1",
   "metadata": {},
   "outputs": [],
   "source": [
    "cols = ['Año', 'Mes', 'Direccion', 'Punto Operacional', 'Grupo de Familia', 'Ventas c/impuesto', 'Venta en Unidades']\n",
    "df_ventas = pd.read_csv('data/ventas maxi 2023 -2025.csv', encoding='utf-16', header=1, usecols=cols)"
   ]
  },
  {
   "cell_type": "code",
   "execution_count": null,
   "id": "3b7b6e1a",
   "metadata": {},
   "outputs": [],
   "source": [
    "df_ventas.columns = df_ventas.columns.str.lower().str.strip().str.replace(' ', '_')\n",
    "\n",
    "df_ventas = df_ventas.rename(columns={\n",
    "    'mes':'fecha',\n",
    "    'ventas_c/impuesto':'ventas',\n",
    "    'venta_en_unidades':'volumen'\n",
    "})\n",
    "\n",
    "df_ventas['mes'] = df_ventas['fecha'].str.split(' ').str[0]\n",
    "df_ventas['numero_operacional'] = df_ventas['punto_operacional'].str.split(' ').str[0].astype(int)\n",
    "\n",
    "df_ventas['ventas'] = df_ventas['ventas'].str.replace('.', '').str.replace(',', '.').astype(float)\n",
    "df_ventas['volumen'] = df_ventas['volumen'].str.replace('.', '').str.replace(',', '.').astype(float)"
   ]
  },
  {
   "cell_type": "code",
   "execution_count": null,
   "id": "319da5dc",
   "metadata": {},
   "outputs": [],
   "source": [
    "df_volumen = df_ventas[['año', 'fecha', 'mes', 'direccion', 'numero_operacional', 'punto_operacional', 'grupo_de_familia', 'volumen']]\n",
    "df_ventas = df_ventas[['año', 'fecha', 'mes', 'direccion', 'numero_operacional', 'punto_operacional', 'grupo_de_familia', 'ventas' ]]"
   ]
  },
  {
   "cell_type": "code",
   "execution_count": null,
   "id": "15e33d07",
   "metadata": {},
   "outputs": [],
   "source": [
    "df_ventas = df_ventas.rename(columns={\n",
    "    'ventas':'valores'\n",
    "})\n",
    "df_ventas['categoria'] =  'vct'\n",
    "df_ventas = df_ventas.groupby(['año', 'fecha', 'mes', 'direccion', 'numero_operacional', 'punto_operacional', 'categoria'])['valores'].sum().reset_index()"
   ]
  },
  {
   "cell_type": "code",
   "execution_count": null,
   "id": "818c51f2",
   "metadata": {},
   "outputs": [],
   "source": [
    "df_volumen = df_volumen.rename(columns={\n",
    "    'volumen':'valores'\n",
    "})\n",
    "df_volumen['categoria'] =  'vol'\n",
    "df_volumen = df_volumen[~df_volumen['grupo_de_familia'].isin(['ENVASES BEBIDAS', 'ENVASES PAGADOS'])]\n",
    "df_volumen = df_volumen.groupby(['año', 'fecha', 'mes', 'direccion', 'numero_operacional', 'punto_operacional', 'categoria'])['valores'].sum().reset_index()"
   ]
  },
  {
   "cell_type": "code",
   "execution_count": null,
   "id": "ef3cf581",
   "metadata": {},
   "outputs": [],
   "source": [
    "df_debitos = df_debitos[['año', 'fecha', 'mes', 'direccion', 'numero_operacional', 'punto_operacional', 'categoria', 'valores']]"
   ]
  },
  {
   "cell_type": "code",
   "execution_count": null,
   "id": "e66f9349",
   "metadata": {},
   "outputs": [],
   "source": [
    "df_vdv = pd.concat([df_ventas, df_volumen, df_debitos])"
   ]
  },
  {
   "cell_type": "code",
   "execution_count": null,
   "id": "75595044",
   "metadata": {},
   "outputs": [],
   "source": [
    "df_vdv_join = pd.merge(df_vdv, padron[['numero_operacional', 'sep']], on='numero_operacional')"
   ]
  },
  {
   "cell_type": "code",
   "execution_count": null,
   "id": "25f1d397",
   "metadata": {},
   "outputs": [],
   "source": [
    "df_vdv_join['aux'] = df_vdv_join['mes'].map(meses_orden)"
   ]
  },
  {
   "cell_type": "code",
   "execution_count": null,
   "id": "35db7fb3",
   "metadata": {},
   "outputs": [
    {
     "data": {
      "text/plain": [
       "{1: 'Enero',\n",
       " 2: 'Febrero',\n",
       " 3: 'Marzo',\n",
       " 4: 'Abril',\n",
       " 5: 'Mayo',\n",
       " 6: 'Junio',\n",
       " 7: 'Julio',\n",
       " 8: 'Agosto',\n",
       " 9: 'Septiembre',\n",
       " 10: 'Octubre',\n",
       " 11: 'Noviembre',\n",
       " 12: 'Diciembre'}"
      ]
     },
     "execution_count": 60,
     "metadata": {},
     "output_type": "execute_result"
    }
   ],
   "source": [
    "meses_orden.items()\n",
    "meses_invertidos = {v:k for k, v in meses_orden.items()}\n",
    "meses_invertidos"
   ]
  },
  {
   "cell_type": "code",
   "execution_count": null,
   "id": "8a7382a7",
   "metadata": {},
   "outputs": [
    {
     "data": {
      "text/html": [
       "<div>\n",
       "<style scoped>\n",
       "    .dataframe tbody tr th:only-of-type {\n",
       "        vertical-align: middle;\n",
       "    }\n",
       "\n",
       "    .dataframe tbody tr th {\n",
       "        vertical-align: top;\n",
       "    }\n",
       "\n",
       "    .dataframe thead th {\n",
       "        text-align: right;\n",
       "    }\n",
       "</style>\n",
       "<table border=\"1\" class=\"dataframe\">\n",
       "  <thead>\n",
       "    <tr style=\"text-align: right;\">\n",
       "      <th></th>\n",
       "      <th>año</th>\n",
       "      <th>fecha</th>\n",
       "      <th>mes</th>\n",
       "      <th>direccion</th>\n",
       "      <th>numero_operacional</th>\n",
       "      <th>punto_operacional</th>\n",
       "      <th>categoria</th>\n",
       "      <th>valores</th>\n",
       "      <th>sep</th>\n",
       "      <th>aux</th>\n",
       "    </tr>\n",
       "  </thead>\n",
       "  <tbody>\n",
       "    <tr>\n",
       "      <th>0</th>\n",
       "      <td>2023</td>\n",
       "      <td>Abril del 2023</td>\n",
       "      <td>Abril</td>\n",
       "      <td>MAXI</td>\n",
       "      <td>20</td>\n",
       "      <td>020 - Avellaneda</td>\n",
       "      <td>vct</td>\n",
       "      <td>9.440494e+08</td>\n",
       "      <td>SC</td>\n",
       "      <td>4</td>\n",
       "    </tr>\n",
       "    <tr>\n",
       "      <th>1</th>\n",
       "      <td>2023</td>\n",
       "      <td>Abril del 2023</td>\n",
       "      <td>Abril</td>\n",
       "      <td>MAXI</td>\n",
       "      <td>40</td>\n",
       "      <td>040 - Temperley</td>\n",
       "      <td>vct</td>\n",
       "      <td>2.997863e+08</td>\n",
       "      <td>SC</td>\n",
       "      <td>4</td>\n",
       "    </tr>\n",
       "    <tr>\n",
       "      <th>2</th>\n",
       "      <td>2023</td>\n",
       "      <td>Abril del 2023</td>\n",
       "      <td>Abril</td>\n",
       "      <td>MAXI</td>\n",
       "      <td>45</td>\n",
       "      <td>045 - Trelew 25 de Mayo</td>\n",
       "      <td>vct</td>\n",
       "      <td>1.980232e+08</td>\n",
       "      <td>SC</td>\n",
       "      <td>4</td>\n",
       "    </tr>\n",
       "    <tr>\n",
       "      <th>3</th>\n",
       "      <td>2023</td>\n",
       "      <td>Abril del 2023</td>\n",
       "      <td>Abril</td>\n",
       "      <td>MAXI</td>\n",
       "      <td>57</td>\n",
       "      <td>057 - Tandil Villa Italia</td>\n",
       "      <td>vct</td>\n",
       "      <td>3.037086e+08</td>\n",
       "      <td>SC</td>\n",
       "      <td>4</td>\n",
       "    </tr>\n",
       "    <tr>\n",
       "      <th>4</th>\n",
       "      <td>2023</td>\n",
       "      <td>Abril del 2023</td>\n",
       "      <td>Abril</td>\n",
       "      <td>MAXI</td>\n",
       "      <td>59</td>\n",
       "      <td>059 - Mendoza Godoy Cruz</td>\n",
       "      <td>vct</td>\n",
       "      <td>7.150335e+08</td>\n",
       "      <td>SC</td>\n",
       "      <td>4</td>\n",
       "    </tr>\n",
       "    <tr>\n",
       "      <th>...</th>\n",
       "      <td>...</td>\n",
       "      <td>...</td>\n",
       "      <td>...</td>\n",
       "      <td>...</td>\n",
       "      <td>...</td>\n",
       "      <td>...</td>\n",
       "      <td>...</td>\n",
       "      <td>...</td>\n",
       "      <td>...</td>\n",
       "      <td>...</td>\n",
       "    </tr>\n",
       "    <tr>\n",
       "      <th>3108</th>\n",
       "      <td>2025</td>\n",
       "      <td>Octubre del 2025</td>\n",
       "      <td>Octubre</td>\n",
       "      <td>MAXI</td>\n",
       "      <td>706</td>\n",
       "      <td>706 - Maxi Lomas</td>\n",
       "      <td>deb</td>\n",
       "      <td>5.188000e+03</td>\n",
       "      <td>SC</td>\n",
       "      <td>10</td>\n",
       "    </tr>\n",
       "    <tr>\n",
       "      <th>3109</th>\n",
       "      <td>2025</td>\n",
       "      <td>Octubre del 2025</td>\n",
       "      <td>Octubre</td>\n",
       "      <td>MAXI</td>\n",
       "      <td>707</td>\n",
       "      <td>707 - Maxi Cordoba J.B.Justo</td>\n",
       "      <td>deb</td>\n",
       "      <td>7.559000e+03</td>\n",
       "      <td>SC</td>\n",
       "      <td>10</td>\n",
       "    </tr>\n",
       "    <tr>\n",
       "      <th>3110</th>\n",
       "      <td>2025</td>\n",
       "      <td>Octubre del 2025</td>\n",
       "      <td>Octubre</td>\n",
       "      <td>MAXI</td>\n",
       "      <td>708</td>\n",
       "      <td>708 - Maxi Tortuguitas</td>\n",
       "      <td>deb</td>\n",
       "      <td>4.735000e+03</td>\n",
       "      <td>SC</td>\n",
       "      <td>10</td>\n",
       "    </tr>\n",
       "    <tr>\n",
       "      <th>3111</th>\n",
       "      <td>2025</td>\n",
       "      <td>Octubre del 2025</td>\n",
       "      <td>Octubre</td>\n",
       "      <td>MAXI</td>\n",
       "      <td>709</td>\n",
       "      <td>709 - MAXI - LOMA HERMOSA</td>\n",
       "      <td>deb</td>\n",
       "      <td>4.149000e+03</td>\n",
       "      <td>SC</td>\n",
       "      <td>10</td>\n",
       "    </tr>\n",
       "    <tr>\n",
       "      <th>3112</th>\n",
       "      <td>2025</td>\n",
       "      <td>Octubre del 2025</td>\n",
       "      <td>Octubre</td>\n",
       "      <td>MAXI</td>\n",
       "      <td>896</td>\n",
       "      <td>896 - MAXI - SIDE STORE</td>\n",
       "      <td>deb</td>\n",
       "      <td>1.000000e+00</td>\n",
       "      <td>SC</td>\n",
       "      <td>10</td>\n",
       "    </tr>\n",
       "  </tbody>\n",
       "</table>\n",
       "<p>3113 rows × 10 columns</p>\n",
       "</div>"
      ],
      "text/plain": [
       "       año             fecha      mes direccion  numero_operacional  \\\n",
       "0     2023    Abril del 2023    Abril      MAXI                  20   \n",
       "1     2023    Abril del 2023    Abril      MAXI                  40   \n",
       "2     2023    Abril del 2023    Abril      MAXI                  45   \n",
       "3     2023    Abril del 2023    Abril      MAXI                  57   \n",
       "4     2023    Abril del 2023    Abril      MAXI                  59   \n",
       "...    ...               ...      ...       ...                 ...   \n",
       "3108  2025  Octubre del 2025  Octubre      MAXI                 706   \n",
       "3109  2025  Octubre del 2025  Octubre      MAXI                 707   \n",
       "3110  2025  Octubre del 2025  Octubre      MAXI                 708   \n",
       "3111  2025  Octubre del 2025  Octubre      MAXI                 709   \n",
       "3112  2025  Octubre del 2025  Octubre      MAXI                 896   \n",
       "\n",
       "                 punto_operacional categoria       valores sep  aux  \n",
       "0                 020 - Avellaneda       vct  9.440494e+08  SC    4  \n",
       "1                  040 - Temperley       vct  2.997863e+08  SC    4  \n",
       "2          045 - Trelew 25 de Mayo       vct  1.980232e+08  SC    4  \n",
       "3        057 - Tandil Villa Italia       vct  3.037086e+08  SC    4  \n",
       "4         059 - Mendoza Godoy Cruz       vct  7.150335e+08  SC    4  \n",
       "...                            ...       ...           ...  ..  ...  \n",
       "3108              706 - Maxi Lomas       deb  5.188000e+03  SC   10  \n",
       "3109  707 - Maxi Cordoba J.B.Justo       deb  7.559000e+03  SC   10  \n",
       "3110        708 - Maxi Tortuguitas       deb  4.735000e+03  SC   10  \n",
       "3111     709 - MAXI - LOMA HERMOSA       deb  4.149000e+03  SC   10  \n",
       "3112       896 - MAXI - SIDE STORE       deb  1.000000e+00  SC   10  \n",
       "\n",
       "[3113 rows x 10 columns]"
      ]
     },
     "execution_count": 61,
     "metadata": {},
     "output_type": "execute_result"
    }
   ],
   "source": [
    "df_vdv_join"
   ]
  },
  {
   "cell_type": "code",
   "execution_count": null,
   "id": "ebfbac7f",
   "metadata": {},
   "outputs": [
    {
     "data": {
      "text/html": [
       "<div>\n",
       "<style scoped>\n",
       "    .dataframe tbody tr th:only-of-type {\n",
       "        vertical-align: middle;\n",
       "    }\n",
       "\n",
       "    .dataframe tbody tr th {\n",
       "        vertical-align: top;\n",
       "    }\n",
       "\n",
       "    .dataframe thead th {\n",
       "        text-align: right;\n",
       "    }\n",
       "</style>\n",
       "<table border=\"1\" class=\"dataframe\">\n",
       "  <thead>\n",
       "    <tr style=\"text-align: right;\">\n",
       "      <th></th>\n",
       "      <th>año</th>\n",
       "      <th>fecha</th>\n",
       "      <th>mes</th>\n",
       "      <th>direccion</th>\n",
       "      <th>numero_operacional</th>\n",
       "      <th>punto_operacional</th>\n",
       "      <th>categoria</th>\n",
       "      <th>valores</th>\n",
       "      <th>sep</th>\n",
       "      <th>aux</th>\n",
       "    </tr>\n",
       "  </thead>\n",
       "  <tbody>\n",
       "    <tr>\n",
       "      <th>90</th>\n",
       "      <td>2023</td>\n",
       "      <td>Enero del 2023</td>\n",
       "      <td>Enero</td>\n",
       "      <td>MAXI</td>\n",
       "      <td>266</td>\n",
       "      <td>266 - Parana Don Bosco</td>\n",
       "      <td>vct</td>\n",
       "      <td>7.080923e+07</td>\n",
       "      <td>SC</td>\n",
       "      <td>1</td>\n",
       "    </tr>\n",
       "    <tr>\n",
       "      <th>91</th>\n",
       "      <td>2023</td>\n",
       "      <td>Enero del 2023</td>\n",
       "      <td>Enero</td>\n",
       "      <td>MAXI</td>\n",
       "      <td>278</td>\n",
       "      <td>278 - MAXI Marquez</td>\n",
       "      <td>vct</td>\n",
       "      <td>1.686451e+08</td>\n",
       "      <td>SC</td>\n",
       "      <td>1</td>\n",
       "    </tr>\n",
       "    <tr>\n",
       "      <th>92</th>\n",
       "      <td>2023</td>\n",
       "      <td>Enero del 2023</td>\n",
       "      <td>Enero</td>\n",
       "      <td>MAXI</td>\n",
       "      <td>294</td>\n",
       "      <td>294 - Ituzaingo Blas Parera</td>\n",
       "      <td>vct</td>\n",
       "      <td>2.159977e+08</td>\n",
       "      <td>SC</td>\n",
       "      <td>1</td>\n",
       "    </tr>\n",
       "    <tr>\n",
       "      <th>93</th>\n",
       "      <td>2023</td>\n",
       "      <td>Enero del 2023</td>\n",
       "      <td>Enero</td>\n",
       "      <td>MAXI</td>\n",
       "      <td>701</td>\n",
       "      <td>701 - Ruta III</td>\n",
       "      <td>vct</td>\n",
       "      <td>7.070009e+08</td>\n",
       "      <td>SC</td>\n",
       "      <td>1</td>\n",
       "    </tr>\n",
       "    <tr>\n",
       "      <th>94</th>\n",
       "      <td>2023</td>\n",
       "      <td>Enero del 2023</td>\n",
       "      <td>Enero</td>\n",
       "      <td>MAXI</td>\n",
       "      <td>702</td>\n",
       "      <td>702 - Claypole</td>\n",
       "      <td>vct</td>\n",
       "      <td>7.535027e+08</td>\n",
       "      <td>SC</td>\n",
       "      <td>1</td>\n",
       "    </tr>\n",
       "    <tr>\n",
       "      <th>...</th>\n",
       "      <td>...</td>\n",
       "      <td>...</td>\n",
       "      <td>...</td>\n",
       "      <td>...</td>\n",
       "      <td>...</td>\n",
       "      <td>...</td>\n",
       "      <td>...</td>\n",
       "      <td>...</td>\n",
       "      <td>...</td>\n",
       "      <td>...</td>\n",
       "    </tr>\n",
       "    <tr>\n",
       "      <th>77</th>\n",
       "      <td>2023</td>\n",
       "      <td>Diciembre del 2023</td>\n",
       "      <td>Diciembre</td>\n",
       "      <td>MAXI</td>\n",
       "      <td>709</td>\n",
       "      <td>709 - MAXI - LOMA HERMOSA</td>\n",
       "      <td>vct</td>\n",
       "      <td>7.033901e+08</td>\n",
       "      <td>SC</td>\n",
       "      <td>12</td>\n",
       "    </tr>\n",
       "    <tr>\n",
       "      <th>78</th>\n",
       "      <td>2023</td>\n",
       "      <td>Diciembre del 2023</td>\n",
       "      <td>Diciembre</td>\n",
       "      <td>MAXI</td>\n",
       "      <td>896</td>\n",
       "      <td>896 - MAXI - SIDE STORE</td>\n",
       "      <td>vct</td>\n",
       "      <td>1.163335e+08</td>\n",
       "      <td>SC</td>\n",
       "      <td>12</td>\n",
       "    </tr>\n",
       "    <tr>\n",
       "      <th>2366</th>\n",
       "      <td>2023</td>\n",
       "      <td>Diciembre del 2023</td>\n",
       "      <td>Diciembre</td>\n",
       "      <td>MAXI</td>\n",
       "      <td>503</td>\n",
       "      <td>503 - Maxi San Vicente</td>\n",
       "      <td>deb</td>\n",
       "      <td>2.748600e+04</td>\n",
       "      <td>SC</td>\n",
       "      <td>12</td>\n",
       "    </tr>\n",
       "    <tr>\n",
       "      <th>2367</th>\n",
       "      <td>2023</td>\n",
       "      <td>Diciembre del 2023</td>\n",
       "      <td>Diciembre</td>\n",
       "      <td>MAXI</td>\n",
       "      <td>504</td>\n",
       "      <td>504 - Maxi Cacheuta Cba</td>\n",
       "      <td>deb</td>\n",
       "      <td>2.684500e+04</td>\n",
       "      <td>SC</td>\n",
       "      <td>12</td>\n",
       "    </tr>\n",
       "    <tr>\n",
       "      <th>2368</th>\n",
       "      <td>2023</td>\n",
       "      <td>Diciembre del 2023</td>\n",
       "      <td>Diciembre</td>\n",
       "      <td>MAXI</td>\n",
       "      <td>505</td>\n",
       "      <td>505 - Maxi Ruta 25 Pilar</td>\n",
       "      <td>deb</td>\n",
       "      <td>3.224100e+04</td>\n",
       "      <td>SC</td>\n",
       "      <td>12</td>\n",
       "    </tr>\n",
       "  </tbody>\n",
       "</table>\n",
       "<p>3113 rows × 10 columns</p>\n",
       "</div>"
      ],
      "text/plain": [
       "       año               fecha        mes direccion  numero_operacional  \\\n",
       "90    2023      Enero del 2023      Enero      MAXI                 266   \n",
       "91    2023      Enero del 2023      Enero      MAXI                 278   \n",
       "92    2023      Enero del 2023      Enero      MAXI                 294   \n",
       "93    2023      Enero del 2023      Enero      MAXI                 701   \n",
       "94    2023      Enero del 2023      Enero      MAXI                 702   \n",
       "...    ...                 ...        ...       ...                 ...   \n",
       "77    2023  Diciembre del 2023  Diciembre      MAXI                 709   \n",
       "78    2023  Diciembre del 2023  Diciembre      MAXI                 896   \n",
       "2366  2023  Diciembre del 2023  Diciembre      MAXI                 503   \n",
       "2367  2023  Diciembre del 2023  Diciembre      MAXI                 504   \n",
       "2368  2023  Diciembre del 2023  Diciembre      MAXI                 505   \n",
       "\n",
       "                punto_operacional categoria       valores sep  aux  \n",
       "90         266 - Parana Don Bosco       vct  7.080923e+07  SC    1  \n",
       "91             278 - MAXI Marquez       vct  1.686451e+08  SC    1  \n",
       "92    294 - Ituzaingo Blas Parera       vct  2.159977e+08  SC    1  \n",
       "93                 701 - Ruta III       vct  7.070009e+08  SC    1  \n",
       "94                 702 - Claypole       vct  7.535027e+08  SC    1  \n",
       "...                           ...       ...           ...  ..  ...  \n",
       "77      709 - MAXI - LOMA HERMOSA       vct  7.033901e+08  SC   12  \n",
       "78        896 - MAXI - SIDE STORE       vct  1.163335e+08  SC   12  \n",
       "2366       503 - Maxi San Vicente       deb  2.748600e+04  SC   12  \n",
       "2367      504 - Maxi Cacheuta Cba       deb  2.684500e+04  SC   12  \n",
       "2368     505 - Maxi Ruta 25 Pilar       deb  3.224100e+04  SC   12  \n",
       "\n",
       "[3113 rows x 10 columns]"
      ]
     },
     "execution_count": 62,
     "metadata": {},
     "output_type": "execute_result"
    }
   ],
   "source": [
    "df_vdv_join.sort_values(by='aux', ascending=True)\n",
    "df_vdv_join['fecha_completa'] = pd.to_datetime(\n",
    "    '01/' + df_vdv_join['aux'].astype(str) + '/' + df_vdv_join['año'].astype(str), format='%d/%m/%Y')\n",
    "mes_comparable = 'Septiembre'\n",
    "fecha_tope = pd.to_datetime('01/'+ str(meses_orden[mes_comparable]) + '/' + '2025', format='%d/%m/%Y')\n",
    "df_vdv_join = df_vdv_join[df_vdv_join['fecha_completa'] <= fecha_tope]"
   ]
  },
  {
   "cell_type": "code",
   "execution_count": null,
   "id": "2efb26e4",
   "metadata": {},
   "outputs": [],
   "source": [
    "df_vdv_join = df_vdv_join.pivot_table(values='valores', columns='año', index=['mes', 'numero_operacional', 'punto_operacional', 'categoria', 'sep', 'aux'], aggfunc='sum').reset_index()\n",
    "df_vdv_join['progresion 2024'] = round((df_vdv_join[2024] / df_vdv_join[2023]) - 1, 3)\n",
    "df_vdv_join['progresion 2025'] = round((df_vdv_join[2025] / df_vdv_join[2024]) - 1, 3)\n",
    "df_vdv_join_tienda = df_vdv_join.groupby(['mes', 'numero_operacional', 'punto_operacional', 'categoria', 'sep', 'aux'])[[2023, 2024, 2025, 'progresion 2024', 'progresion 2025']].sum().reset_index()\n",
    "df_vdv_join_tienda = df_vdv_join_tienda.pivot_table(values=[2024, 2025, 'progresion 2024', 'progresion 2025'], columns='categoria', index=['mes', 'numero_operacional', 'punto_operacional', 'sep', 'aux'], aggfunc='sum').reset_index().sort_values(by=('aux',''))\n",
    "df_vdv_join_comparable = df_vdv_join[df_vdv_join['sep'] == 'SC']\n",
    "df_vdv_join_total = df_vdv_join\n",
    "info_comparable = df_vdv_join_comparable.groupby(['mes', 'categoria', 'aux'])[['progresion 2024', 'progresion 2025']].sum().reset_index().pivot_table(values=['progresion 2024', 'progresion 2025'], index=['mes', 'aux'], columns='categoria', aggfunc='sum').reset_index().sort_values(('aux',''))"
   ]
  },
  {
   "cell_type": "code",
   "execution_count": null,
   "id": "42c84c84",
   "metadata": {},
   "outputs": [
    {
     "data": {
      "text/html": [
       "<div>\n",
       "<style scoped>\n",
       "    .dataframe tbody tr th:only-of-type {\n",
       "        vertical-align: middle;\n",
       "    }\n",
       "\n",
       "    .dataframe tbody tr th {\n",
       "        vertical-align: top;\n",
       "    }\n",
       "\n",
       "    .dataframe thead tr th {\n",
       "        text-align: left;\n",
       "    }\n",
       "</style>\n",
       "<table border=\"1\" class=\"dataframe\">\n",
       "  <thead>\n",
       "    <tr>\n",
       "      <th>año</th>\n",
       "      <th>mes</th>\n",
       "      <th>aux</th>\n",
       "      <th colspan=\"3\" halign=\"left\">progresion 2024</th>\n",
       "      <th colspan=\"3\" halign=\"left\">progresion 2025</th>\n",
       "    </tr>\n",
       "    <tr>\n",
       "      <th>categoria</th>\n",
       "      <th></th>\n",
       "      <th></th>\n",
       "      <th>deb</th>\n",
       "      <th>vct</th>\n",
       "      <th>vol</th>\n",
       "      <th>deb</th>\n",
       "      <th>vct</th>\n",
       "      <th>vol</th>\n",
       "    </tr>\n",
       "  </thead>\n",
       "  <tbody>\n",
       "    <tr>\n",
       "      <th>3</th>\n",
       "      <td>Enero</td>\n",
       "      <td>1</td>\n",
       "      <td>1.381</td>\n",
       "      <td>60.487</td>\n",
       "      <td>0.355</td>\n",
       "      <td>-6.497</td>\n",
       "      <td>20.558</td>\n",
       "      <td>-2.907</td>\n",
       "    </tr>\n",
       "    <tr>\n",
       "      <th>4</th>\n",
       "      <td>Febrero</td>\n",
       "      <td>2</td>\n",
       "      <td>-0.154</td>\n",
       "      <td>70.576</td>\n",
       "      <td>0.524</td>\n",
       "      <td>-6.019</td>\n",
       "      <td>18.080</td>\n",
       "      <td>-0.899</td>\n",
       "    </tr>\n",
       "    <tr>\n",
       "      <th>7</th>\n",
       "      <td>Marzo</td>\n",
       "      <td>3</td>\n",
       "      <td>-2.231</td>\n",
       "      <td>61.121</td>\n",
       "      <td>-1.550</td>\n",
       "      <td>-5.124</td>\n",
       "      <td>15.646</td>\n",
       "      <td>-0.998</td>\n",
       "    </tr>\n",
       "    <tr>\n",
       "      <th>0</th>\n",
       "      <td>Abril</td>\n",
       "      <td>4</td>\n",
       "      <td>-4.103</td>\n",
       "      <td>51.952</td>\n",
       "      <td>-3.600</td>\n",
       "      <td>-4.165</td>\n",
       "      <td>16.831</td>\n",
       "      <td>0.252</td>\n",
       "    </tr>\n",
       "    <tr>\n",
       "      <th>8</th>\n",
       "      <td>Mayo</td>\n",
       "      <td>5</td>\n",
       "      <td>-3.031</td>\n",
       "      <td>49.917</td>\n",
       "      <td>-3.630</td>\n",
       "      <td>-5.305</td>\n",
       "      <td>20.095</td>\n",
       "      <td>0.853</td>\n",
       "    </tr>\n",
       "    <tr>\n",
       "      <th>6</th>\n",
       "      <td>Junio</td>\n",
       "      <td>6</td>\n",
       "      <td>-3.594</td>\n",
       "      <td>46.074</td>\n",
       "      <td>-3.974</td>\n",
       "      <td>-6.144</td>\n",
       "      <td>15.307</td>\n",
       "      <td>-1.293</td>\n",
       "    </tr>\n",
       "    <tr>\n",
       "      <th>5</th>\n",
       "      <td>Julio</td>\n",
       "      <td>7</td>\n",
       "      <td>-4.056</td>\n",
       "      <td>41.593</td>\n",
       "      <td>-5.538</td>\n",
       "      <td>-5.370</td>\n",
       "      <td>12.593</td>\n",
       "      <td>-0.202</td>\n",
       "    </tr>\n",
       "    <tr>\n",
       "      <th>1</th>\n",
       "      <td>Agosto</td>\n",
       "      <td>8</td>\n",
       "      <td>-5.862</td>\n",
       "      <td>36.663</td>\n",
       "      <td>-6.107</td>\n",
       "      <td>-4.423</td>\n",
       "      <td>19.019</td>\n",
       "      <td>2.991</td>\n",
       "    </tr>\n",
       "    <tr>\n",
       "      <th>11</th>\n",
       "      <td>Septiembre</td>\n",
       "      <td>9</td>\n",
       "      <td>-6.925</td>\n",
       "      <td>46.838</td>\n",
       "      <td>-5.847</td>\n",
       "      <td>-5.486</td>\n",
       "      <td>6.457</td>\n",
       "      <td>-1.154</td>\n",
       "    </tr>\n",
       "    <tr>\n",
       "      <th>10</th>\n",
       "      <td>Octubre</td>\n",
       "      <td>10</td>\n",
       "      <td>-6.188</td>\n",
       "      <td>37.826</td>\n",
       "      <td>-5.516</td>\n",
       "      <td>0.000</td>\n",
       "      <td>0.000</td>\n",
       "      <td>0.000</td>\n",
       "    </tr>\n",
       "    <tr>\n",
       "      <th>9</th>\n",
       "      <td>Noviembre</td>\n",
       "      <td>11</td>\n",
       "      <td>8.905</td>\n",
       "      <td>62.199</td>\n",
       "      <td>0.320</td>\n",
       "      <td>0.000</td>\n",
       "      <td>0.000</td>\n",
       "      <td>0.000</td>\n",
       "    </tr>\n",
       "    <tr>\n",
       "      <th>2</th>\n",
       "      <td>Diciembre</td>\n",
       "      <td>12</td>\n",
       "      <td>-8.680</td>\n",
       "      <td>23.551</td>\n",
       "      <td>-7.878</td>\n",
       "      <td>0.000</td>\n",
       "      <td>0.000</td>\n",
       "      <td>0.000</td>\n",
       "    </tr>\n",
       "  </tbody>\n",
       "</table>\n",
       "</div>"
      ],
      "text/plain": [
       "año               mes aux progresion 2024                progresion 2025  \\\n",
       "categoria                             deb     vct    vol             deb   \n",
       "3               Enero   1           1.381  60.487  0.355          -6.497   \n",
       "4             Febrero   2          -0.154  70.576  0.524          -6.019   \n",
       "7               Marzo   3          -2.231  61.121 -1.550          -5.124   \n",
       "0               Abril   4          -4.103  51.952 -3.600          -4.165   \n",
       "8                Mayo   5          -3.031  49.917 -3.630          -5.305   \n",
       "6               Junio   6          -3.594  46.074 -3.974          -6.144   \n",
       "5               Julio   7          -4.056  41.593 -5.538          -5.370   \n",
       "1              Agosto   8          -5.862  36.663 -6.107          -4.423   \n",
       "11         Septiembre   9          -6.925  46.838 -5.847          -5.486   \n",
       "10            Octubre  10          -6.188  37.826 -5.516           0.000   \n",
       "9           Noviembre  11           8.905  62.199  0.320           0.000   \n",
       "2           Diciembre  12          -8.680  23.551 -7.878           0.000   \n",
       "\n",
       "año                       \n",
       "categoria     vct    vol  \n",
       "3          20.558 -2.907  \n",
       "4          18.080 -0.899  \n",
       "7          15.646 -0.998  \n",
       "0          16.831  0.252  \n",
       "8          20.095  0.853  \n",
       "6          15.307 -1.293  \n",
       "5          12.593 -0.202  \n",
       "1          19.019  2.991  \n",
       "11          6.457 -1.154  \n",
       "10          0.000  0.000  \n",
       "9           0.000  0.000  \n",
       "2           0.000  0.000  "
      ]
     },
     "execution_count": 72,
     "metadata": {},
     "output_type": "execute_result"
    }
   ],
   "source": [
    "info_comparable"
   ]
  }
 ],
 "metadata": {
  "kernelspec": {
   "display_name": "env",
   "language": "python",
   "name": "python3"
  },
  "language_info": {
   "codemirror_mode": {
    "name": "ipython",
    "version": 3
   },
   "file_extension": ".py",
   "mimetype": "text/x-python",
   "name": "python",
   "nbconvert_exporter": "python",
   "pygments_lexer": "ipython3",
   "version": "3.13.9"
  }
 },
 "nbformat": 4,
 "nbformat_minor": 5
}
