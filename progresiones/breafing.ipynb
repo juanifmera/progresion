{
 "cells": [
  {
   "cell_type": "markdown",
   "id": "3f2f964b",
   "metadata": {},
   "source": [
    "# MAXI"
   ]
  },
  {
   "cell_type": "code",
   "execution_count": 916,
   "id": "55a67370",
   "metadata": {},
   "outputs": [],
   "source": [
    "import pandas as pd"
   ]
  },
  {
   "cell_type": "markdown",
   "id": "26e9e99f",
   "metadata": {},
   "source": [
    "### Ventas y Volumen"
   ]
  },
  {
   "cell_type": "code",
   "execution_count": 917,
   "id": "0128f4ee",
   "metadata": {},
   "outputs": [],
   "source": [
    "cols = ['Año', 'Mes', 'Direccion', 'Punto Operacional', 'Sector', 'Seccion', 'Grupo de Familia', 'Ventas c/impuesto', 'Venta en Unidades']\n",
    "df_ventas_vol = pd.read_csv('data/ventas y volumen maxi 28 dias moviles sep-oct.csv', encoding='utf-16', header=1, usecols=cols, decimal=',')\n",
    "df_ventas_vol.columns = df_ventas_vol.columns.str.lower().str.replace(' ','_')"
   ]
  },
  {
   "cell_type": "code",
   "execution_count": 918,
   "id": "c2732ddb",
   "metadata": {},
   "outputs": [],
   "source": [
    "df_ventas_vol.rename(columns={\n",
    "    'mes':'fecha',\n",
    "    'ventas_c/impuesto':'vct',\n",
    "    'venta_en_unidades':'vol',\n",
    "}, inplace=True)"
   ]
  },
  {
   "cell_type": "code",
   "execution_count": 919,
   "id": "b5585b81",
   "metadata": {},
   "outputs": [],
   "source": [
    "df_ventas_vol['mes'] = df_ventas_vol['fecha'].str.split(' ').str[0]\n",
    "df_ventas_vol['numero_operacional'] = df_ventas_vol['punto_operacional'].str.split(' ').str[0].astype(int)"
   ]
  },
  {
   "cell_type": "markdown",
   "id": "a8657b1d",
   "metadata": {},
   "source": [
    "### Separacion Ventas y Volumen"
   ]
  },
  {
   "cell_type": "code",
   "execution_count": 920,
   "id": "d889dbee",
   "metadata": {},
   "outputs": [
    {
     "name": "stderr",
     "output_type": "stream",
     "text": [
      "C:\\Users\\juan_mera\\AppData\\Local\\Temp\\ipykernel_12020\\3609712812.py:3: SettingWithCopyWarning: \n",
      "A value is trying to be set on a copy of a slice from a DataFrame\n",
      "\n",
      "See the caveats in the documentation: https://pandas.pydata.org/pandas-docs/stable/user_guide/indexing.html#returning-a-view-versus-a-copy\n",
      "  df_ventas.rename(columns={\n",
      "C:\\Users\\juan_mera\\AppData\\Local\\Temp\\ipykernel_12020\\3609712812.py:6: SettingWithCopyWarning: \n",
      "A value is trying to be set on a copy of a slice from a DataFrame\n",
      "\n",
      "See the caveats in the documentation: https://pandas.pydata.org/pandas-docs/stable/user_guide/indexing.html#returning-a-view-versus-a-copy\n",
      "  df_volumen.rename(columns={\n"
     ]
    }
   ],
   "source": [
    "df_ventas = df_ventas_vol[['año', 'fecha', 'direccion', 'punto_operacional', 'sector', 'seccion', 'grupo_de_familia', 'vct', 'mes', 'numero_operacional']]\n",
    "df_volumen = df_ventas_vol[['año', 'fecha', 'direccion', 'punto_operacional', 'sector', 'seccion', 'grupo_de_familia', 'vol', 'mes', 'numero_operacional']]\n",
    "df_ventas.rename(columns={\n",
    "    'vct':'valores'\n",
    "}, inplace=True)\n",
    "df_volumen.rename(columns={\n",
    "    'vol':'valores'\n",
    "}, inplace=True)"
   ]
  },
  {
   "cell_type": "code",
   "execution_count": 921,
   "id": "ded9ccf3",
   "metadata": {},
   "outputs": [],
   "source": [
    "df_ventas['categoria'] = 'vct'\n",
    "df_volumen['categoria'] = 'vol'"
   ]
  },
  {
   "cell_type": "code",
   "execution_count": 922,
   "id": "3658c83f",
   "metadata": {},
   "outputs": [],
   "source": [
    "df_ventas['valores'] = pd.to_numeric(df_ventas['valores'].str.replace('.', '').str.replace(',','.'))\n",
    "df_volumen['valores'] = pd.to_numeric(df_volumen['valores'].str.replace('.', '').str.replace(',','.'))"
   ]
  },
  {
   "cell_type": "markdown",
   "id": "21366daf",
   "metadata": {},
   "source": [
    "### Le quito los envases al volumen"
   ]
  },
  {
   "cell_type": "code",
   "execution_count": 923,
   "id": "6f993490",
   "metadata": {},
   "outputs": [],
   "source": [
    "df_volumen = df_volumen[~df_volumen['grupo_de_familia'].isin(['ENVASES BEBIDAS', 'ENVASES PAGADOS'])]"
   ]
  },
  {
   "cell_type": "code",
   "execution_count": 924,
   "id": "092c705a",
   "metadata": {},
   "outputs": [],
   "source": [
    "df_ventas_tienda = df_ventas.groupby(['año', 'mes', 'direccion', 'numero_operacional', 'punto_operacional', 'categoria'])['valores'].sum().reset_index()\n",
    "df_volumen_tienda = df_volumen.groupby(['año', 'mes', 'direccion', 'numero_operacional', 'punto_operacional', 'categoria'])['valores'].sum().reset_index()"
   ]
  },
  {
   "cell_type": "markdown",
   "id": "e02193bd",
   "metadata": {},
   "source": [
    "### Padron"
   ]
  },
  {
   "cell_type": "code",
   "execution_count": 925,
   "id": "0a39732b",
   "metadata": {},
   "outputs": [],
   "source": [
    "cols = ['N°', 'NOMBRE', 'Fecha apertura', 'BANDERA', 'ORGANIZACIÓN ', 'PROVINCIA', 'FIN DE CIERRE', 'ENE.2', 'FEB.2', 'MAR.2', 'ABR.2', 'MAY.2', 'JUN.2', 'JUL.2', 'AGO.2', 'SEP.2', 'OCT.2', 'NOV.2', 'DIC.2']\n",
    "padron = pd.read_excel('data/padron.xlsx', header=17, usecols=cols)\n",
    "padron.columns = padron.columns.str.lower().str.strip().str.replace(' ', '_').str.replace('.2', '')\n",
    "padron.rename(columns={\n",
    "    'n°':'numero_operacional',\n",
    "}, inplace=True)"
   ]
  },
  {
   "cell_type": "code",
   "execution_count": 926,
   "id": "2e369c6e",
   "metadata": {},
   "outputs": [],
   "source": [
    "#Elimino las filas que tengan na en su numero, nombre y mes comparable\n",
    "padron = padron.dropna(subset=['numero_operacional', 'nombre', 'sep'], how='any')"
   ]
  },
  {
   "cell_type": "code",
   "execution_count": 927,
   "id": "0434cd8f",
   "metadata": {},
   "outputs": [],
   "source": [
    "padron['numero_operacional'] = padron['numero_operacional'].astype(int)"
   ]
  },
  {
   "cell_type": "markdown",
   "id": "2fe16cd4",
   "metadata": {},
   "source": [
    "### Debitos total Tienda"
   ]
  },
  {
   "cell_type": "code",
   "execution_count": 928,
   "id": "2b9c7ad1",
   "metadata": {},
   "outputs": [],
   "source": [
    "df_debitos_tienda = pd.read_csv('data/debitos total tienda maxi 28 dias moviles sep-oct.csv', encoding='utf-16', header=1, decimal=',')\n",
    "df_debitos_tienda.columns = df_debitos_tienda.columns.str.lower().str.replace(' ', '_')\n",
    "df_debitos_tienda.rename(columns={\n",
    "    'cant._tickets_por_local':'valores',\n",
    "    'mes':'fecha',\n",
    "}, inplace=True)\n",
    "df_debitos_tienda['valores'] = pd.to_numeric(df_debitos_tienda['valores'].str.replace('.', '').str.replace(',','.'))\n",
    "df_debitos_tienda['mes'] = df_debitos_tienda['fecha'].str.split(' ').str[0]\n",
    "df_debitos_tienda['numero_operacional'] = df_debitos_tienda['punto_operacional'].str.split(' ').str[0].astype(int)\n",
    "df_debitos_tienda = df_debitos_tienda.drop(columns=['indicadores', 'fecha'])\n",
    "df_debitos_tienda['categoria'] = 'deb'\n",
    "df_debitos_tienda = df_debitos_tienda[['año', 'mes', 'direccion', 'numero_operacional', 'punto_operacional', 'categoria', 'valores']]"
   ]
  },
  {
   "cell_type": "markdown",
   "id": "2977a9ec",
   "metadata": {},
   "source": [
    "### Concateno todo nivel tienda y Join con el Padron"
   ]
  },
  {
   "cell_type": "code",
   "execution_count": 929,
   "id": "723f3026",
   "metadata": {},
   "outputs": [],
   "source": [
    "df_tienda = pd.concat([df_ventas_tienda, df_debitos_tienda, df_volumen_tienda])\n",
    "df_tienda['numero_operacional'] = df_tienda['numero_operacional'].astype(int)"
   ]
  },
  {
   "cell_type": "code",
   "execution_count": 930,
   "id": "f50d1478",
   "metadata": {},
   "outputs": [],
   "source": [
    "df_tienda_join = pd.merge(df_tienda, padron, how='left', on='numero_operacional')\n",
    "df_tienda_join = df_tienda_join[['año', 'mes', 'direccion', 'numero_operacional', 'punto_operacional', 'provincia', 'fecha_apertura', 'fin_de_cierre','categoria', 'sep', 'valores']]\n",
    "df_tienda_comparable = df_tienda_join[df_tienda_join['sep'] == 'SC']"
   ]
  },
  {
   "cell_type": "code",
   "execution_count": 931,
   "id": "1c18d0b1",
   "metadata": {},
   "outputs": [
    {
     "data": {
      "text/plain": [
       "np.float64(1359871.0)"
      ]
     },
     "execution_count": 931,
     "metadata": {},
     "output_type": "execute_result"
    }
   ],
   "source": [
    "df_tienda_comparable[df_tienda_comparable['categoria'] == 'deb']['valores'].sum()"
   ]
  },
  {
   "cell_type": "markdown",
   "id": "e9a6bbfc",
   "metadata": {},
   "source": [
    "### Genero un df por Superficie comparable, pivoteo la info y calculo las porgresiones totales por tienda por categoria"
   ]
  },
  {
   "cell_type": "code",
   "execution_count": 932,
   "id": "de8890f2",
   "metadata": {},
   "outputs": [],
   "source": [
    "df_tienda_comparable = df_tienda_comparable.pivot_table(values='valores', index=['numero_operacional', 'punto_operacional', 'categoria'], columns='año', aggfunc='sum').reset_index()\n",
    "df_tienda_comparable['progresion'] = round((df_tienda_comparable[2025] / df_tienda_comparable[2024]) - 1, 3)\n",
    "df_tienda_comparable = df_tienda_comparable.sort_values(by='progresion', ascending=False)"
   ]
  },
  {
   "cell_type": "markdown",
   "id": "b23f8ee5",
   "metadata": {},
   "source": [
    "### Debitos por Sector"
   ]
  },
  {
   "cell_type": "code",
   "execution_count": 933,
   "id": "617340a3",
   "metadata": {},
   "outputs": [],
   "source": [
    "df_debitos_sector = pd.read_csv('data/debitos por sector maxi 28 dias movil sep-oct.csv', encoding='utf-16', header=1, decimal=',')"
   ]
  },
  {
   "cell_type": "code",
   "execution_count": 934,
   "id": "7277e3dd",
   "metadata": {},
   "outputs": [],
   "source": [
    "df_debitos_sector.columns = df_debitos_sector.columns.str.strip().str.lower().str.replace(' ', '_')\n",
    "df_debitos_sector = df_debitos_sector.rename(columns={\n",
    "    'cantidad_de_tickets':'valores',\n",
    "    'mes':'fecha'\n",
    "})\n",
    "df_debitos_sector = df_debitos_sector.drop(columns=['indicadores'])\n",
    "df_debitos_sector['mes'] = df_debitos_sector['fecha'].str.split(' ').str[0]\n",
    "df_debitos_sector['numero_operacional'] = df_debitos_sector['punto_operacional'].str.split(' ').str[0]\n",
    "df_debitos_sector['categoria'] = 'deb'\n",
    "df_debitos_sector['valores'] = pd.to_numeric(df_debitos_sector['valores'].str.replace('.', '').str.replace(',','.'))"
   ]
  },
  {
   "cell_type": "markdown",
   "id": "3136d3f9",
   "metadata": {},
   "source": [
    "### Agrupo las tres categorias por Sector"
   ]
  },
  {
   "cell_type": "code",
   "execution_count": 935,
   "id": "cc971c25",
   "metadata": {},
   "outputs": [],
   "source": [
    "df_ventas_sector = df_ventas.groupby(['año', 'mes', 'direccion', 'numero_operacional', 'punto_operacional', 'categoria', 'sector'])['valores'].sum().reset_index()\n",
    "df_volumen_sector = df_volumen.groupby(['año', 'mes', 'direccion', 'numero_operacional', 'punto_operacional', 'categoria', 'sector'])['valores'].sum().reset_index()\n",
    "df_debitos_sector = df_debitos_sector[['año', 'mes', 'direccion', 'numero_operacional', 'punto_operacional', 'categoria', 'sector', 'valores']]"
   ]
  },
  {
   "cell_type": "code",
   "execution_count": 936,
   "id": "68070fbe",
   "metadata": {},
   "outputs": [],
   "source": [
    "df_sector = pd.concat([df_ventas_sector, df_volumen_sector, df_debitos_sector])\n",
    "df_sector['numero_operacional'] = df_sector['numero_operacional'].astype(int) \n",
    "df_sector_join = pd.merge(df_sector, padron, on='numero_operacional', how='left')\n",
    "df_sector_join = df_sector_join[['año', 'mes', 'direccion', 'numero_operacional', 'punto_operacional', 'provincia', 'fecha_apertura', 'fin_de_cierre', 'categoria', 'sector', 'sep', 'valores']]"
   ]
  },
  {
   "cell_type": "code",
   "execution_count": 937,
   "id": "d534748f",
   "metadata": {},
   "outputs": [],
   "source": [
    "df_sector_comparable = df_sector_join[df_sector_join['sep'] == 'SC']"
   ]
  },
  {
   "cell_type": "code",
   "execution_count": 938,
   "id": "2e11b932",
   "metadata": {},
   "outputs": [],
   "source": [
    "df_sector_comparable = df_sector_comparable.pivot_table(values='valores', index=['numero_operacional', 'punto_operacional', 'categoria', 'sector'], columns='año', aggfunc='sum').reset_index()\n",
    "df_sector_comparable['progresion'] = round((df_sector_comparable[2025] / df_sector_comparable[2024]) - 1, 3)"
   ]
  },
  {
   "cell_type": "code",
   "execution_count": 939,
   "id": "20e880a2",
   "metadata": {},
   "outputs": [],
   "source": [
    "df_progresiones_categoria_sectores = df_sector_comparable.pivot_table(values='progresion', index=['numero_operacional', 'punto_operacional', 'categoria'], columns='sector', aggfunc='sum').reset_index()"
   ]
  },
  {
   "cell_type": "code",
   "execution_count": 940,
   "id": "573e1b55",
   "metadata": {},
   "outputs": [],
   "source": [
    "df_tienda_comparable = df_tienda_comparable.rename(columns={'progresion':'total_tienda'})"
   ]
  },
  {
   "cell_type": "code",
   "execution_count": 941,
   "id": "4edb6928",
   "metadata": {},
   "outputs": [],
   "source": [
    "df_progresiones_join_sector_tienda = pd.merge(df_progresiones_categoria_sectores, df_tienda_comparable[['numero_operacional', 'categoria', 'total_tienda']], on=['numero_operacional', 'categoria'], how='left')"
   ]
  },
  {
   "cell_type": "code",
   "execution_count": 942,
   "id": "393b260a",
   "metadata": {},
   "outputs": [],
   "source": [
    "df_progresiones_join_sector_tienda = df_progresiones_join_sector_tienda.fillna(0)"
   ]
  },
  {
   "cell_type": "code",
   "execution_count": 943,
   "id": "628bfb1e",
   "metadata": {},
   "outputs": [],
   "source": [
    "df_progresiones_join_sector_tienda.columns = df_progresiones_join_sector_tienda.columns.str.capitalize().str.strip().str.replace('_', ' ')"
   ]
  },
  {
   "cell_type": "code",
   "execution_count": 944,
   "id": "67903aa8",
   "metadata": {},
   "outputs": [],
   "source": [
    "df_progresiones_join_sector_tienda = df_progresiones_join_sector_tienda.drop(columns=['Numero operacional'])\n",
    "df_progresiones_join_sector_tienda = df_progresiones_join_sector_tienda.rename(columns={'Total tienda': 'Total tienda', 'P.g.c.': 'PGC'})\n",
    "df_progresiones_join_sector_tienda = df_progresiones_join_sector_tienda.sort_values(by='Total tienda', ascending=False)"
   ]
  },
  {
   "cell_type": "code",
   "execution_count": 945,
   "id": "73f4dd37",
   "metadata": {},
   "outputs": [],
   "source": [
    "df_progresiones_tienda_sector_total_vct = df_progresiones_join_sector_tienda[df_progresiones_join_sector_tienda['Categoria'] == 'vct'].drop(columns='Categoria')\n",
    "df_progresiones_tienda_sector_total_deb = df_progresiones_join_sector_tienda[df_progresiones_join_sector_tienda['Categoria'] == 'deb'].drop(columns='Categoria')\n",
    "df_progresiones_tienda_sector_total_vol = df_progresiones_join_sector_tienda[df_progresiones_join_sector_tienda['Categoria'] == 'vol'].drop(columns='Categoria')"
   ]
  },
  {
   "cell_type": "code",
   "execution_count": 946,
   "id": "802a9180",
   "metadata": {},
   "outputs": [],
   "source": [
    "top_tiendas_vct = df_progresiones_tienda_sector_total_vct.head(5)\n",
    "flop_tiendas_vct = df_progresiones_tienda_sector_total_vct.tail(5)\n",
    "top_tiendas_deb = df_progresiones_tienda_sector_total_deb.head(5)\n",
    "flop_tiendas_deb = df_progresiones_tienda_sector_total_deb.tail(5)\n",
    "top_tiendas_vol = df_progresiones_tienda_sector_total_vol.head(5)\n",
    "flop_tiendas_vol = df_progresiones_tienda_sector_total_vol.tail(5)"
   ]
  },
  {
   "cell_type": "code",
   "execution_count": 947,
   "id": "eee8146e",
   "metadata": {},
   "outputs": [],
   "source": [
    "df_final_consolidado_tienda = df_tienda_comparable.drop(columns=[2024, 2025])\n",
    "df_final_consolidado_tienda = df_final_consolidado_tienda.rename(columns={'total_tienda':'progresion'})\n",
    "df_final_consolidado_tienda['sector'] = 'Total'"
   ]
  },
  {
   "cell_type": "code",
   "execution_count": 948,
   "id": "b052b2a5",
   "metadata": {},
   "outputs": [
    {
     "data": {
      "text/html": [
       "<div>\n",
       "<style scoped>\n",
       "    .dataframe tbody tr th:only-of-type {\n",
       "        vertical-align: middle;\n",
       "    }\n",
       "\n",
       "    .dataframe tbody tr th {\n",
       "        vertical-align: top;\n",
       "    }\n",
       "\n",
       "    .dataframe thead th {\n",
       "        text-align: right;\n",
       "    }\n",
       "</style>\n",
       "<table border=\"1\" class=\"dataframe\">\n",
       "  <thead>\n",
       "    <tr style=\"text-align: right;\">\n",
       "      <th>año</th>\n",
       "      <th>numero_operacional</th>\n",
       "      <th>punto_operacional</th>\n",
       "      <th>categoria</th>\n",
       "      <th>progresion</th>\n",
       "      <th>sector</th>\n",
       "    </tr>\n",
       "  </thead>\n",
       "  <tbody>\n",
       "    <tr>\n",
       "      <th>0</th>\n",
       "      <td>20</td>\n",
       "      <td>020 - Avellaneda</td>\n",
       "      <td>deb</td>\n",
       "      <td>-0.044</td>\n",
       "      <td>BAZAR</td>\n",
       "    </tr>\n",
       "    <tr>\n",
       "      <th>1</th>\n",
       "      <td>20</td>\n",
       "      <td>020 - Avellaneda</td>\n",
       "      <td>deb</td>\n",
       "      <td>0.019</td>\n",
       "      <td>ELECTRODOMESTICOS</td>\n",
       "    </tr>\n",
       "    <tr>\n",
       "      <th>2</th>\n",
       "      <td>20</td>\n",
       "      <td>020 - Avellaneda</td>\n",
       "      <td>deb</td>\n",
       "      <td>-0.169</td>\n",
       "      <td>OTROS</td>\n",
       "    </tr>\n",
       "    <tr>\n",
       "      <th>3</th>\n",
       "      <td>20</td>\n",
       "      <td>020 - Avellaneda</td>\n",
       "      <td>deb</td>\n",
       "      <td>-0.119</td>\n",
       "      <td>P.G.C.</td>\n",
       "    </tr>\n",
       "    <tr>\n",
       "      <th>4</th>\n",
       "      <td>20</td>\n",
       "      <td>020 - Avellaneda</td>\n",
       "      <td>deb</td>\n",
       "      <td>-0.072</td>\n",
       "      <td>PRODUCTOS FRESCO</td>\n",
       "    </tr>\n",
       "    <tr>\n",
       "      <th>...</th>\n",
       "      <td>...</td>\n",
       "      <td>...</td>\n",
       "      <td>...</td>\n",
       "      <td>...</td>\n",
       "      <td>...</td>\n",
       "    </tr>\n",
       "    <tr>\n",
       "      <th>559</th>\n",
       "      <td>896</td>\n",
       "      <td>896 - MAXI - SIDE STORE</td>\n",
       "      <td>deb</td>\n",
       "      <td>0.000</td>\n",
       "      <td>PRODUCTOS FRESCO</td>\n",
       "    </tr>\n",
       "    <tr>\n",
       "      <th>560</th>\n",
       "      <td>896</td>\n",
       "      <td>896 - MAXI - SIDE STORE</td>\n",
       "      <td>vct</td>\n",
       "      <td>NaN</td>\n",
       "      <td>P.G.C.</td>\n",
       "    </tr>\n",
       "    <tr>\n",
       "      <th>561</th>\n",
       "      <td>896</td>\n",
       "      <td>896 - MAXI - SIDE STORE</td>\n",
       "      <td>vct</td>\n",
       "      <td>-0.554</td>\n",
       "      <td>PRODUCTOS FRESCO</td>\n",
       "    </tr>\n",
       "    <tr>\n",
       "      <th>562</th>\n",
       "      <td>896</td>\n",
       "      <td>896 - MAXI - SIDE STORE</td>\n",
       "      <td>vol</td>\n",
       "      <td>NaN</td>\n",
       "      <td>P.G.C.</td>\n",
       "    </tr>\n",
       "    <tr>\n",
       "      <th>563</th>\n",
       "      <td>896</td>\n",
       "      <td>896 - MAXI - SIDE STORE</td>\n",
       "      <td>vol</td>\n",
       "      <td>-0.617</td>\n",
       "      <td>PRODUCTOS FRESCO</td>\n",
       "    </tr>\n",
       "  </tbody>\n",
       "</table>\n",
       "<p>564 rows × 5 columns</p>\n",
       "</div>"
      ],
      "text/plain": [
       "año  numero_operacional        punto_operacional categoria  progresion  \\\n",
       "0                    20         020 - Avellaneda       deb      -0.044   \n",
       "1                    20         020 - Avellaneda       deb       0.019   \n",
       "2                    20         020 - Avellaneda       deb      -0.169   \n",
       "3                    20         020 - Avellaneda       deb      -0.119   \n",
       "4                    20         020 - Avellaneda       deb      -0.072   \n",
       "..                  ...                      ...       ...         ...   \n",
       "559                 896  896 - MAXI - SIDE STORE       deb       0.000   \n",
       "560                 896  896 - MAXI - SIDE STORE       vct         NaN   \n",
       "561                 896  896 - MAXI - SIDE STORE       vct      -0.554   \n",
       "562                 896  896 - MAXI - SIDE STORE       vol         NaN   \n",
       "563                 896  896 - MAXI - SIDE STORE       vol      -0.617   \n",
       "\n",
       "año             sector  \n",
       "0                BAZAR  \n",
       "1    ELECTRODOMESTICOS  \n",
       "2                OTROS  \n",
       "3               P.G.C.  \n",
       "4     PRODUCTOS FRESCO  \n",
       "..                 ...  \n",
       "559   PRODUCTOS FRESCO  \n",
       "560             P.G.C.  \n",
       "561   PRODUCTOS FRESCO  \n",
       "562             P.G.C.  \n",
       "563   PRODUCTOS FRESCO  \n",
       "\n",
       "[564 rows x 5 columns]"
      ]
     },
     "execution_count": 948,
     "metadata": {},
     "output_type": "execute_result"
    }
   ],
   "source": [
    "df_final_consolidado_sector = df_sector_comparable.drop(columns=[2024, 2025])\n",
    "df_final_consolidado_sector[['numero_operacional', 'punto_operacional', 'categoria', 'progresion', 'sector']]"
   ]
  },
  {
   "cell_type": "code",
   "execution_count": 949,
   "id": "8599ca6c",
   "metadata": {},
   "outputs": [],
   "source": [
    "df_final_consolidado_total = pd.concat([df_final_consolidado_sector, df_final_consolidado_tienda])\n",
    "df_final_consolidado_total = df_final_consolidado_total.pivot_table(values='progresion', index='punto_operacional', columns=['categoria', 'sector'], aggfunc='sum').reset_index()"
   ]
  },
  {
   "cell_type": "markdown",
   "id": "7b15aa2e",
   "metadata": {},
   "source": [
    "### Trabajo sobre el ultimo punto \"Grupo de Familia\""
   ]
  },
  {
   "cell_type": "code",
   "execution_count": 950,
   "id": "5f0987ac",
   "metadata": {},
   "outputs": [],
   "source": [
    "df_volumen_grupo_de_familia = df_volumen.groupby(['año', 'mes', 'direccion', 'numero_operacional', 'punto_operacional', 'categoria', 'sector', 'seccion', 'grupo_de_familia'])['valores'].sum().reset_index()"
   ]
  },
  {
   "cell_type": "code",
   "execution_count": 951,
   "id": "fec39dfa",
   "metadata": {},
   "outputs": [],
   "source": [
    "df_volumen_grupo_de_familia_join = pd.merge(df_volumen_grupo_de_familia, padron[['numero_operacional', 'sep']], on='numero_operacional', how='left')"
   ]
  },
  {
   "cell_type": "code",
   "execution_count": 952,
   "id": "4aa2188b",
   "metadata": {},
   "outputs": [],
   "source": [
    "df_volumen_grupo_de_familia_comparable = df_volumen_grupo_de_familia_join[df_volumen_grupo_de_familia_join['sep'] == 'SC']"
   ]
  },
  {
   "cell_type": "code",
   "execution_count": 953,
   "id": "00a4cd5c",
   "metadata": {},
   "outputs": [
    {
     "data": {
      "text/plain": [
       "np.float64(57404534.849999994)"
      ]
     },
     "execution_count": 953,
     "metadata": {},
     "output_type": "execute_result"
    }
   ],
   "source": [
    "df_volumen_grupo_de_familia_comparable['valores'].sum()"
   ]
  },
  {
   "cell_type": "code",
   "execution_count": 954,
   "id": "30ea84fb",
   "metadata": {},
   "outputs": [],
   "source": [
    "df_volumen_grupo_de_familia_comparable = df_volumen_grupo_de_familia_comparable.pivot_table(values='valores', index=['grupo_de_familia', 'seccion', 'categoria'], columns='año', aggfunc='sum').reset_index()"
   ]
  },
  {
   "cell_type": "code",
   "execution_count": 955,
   "id": "e1a229a4",
   "metadata": {},
   "outputs": [],
   "source": [
    "df_volumen_grupo_de_familia_comparable[2024] = df_volumen_grupo_de_familia_comparable[2024].fillna(0)"
   ]
  },
  {
   "cell_type": "code",
   "execution_count": 956,
   "id": "68957332",
   "metadata": {},
   "outputs": [],
   "source": [
    "df_volumen_grupo_de_familia_comparable['GAP'] = df_volumen_grupo_de_familia_comparable[2025] - df_volumen_grupo_de_familia_comparable[2024]"
   ]
  },
  {
   "cell_type": "code",
   "execution_count": 957,
   "id": "6962e294",
   "metadata": {},
   "outputs": [],
   "source": [
    "df_volumen_grupo_de_familia_comparable['progresion'] = (df_volumen_grupo_de_familia_comparable[2025] / df_volumen_grupo_de_familia_comparable[2024]) - 1"
   ]
  },
  {
   "cell_type": "code",
   "execution_count": 958,
   "id": "b783ef74",
   "metadata": {},
   "outputs": [],
   "source": [
    "import numpy as np\n",
    "\n",
    "df_volumen_grupo_de_familia_comparable['progresion'] = df_volumen_grupo_de_familia_comparable['progresion'].replace(np.inf, 0)\n",
    "df_volumen_grupo_de_familia_comparable['progresion'] = df_volumen_grupo_de_familia_comparable['progresion'].replace(np.nan, 0)\n",
    "df_volumen_grupo_de_familia_comparable.sort_values('progresion', ascending=False)\n",
    "total_2024 = df_volumen_grupo_de_familia_comparable[2024].sum()\n",
    "df_volumen_grupo_de_familia_comparable['Cmg'] = df_volumen_grupo_de_familia_comparable['GAP'] / total_2024"
   ]
  },
  {
   "cell_type": "code",
   "execution_count": 959,
   "id": "0d95c362",
   "metadata": {},
   "outputs": [],
   "source": [
    "df_volumen_grupo_de_familia_comparable['Cmg'] = df_volumen_grupo_de_familia_comparable['Cmg'].fillna(0)\n",
    "df_volumen_grupo_de_familia_comparable = df_volumen_grupo_de_familia_comparable.sort_values('Cmg', ascending=False)\n",
    "df_volumen_grupo_de_familia_comparable = df_volumen_grupo_de_familia_comparable.rename(columns={'grupo_de_familia':'Grupo de familia', 'seccion':'Seccion', 'categoria':'Categoria', 'progresion':'Progresion'})"
   ]
  },
  {
   "cell_type": "code",
   "execution_count": 960,
   "id": "7852f6c1",
   "metadata": {},
   "outputs": [],
   "source": [
    "df_volumen_grupo_de_familia_comparable_top = df_volumen_grupo_de_familia_comparable.head(5)\n",
    "df_volumen_grupo_de_familia_comparable_flop = df_volumen_grupo_de_familia_comparable.tail(5)"
   ]
  },
  {
   "cell_type": "code",
   "execution_count": 961,
   "id": "260b6d40",
   "metadata": {},
   "outputs": [
    {
     "data": {
      "text/plain": [
       "'from pathlib import Path\\n\\ntry:\\n    out_dir = Path(\"results\")\\n    out_dir.mkdir(parents=True, exist_ok=True)\\n    out_file = out_dir / f\"Resultados Briefing.xlsx\"\\n\\n    with pd.ExcelWriter(out_file) as writer:\\n\\n        top_tiendas_vct.to_excel(writer, sheet_name=\\'Top VCT\\', index=False)\\n        flop_tiendas_vct.to_excel(writer, sheet_name=\\'Flop VCT\\', index=False)\\n        top_tiendas_deb.to_excel(writer, sheet_name=\\'Top DEB\\', index=False)\\n        flop_tiendas_deb.to_excel(writer, sheet_name=\\'Flop DEB\\', index=False)\\n        top_tiendas_vol.to_excel(writer, sheet_name=\\'Top VOL\\', index=False)\\n        flop_tiendas_vol.to_excel(writer, sheet_name=\\'Flop VOL\\', index=False)\\n        df_final_consolidado_total.to_excel(writer, sheet_name=\\'Info Consolidada\\', index=True)\\n        df_volumen_grupo_de_familia_comparable_top.to_excel(writer, sheet_name=\\'GF Top\\', index=False)\\n        df_volumen_grupo_de_familia_comparable_flop.to_excel(writer, sheet_name=\\'GF Flop\\', index=False)\\n        df_volumen_grupo_de_familia_comparable.to_excel(writer, sheet_name=\\'GF Consolidado\\', index=False)\\n\\n    print(f\"Archivo guardado en: {out_file}\")\\n\\nexcept Exception as e:\\n    print(f\"No se logró guardar la información en un archivo Excel. ERROR: {e}\")'"
      ]
     },
     "execution_count": 961,
     "metadata": {},
     "output_type": "execute_result"
    }
   ],
   "source": [
    "'''from pathlib import Path\n",
    "\n",
    "try:\n",
    "    out_dir = Path(\"results\")\n",
    "    out_dir.mkdir(parents=True, exist_ok=True)\n",
    "    out_file = out_dir / f\"Resultados Briefing.xlsx\"\n",
    "\n",
    "    with pd.ExcelWriter(out_file) as writer:\n",
    "\n",
    "        top_tiendas_vct.to_excel(writer, sheet_name='Top VCT', index=False)\n",
    "        flop_tiendas_vct.to_excel(writer, sheet_name='Flop VCT', index=False)\n",
    "        top_tiendas_deb.to_excel(writer, sheet_name='Top DEB', index=False)\n",
    "        flop_tiendas_deb.to_excel(writer, sheet_name='Flop DEB', index=False)\n",
    "        top_tiendas_vol.to_excel(writer, sheet_name='Top VOL', index=False)\n",
    "        flop_tiendas_vol.to_excel(writer, sheet_name='Flop VOL', index=False)\n",
    "        df_final_consolidado_total.to_excel(writer, sheet_name='Info Consolidada', index=True)\n",
    "        df_volumen_grupo_de_familia_comparable_top.to_excel(writer, sheet_name='GF Top', index=False)\n",
    "        df_volumen_grupo_de_familia_comparable_flop.to_excel(writer, sheet_name='GF Flop', index=False)\n",
    "        df_volumen_grupo_de_familia_comparable.to_excel(writer, sheet_name='GF Consolidado', index=False)\n",
    "          \n",
    "    print(f\"Archivo guardado en: {out_file}\")\n",
    "\n",
    "except Exception as e:\n",
    "    print(f\"No se logró guardar la información en un archivo Excel. ERROR: {e}\")'''"
   ]
  },
  {
   "cell_type": "markdown",
   "id": "2c07bbb3",
   "metadata": {},
   "source": [
    "### Graficos"
   ]
  },
  {
   "cell_type": "code",
   "execution_count": 962,
   "id": "493650cf",
   "metadata": {},
   "outputs": [],
   "source": [
    "df_debitos = pd.read_csv('data/debitos maxi 2023 - 2025.csv', encoding='utf-16', header=1, decimal=',')"
   ]
  },
  {
   "cell_type": "code",
   "execution_count": 963,
   "id": "f72f8870",
   "metadata": {},
   "outputs": [],
   "source": [
    "meses_orden = {'Enero':1, 'Febrero':2, 'Marzo':3, 'Abril':4, 'Mayo':5, 'Junio':6, 'Julio':7, 'Agosto':8, 'Septiembre':9, 'Octubre':10, 'Noviembre':11, 'Diciembre':12}"
   ]
  },
  {
   "cell_type": "code",
   "execution_count": 964,
   "id": "fa8c2b02",
   "metadata": {},
   "outputs": [],
   "source": [
    "df_debitos.columns = df_debitos.columns.str.strip().str.replace(' ', '_').str.lower()\n",
    "df_debitos = df_debitos.rename(columns={'mes':'fecha', 'cant._tickets_por_local': 'valores'})\n",
    "df_debitos['mes'] = df_debitos['fecha'].str.split(' ').str[0]\n",
    "df_debitos['numero_operacional'] = df_debitos['punto_operacional'].str.split(' ').str[0].astype(int)\n",
    "df_debitos = df_debitos.drop(columns=['indicadores'])\n",
    "df_debitos['valores'] = df_debitos['valores'].str.replace('.','').str.replace(',','.').astype(int)\n",
    "df_debitos['categoria'] = 'deb'"
   ]
  },
  {
   "cell_type": "code",
   "execution_count": 965,
   "id": "81c49b2d",
   "metadata": {},
   "outputs": [
    {
     "data": {
      "text/html": [
       "<div>\n",
       "<style scoped>\n",
       "    .dataframe tbody tr th:only-of-type {\n",
       "        vertical-align: middle;\n",
       "    }\n",
       "\n",
       "    .dataframe tbody tr th {\n",
       "        vertical-align: top;\n",
       "    }\n",
       "\n",
       "    .dataframe thead th {\n",
       "        text-align: right;\n",
       "    }\n",
       "</style>\n",
       "<table border=\"1\" class=\"dataframe\">\n",
       "  <thead>\n",
       "    <tr style=\"text-align: right;\">\n",
       "      <th></th>\n",
       "      <th>año</th>\n",
       "      <th>fecha</th>\n",
       "      <th>punto_operacional</th>\n",
       "      <th>direccion</th>\n",
       "      <th>valores</th>\n",
       "      <th>mes</th>\n",
       "      <th>numero_operacional</th>\n",
       "      <th>categoria</th>\n",
       "    </tr>\n",
       "  </thead>\n",
       "  <tbody>\n",
       "    <tr>\n",
       "      <th>0</th>\n",
       "      <td>2023</td>\n",
       "      <td>Enero del 2023</td>\n",
       "      <td>020 - Avellaneda</td>\n",
       "      <td>MAXI</td>\n",
       "      <td>40016</td>\n",
       "      <td>Enero</td>\n",
       "      <td>20</td>\n",
       "      <td>deb</td>\n",
       "    </tr>\n",
       "    <tr>\n",
       "      <th>1</th>\n",
       "      <td>2023</td>\n",
       "      <td>Enero del 2023</td>\n",
       "      <td>040 - Temperley</td>\n",
       "      <td>MAXI</td>\n",
       "      <td>34536</td>\n",
       "      <td>Enero</td>\n",
       "      <td>40</td>\n",
       "      <td>deb</td>\n",
       "    </tr>\n",
       "    <tr>\n",
       "      <th>2</th>\n",
       "      <td>2023</td>\n",
       "      <td>Enero del 2023</td>\n",
       "      <td>045 - Trelew 25 de Mayo</td>\n",
       "      <td>MAXI</td>\n",
       "      <td>30130</td>\n",
       "      <td>Enero</td>\n",
       "      <td>45</td>\n",
       "      <td>deb</td>\n",
       "    </tr>\n",
       "    <tr>\n",
       "      <th>3</th>\n",
       "      <td>2023</td>\n",
       "      <td>Enero del 2023</td>\n",
       "      <td>057 - Tandil Villa Italia</td>\n",
       "      <td>MAXI</td>\n",
       "      <td>36672</td>\n",
       "      <td>Enero</td>\n",
       "      <td>57</td>\n",
       "      <td>deb</td>\n",
       "    </tr>\n",
       "    <tr>\n",
       "      <th>4</th>\n",
       "      <td>2023</td>\n",
       "      <td>Enero del 2023</td>\n",
       "      <td>059 - Mendoza Godoy Cruz</td>\n",
       "      <td>MAXI</td>\n",
       "      <td>45809</td>\n",
       "      <td>Enero</td>\n",
       "      <td>59</td>\n",
       "      <td>deb</td>\n",
       "    </tr>\n",
       "    <tr>\n",
       "      <th>...</th>\n",
       "      <td>...</td>\n",
       "      <td>...</td>\n",
       "      <td>...</td>\n",
       "      <td>...</td>\n",
       "      <td>...</td>\n",
       "      <td>...</td>\n",
       "      <td>...</td>\n",
       "      <td>...</td>\n",
       "    </tr>\n",
       "    <tr>\n",
       "      <th>1032</th>\n",
       "      <td>2025</td>\n",
       "      <td>Octubre del 2025</td>\n",
       "      <td>706 - Maxi Lomas</td>\n",
       "      <td>MAXI</td>\n",
       "      <td>5188</td>\n",
       "      <td>Octubre</td>\n",
       "      <td>706</td>\n",
       "      <td>deb</td>\n",
       "    </tr>\n",
       "    <tr>\n",
       "      <th>1033</th>\n",
       "      <td>2025</td>\n",
       "      <td>Octubre del 2025</td>\n",
       "      <td>707 - Maxi Cordoba J.B.Justo</td>\n",
       "      <td>MAXI</td>\n",
       "      <td>7559</td>\n",
       "      <td>Octubre</td>\n",
       "      <td>707</td>\n",
       "      <td>deb</td>\n",
       "    </tr>\n",
       "    <tr>\n",
       "      <th>1034</th>\n",
       "      <td>2025</td>\n",
       "      <td>Octubre del 2025</td>\n",
       "      <td>708 - Maxi Tortuguitas</td>\n",
       "      <td>MAXI</td>\n",
       "      <td>4735</td>\n",
       "      <td>Octubre</td>\n",
       "      <td>708</td>\n",
       "      <td>deb</td>\n",
       "    </tr>\n",
       "    <tr>\n",
       "      <th>1035</th>\n",
       "      <td>2025</td>\n",
       "      <td>Octubre del 2025</td>\n",
       "      <td>709 - MAXI - LOMA HERMOSA</td>\n",
       "      <td>MAXI</td>\n",
       "      <td>4149</td>\n",
       "      <td>Octubre</td>\n",
       "      <td>709</td>\n",
       "      <td>deb</td>\n",
       "    </tr>\n",
       "    <tr>\n",
       "      <th>1036</th>\n",
       "      <td>2025</td>\n",
       "      <td>Octubre del 2025</td>\n",
       "      <td>896 - MAXI - SIDE STORE</td>\n",
       "      <td>MAXI</td>\n",
       "      <td>1</td>\n",
       "      <td>Octubre</td>\n",
       "      <td>896</td>\n",
       "      <td>deb</td>\n",
       "    </tr>\n",
       "  </tbody>\n",
       "</table>\n",
       "<p>1037 rows × 8 columns</p>\n",
       "</div>"
      ],
      "text/plain": [
       "       año             fecha             punto_operacional direccion  valores  \\\n",
       "0     2023    Enero del 2023              020 - Avellaneda      MAXI    40016   \n",
       "1     2023    Enero del 2023               040 - Temperley      MAXI    34536   \n",
       "2     2023    Enero del 2023       045 - Trelew 25 de Mayo      MAXI    30130   \n",
       "3     2023    Enero del 2023     057 - Tandil Villa Italia      MAXI    36672   \n",
       "4     2023    Enero del 2023      059 - Mendoza Godoy Cruz      MAXI    45809   \n",
       "...    ...               ...                           ...       ...      ...   \n",
       "1032  2025  Octubre del 2025              706 - Maxi Lomas      MAXI     5188   \n",
       "1033  2025  Octubre del 2025  707 - Maxi Cordoba J.B.Justo      MAXI     7559   \n",
       "1034  2025  Octubre del 2025        708 - Maxi Tortuguitas      MAXI     4735   \n",
       "1035  2025  Octubre del 2025     709 - MAXI - LOMA HERMOSA      MAXI     4149   \n",
       "1036  2025  Octubre del 2025       896 - MAXI - SIDE STORE      MAXI        1   \n",
       "\n",
       "          mes  numero_operacional categoria  \n",
       "0       Enero                  20       deb  \n",
       "1       Enero                  40       deb  \n",
       "2       Enero                  45       deb  \n",
       "3       Enero                  57       deb  \n",
       "4       Enero                  59       deb  \n",
       "...       ...                 ...       ...  \n",
       "1032  Octubre                 706       deb  \n",
       "1033  Octubre                 707       deb  \n",
       "1034  Octubre                 708       deb  \n",
       "1035  Octubre                 709       deb  \n",
       "1036  Octubre                 896       deb  \n",
       "\n",
       "[1037 rows x 8 columns]"
      ]
     },
     "execution_count": 965,
     "metadata": {},
     "output_type": "execute_result"
    }
   ],
   "source": [
    "df_debitos"
   ]
  },
  {
   "cell_type": "code",
   "execution_count": 966,
   "id": "3cce23b1",
   "metadata": {},
   "outputs": [],
   "source": [
    "cols = ['Año', 'Mes', 'Direccion', 'Punto Operacional', 'Grupo de Familia', 'Ventas c/impuesto', 'Venta en Unidades']\n",
    "df_ventas = pd.read_csv('data/ventas maxi 2023 -2025.csv', encoding='utf-16', header=1, usecols=cols)"
   ]
  },
  {
   "cell_type": "code",
   "execution_count": 967,
   "id": "3b7b6e1a",
   "metadata": {},
   "outputs": [],
   "source": [
    "df_ventas.columns = df_ventas.columns.str.lower().str.strip().str.replace(' ', '_')\n",
    "\n",
    "df_ventas = df_ventas.rename(columns={\n",
    "    'mes':'fecha',\n",
    "    'ventas_c/impuesto':'ventas',\n",
    "    'venta_en_unidades':'volumen'\n",
    "})\n",
    "\n",
    "df_ventas['mes'] = df_ventas['fecha'].str.split(' ').str[0]\n",
    "df_ventas['numero_operacional'] = df_ventas['punto_operacional'].str.split(' ').str[0].astype(int)\n",
    "\n",
    "df_ventas['ventas'] = df_ventas['ventas'].str.replace('.', '').str.replace(',', '.').astype(float)\n",
    "df_ventas['volumen'] = df_ventas['volumen'].str.replace('.', '').str.replace(',', '.').astype(float)"
   ]
  },
  {
   "cell_type": "code",
   "execution_count": 968,
   "id": "319da5dc",
   "metadata": {},
   "outputs": [],
   "source": [
    "df_volumen = df_ventas[['año', 'fecha', 'mes', 'direccion', 'numero_operacional', 'punto_operacional', 'grupo_de_familia', 'volumen']]\n",
    "df_ventas = df_ventas[['año', 'fecha', 'mes', 'direccion', 'numero_operacional', 'punto_operacional', 'grupo_de_familia', 'ventas' ]]"
   ]
  },
  {
   "cell_type": "code",
   "execution_count": 969,
   "id": "15e33d07",
   "metadata": {},
   "outputs": [],
   "source": [
    "df_ventas = df_ventas.rename(columns={\n",
    "    'ventas':'valores'\n",
    "})\n",
    "df_ventas['categoria'] =  'vct'\n",
    "df_ventas = df_ventas.groupby(['año', 'fecha', 'mes', 'direccion', 'numero_operacional', 'punto_operacional', 'categoria'])['valores'].sum().reset_index()"
   ]
  },
  {
   "cell_type": "code",
   "execution_count": 970,
   "id": "818c51f2",
   "metadata": {},
   "outputs": [],
   "source": [
    "df_volumen = df_volumen.rename(columns={\n",
    "    'volumen':'valores'\n",
    "})\n",
    "df_volumen['categoria'] =  'vol'\n",
    "df_volumen = df_volumen[~df_volumen['grupo_de_familia'].isin(['ENVASES BEBIDAS', 'ENVASES PAGADOS'])]\n",
    "df_volumen = df_volumen.groupby(['año', 'fecha', 'mes', 'direccion', 'numero_operacional', 'punto_operacional', 'categoria'])['valores'].sum().reset_index()"
   ]
  },
  {
   "cell_type": "code",
   "execution_count": 971,
   "id": "ef3cf581",
   "metadata": {},
   "outputs": [],
   "source": [
    "df_debitos = df_debitos[['año', 'fecha', 'mes', 'direccion', 'numero_operacional', 'punto_operacional', 'categoria', 'valores']]"
   ]
  },
  {
   "cell_type": "code",
   "execution_count": 972,
   "id": "e66f9349",
   "metadata": {},
   "outputs": [],
   "source": [
    "df_vdv = pd.concat([df_ventas, df_volumen, df_debitos])"
   ]
  },
  {
   "cell_type": "code",
   "execution_count": 973,
   "id": "75595044",
   "metadata": {},
   "outputs": [],
   "source": [
    "df_vdv_join = pd.merge(df_vdv, padron[['numero_operacional', 'sep']], on='numero_operacional')"
   ]
  },
  {
   "cell_type": "code",
   "execution_count": 974,
   "id": "25f1d397",
   "metadata": {},
   "outputs": [],
   "source": [
    "df_vdv_join['aux'] = df_vdv_join['mes'].map(meses_orden)"
   ]
  },
  {
   "cell_type": "code",
   "execution_count": 975,
   "id": "35db7fb3",
   "metadata": {},
   "outputs": [
    {
     "data": {
      "text/plain": [
       "{1: 'Enero',\n",
       " 2: 'Febrero',\n",
       " 3: 'Marzo',\n",
       " 4: 'Abril',\n",
       " 5: 'Mayo',\n",
       " 6: 'Junio',\n",
       " 7: 'Julio',\n",
       " 8: 'Agosto',\n",
       " 9: 'Septiembre',\n",
       " 10: 'Octubre',\n",
       " 11: 'Noviembre',\n",
       " 12: 'Diciembre'}"
      ]
     },
     "execution_count": 975,
     "metadata": {},
     "output_type": "execute_result"
    }
   ],
   "source": [
    "meses_orden.items()\n",
    "meses_invertidos = {v:k for k, v in meses_orden.items()}\n",
    "meses_invertidos"
   ]
  },
  {
   "cell_type": "code",
   "execution_count": 976,
   "id": "8a7382a7",
   "metadata": {},
   "outputs": [
    {
     "data": {
      "text/html": [
       "<div>\n",
       "<style scoped>\n",
       "    .dataframe tbody tr th:only-of-type {\n",
       "        vertical-align: middle;\n",
       "    }\n",
       "\n",
       "    .dataframe tbody tr th {\n",
       "        vertical-align: top;\n",
       "    }\n",
       "\n",
       "    .dataframe thead th {\n",
       "        text-align: right;\n",
       "    }\n",
       "</style>\n",
       "<table border=\"1\" class=\"dataframe\">\n",
       "  <thead>\n",
       "    <tr style=\"text-align: right;\">\n",
       "      <th></th>\n",
       "      <th>año</th>\n",
       "      <th>fecha</th>\n",
       "      <th>mes</th>\n",
       "      <th>direccion</th>\n",
       "      <th>numero_operacional</th>\n",
       "      <th>punto_operacional</th>\n",
       "      <th>categoria</th>\n",
       "      <th>valores</th>\n",
       "      <th>sep</th>\n",
       "      <th>aux</th>\n",
       "    </tr>\n",
       "  </thead>\n",
       "  <tbody>\n",
       "    <tr>\n",
       "      <th>0</th>\n",
       "      <td>2023</td>\n",
       "      <td>Abril del 2023</td>\n",
       "      <td>Abril</td>\n",
       "      <td>MAXI</td>\n",
       "      <td>20</td>\n",
       "      <td>020 - Avellaneda</td>\n",
       "      <td>vct</td>\n",
       "      <td>9.440494e+08</td>\n",
       "      <td>SC</td>\n",
       "      <td>4</td>\n",
       "    </tr>\n",
       "    <tr>\n",
       "      <th>1</th>\n",
       "      <td>2023</td>\n",
       "      <td>Abril del 2023</td>\n",
       "      <td>Abril</td>\n",
       "      <td>MAXI</td>\n",
       "      <td>40</td>\n",
       "      <td>040 - Temperley</td>\n",
       "      <td>vct</td>\n",
       "      <td>2.997863e+08</td>\n",
       "      <td>SC</td>\n",
       "      <td>4</td>\n",
       "    </tr>\n",
       "    <tr>\n",
       "      <th>2</th>\n",
       "      <td>2023</td>\n",
       "      <td>Abril del 2023</td>\n",
       "      <td>Abril</td>\n",
       "      <td>MAXI</td>\n",
       "      <td>45</td>\n",
       "      <td>045 - Trelew 25 de Mayo</td>\n",
       "      <td>vct</td>\n",
       "      <td>1.980232e+08</td>\n",
       "      <td>SC</td>\n",
       "      <td>4</td>\n",
       "    </tr>\n",
       "    <tr>\n",
       "      <th>3</th>\n",
       "      <td>2023</td>\n",
       "      <td>Abril del 2023</td>\n",
       "      <td>Abril</td>\n",
       "      <td>MAXI</td>\n",
       "      <td>57</td>\n",
       "      <td>057 - Tandil Villa Italia</td>\n",
       "      <td>vct</td>\n",
       "      <td>3.037086e+08</td>\n",
       "      <td>SC</td>\n",
       "      <td>4</td>\n",
       "    </tr>\n",
       "    <tr>\n",
       "      <th>4</th>\n",
       "      <td>2023</td>\n",
       "      <td>Abril del 2023</td>\n",
       "      <td>Abril</td>\n",
       "      <td>MAXI</td>\n",
       "      <td>59</td>\n",
       "      <td>059 - Mendoza Godoy Cruz</td>\n",
       "      <td>vct</td>\n",
       "      <td>7.150335e+08</td>\n",
       "      <td>SC</td>\n",
       "      <td>4</td>\n",
       "    </tr>\n",
       "    <tr>\n",
       "      <th>...</th>\n",
       "      <td>...</td>\n",
       "      <td>...</td>\n",
       "      <td>...</td>\n",
       "      <td>...</td>\n",
       "      <td>...</td>\n",
       "      <td>...</td>\n",
       "      <td>...</td>\n",
       "      <td>...</td>\n",
       "      <td>...</td>\n",
       "      <td>...</td>\n",
       "    </tr>\n",
       "    <tr>\n",
       "      <th>3108</th>\n",
       "      <td>2025</td>\n",
       "      <td>Octubre del 2025</td>\n",
       "      <td>Octubre</td>\n",
       "      <td>MAXI</td>\n",
       "      <td>706</td>\n",
       "      <td>706 - Maxi Lomas</td>\n",
       "      <td>deb</td>\n",
       "      <td>5.188000e+03</td>\n",
       "      <td>SC</td>\n",
       "      <td>10</td>\n",
       "    </tr>\n",
       "    <tr>\n",
       "      <th>3109</th>\n",
       "      <td>2025</td>\n",
       "      <td>Octubre del 2025</td>\n",
       "      <td>Octubre</td>\n",
       "      <td>MAXI</td>\n",
       "      <td>707</td>\n",
       "      <td>707 - Maxi Cordoba J.B.Justo</td>\n",
       "      <td>deb</td>\n",
       "      <td>7.559000e+03</td>\n",
       "      <td>SC</td>\n",
       "      <td>10</td>\n",
       "    </tr>\n",
       "    <tr>\n",
       "      <th>3110</th>\n",
       "      <td>2025</td>\n",
       "      <td>Octubre del 2025</td>\n",
       "      <td>Octubre</td>\n",
       "      <td>MAXI</td>\n",
       "      <td>708</td>\n",
       "      <td>708 - Maxi Tortuguitas</td>\n",
       "      <td>deb</td>\n",
       "      <td>4.735000e+03</td>\n",
       "      <td>SC</td>\n",
       "      <td>10</td>\n",
       "    </tr>\n",
       "    <tr>\n",
       "      <th>3111</th>\n",
       "      <td>2025</td>\n",
       "      <td>Octubre del 2025</td>\n",
       "      <td>Octubre</td>\n",
       "      <td>MAXI</td>\n",
       "      <td>709</td>\n",
       "      <td>709 - MAXI - LOMA HERMOSA</td>\n",
       "      <td>deb</td>\n",
       "      <td>4.149000e+03</td>\n",
       "      <td>SC</td>\n",
       "      <td>10</td>\n",
       "    </tr>\n",
       "    <tr>\n",
       "      <th>3112</th>\n",
       "      <td>2025</td>\n",
       "      <td>Octubre del 2025</td>\n",
       "      <td>Octubre</td>\n",
       "      <td>MAXI</td>\n",
       "      <td>896</td>\n",
       "      <td>896 - MAXI - SIDE STORE</td>\n",
       "      <td>deb</td>\n",
       "      <td>1.000000e+00</td>\n",
       "      <td>SC</td>\n",
       "      <td>10</td>\n",
       "    </tr>\n",
       "  </tbody>\n",
       "</table>\n",
       "<p>3113 rows × 10 columns</p>\n",
       "</div>"
      ],
      "text/plain": [
       "       año             fecha      mes direccion  numero_operacional  \\\n",
       "0     2023    Abril del 2023    Abril      MAXI                  20   \n",
       "1     2023    Abril del 2023    Abril      MAXI                  40   \n",
       "2     2023    Abril del 2023    Abril      MAXI                  45   \n",
       "3     2023    Abril del 2023    Abril      MAXI                  57   \n",
       "4     2023    Abril del 2023    Abril      MAXI                  59   \n",
       "...    ...               ...      ...       ...                 ...   \n",
       "3108  2025  Octubre del 2025  Octubre      MAXI                 706   \n",
       "3109  2025  Octubre del 2025  Octubre      MAXI                 707   \n",
       "3110  2025  Octubre del 2025  Octubre      MAXI                 708   \n",
       "3111  2025  Octubre del 2025  Octubre      MAXI                 709   \n",
       "3112  2025  Octubre del 2025  Octubre      MAXI                 896   \n",
       "\n",
       "                 punto_operacional categoria       valores sep  aux  \n",
       "0                 020 - Avellaneda       vct  9.440494e+08  SC    4  \n",
       "1                  040 - Temperley       vct  2.997863e+08  SC    4  \n",
       "2          045 - Trelew 25 de Mayo       vct  1.980232e+08  SC    4  \n",
       "3        057 - Tandil Villa Italia       vct  3.037086e+08  SC    4  \n",
       "4         059 - Mendoza Godoy Cruz       vct  7.150335e+08  SC    4  \n",
       "...                            ...       ...           ...  ..  ...  \n",
       "3108              706 - Maxi Lomas       deb  5.188000e+03  SC   10  \n",
       "3109  707 - Maxi Cordoba J.B.Justo       deb  7.559000e+03  SC   10  \n",
       "3110        708 - Maxi Tortuguitas       deb  4.735000e+03  SC   10  \n",
       "3111     709 - MAXI - LOMA HERMOSA       deb  4.149000e+03  SC   10  \n",
       "3112       896 - MAXI - SIDE STORE       deb  1.000000e+00  SC   10  \n",
       "\n",
       "[3113 rows x 10 columns]"
      ]
     },
     "execution_count": 976,
     "metadata": {},
     "output_type": "execute_result"
    }
   ],
   "source": [
    "df_vdv_join"
   ]
  },
  {
   "cell_type": "code",
   "execution_count": 977,
   "id": "ebfbac7f",
   "metadata": {},
   "outputs": [
    {
     "data": {
      "text/html": [
       "<div>\n",
       "<style scoped>\n",
       "    .dataframe tbody tr th:only-of-type {\n",
       "        vertical-align: middle;\n",
       "    }\n",
       "\n",
       "    .dataframe tbody tr th {\n",
       "        vertical-align: top;\n",
       "    }\n",
       "\n",
       "    .dataframe thead th {\n",
       "        text-align: right;\n",
       "    }\n",
       "</style>\n",
       "<table border=\"1\" class=\"dataframe\">\n",
       "  <thead>\n",
       "    <tr style=\"text-align: right;\">\n",
       "      <th></th>\n",
       "      <th>año</th>\n",
       "      <th>fecha</th>\n",
       "      <th>mes</th>\n",
       "      <th>direccion</th>\n",
       "      <th>numero_operacional</th>\n",
       "      <th>punto_operacional</th>\n",
       "      <th>categoria</th>\n",
       "      <th>valores</th>\n",
       "      <th>sep</th>\n",
       "      <th>aux</th>\n",
       "    </tr>\n",
       "  </thead>\n",
       "  <tbody>\n",
       "    <tr>\n",
       "      <th>90</th>\n",
       "      <td>2023</td>\n",
       "      <td>Enero del 2023</td>\n",
       "      <td>Enero</td>\n",
       "      <td>MAXI</td>\n",
       "      <td>266</td>\n",
       "      <td>266 - Parana Don Bosco</td>\n",
       "      <td>vct</td>\n",
       "      <td>7.080923e+07</td>\n",
       "      <td>SC</td>\n",
       "      <td>1</td>\n",
       "    </tr>\n",
       "    <tr>\n",
       "      <th>91</th>\n",
       "      <td>2023</td>\n",
       "      <td>Enero del 2023</td>\n",
       "      <td>Enero</td>\n",
       "      <td>MAXI</td>\n",
       "      <td>278</td>\n",
       "      <td>278 - MAXI Marquez</td>\n",
       "      <td>vct</td>\n",
       "      <td>1.686451e+08</td>\n",
       "      <td>SC</td>\n",
       "      <td>1</td>\n",
       "    </tr>\n",
       "    <tr>\n",
       "      <th>92</th>\n",
       "      <td>2023</td>\n",
       "      <td>Enero del 2023</td>\n",
       "      <td>Enero</td>\n",
       "      <td>MAXI</td>\n",
       "      <td>294</td>\n",
       "      <td>294 - Ituzaingo Blas Parera</td>\n",
       "      <td>vct</td>\n",
       "      <td>2.159977e+08</td>\n",
       "      <td>SC</td>\n",
       "      <td>1</td>\n",
       "    </tr>\n",
       "    <tr>\n",
       "      <th>93</th>\n",
       "      <td>2023</td>\n",
       "      <td>Enero del 2023</td>\n",
       "      <td>Enero</td>\n",
       "      <td>MAXI</td>\n",
       "      <td>701</td>\n",
       "      <td>701 - Ruta III</td>\n",
       "      <td>vct</td>\n",
       "      <td>7.070009e+08</td>\n",
       "      <td>SC</td>\n",
       "      <td>1</td>\n",
       "    </tr>\n",
       "    <tr>\n",
       "      <th>94</th>\n",
       "      <td>2023</td>\n",
       "      <td>Enero del 2023</td>\n",
       "      <td>Enero</td>\n",
       "      <td>MAXI</td>\n",
       "      <td>702</td>\n",
       "      <td>702 - Claypole</td>\n",
       "      <td>vct</td>\n",
       "      <td>7.535027e+08</td>\n",
       "      <td>SC</td>\n",
       "      <td>1</td>\n",
       "    </tr>\n",
       "    <tr>\n",
       "      <th>...</th>\n",
       "      <td>...</td>\n",
       "      <td>...</td>\n",
       "      <td>...</td>\n",
       "      <td>...</td>\n",
       "      <td>...</td>\n",
       "      <td>...</td>\n",
       "      <td>...</td>\n",
       "      <td>...</td>\n",
       "      <td>...</td>\n",
       "      <td>...</td>\n",
       "    </tr>\n",
       "    <tr>\n",
       "      <th>77</th>\n",
       "      <td>2023</td>\n",
       "      <td>Diciembre del 2023</td>\n",
       "      <td>Diciembre</td>\n",
       "      <td>MAXI</td>\n",
       "      <td>709</td>\n",
       "      <td>709 - MAXI - LOMA HERMOSA</td>\n",
       "      <td>vct</td>\n",
       "      <td>7.033901e+08</td>\n",
       "      <td>SC</td>\n",
       "      <td>12</td>\n",
       "    </tr>\n",
       "    <tr>\n",
       "      <th>78</th>\n",
       "      <td>2023</td>\n",
       "      <td>Diciembre del 2023</td>\n",
       "      <td>Diciembre</td>\n",
       "      <td>MAXI</td>\n",
       "      <td>896</td>\n",
       "      <td>896 - MAXI - SIDE STORE</td>\n",
       "      <td>vct</td>\n",
       "      <td>1.163335e+08</td>\n",
       "      <td>SC</td>\n",
       "      <td>12</td>\n",
       "    </tr>\n",
       "    <tr>\n",
       "      <th>2366</th>\n",
       "      <td>2023</td>\n",
       "      <td>Diciembre del 2023</td>\n",
       "      <td>Diciembre</td>\n",
       "      <td>MAXI</td>\n",
       "      <td>503</td>\n",
       "      <td>503 - Maxi San Vicente</td>\n",
       "      <td>deb</td>\n",
       "      <td>2.748600e+04</td>\n",
       "      <td>SC</td>\n",
       "      <td>12</td>\n",
       "    </tr>\n",
       "    <tr>\n",
       "      <th>2367</th>\n",
       "      <td>2023</td>\n",
       "      <td>Diciembre del 2023</td>\n",
       "      <td>Diciembre</td>\n",
       "      <td>MAXI</td>\n",
       "      <td>504</td>\n",
       "      <td>504 - Maxi Cacheuta Cba</td>\n",
       "      <td>deb</td>\n",
       "      <td>2.684500e+04</td>\n",
       "      <td>SC</td>\n",
       "      <td>12</td>\n",
       "    </tr>\n",
       "    <tr>\n",
       "      <th>2368</th>\n",
       "      <td>2023</td>\n",
       "      <td>Diciembre del 2023</td>\n",
       "      <td>Diciembre</td>\n",
       "      <td>MAXI</td>\n",
       "      <td>505</td>\n",
       "      <td>505 - Maxi Ruta 25 Pilar</td>\n",
       "      <td>deb</td>\n",
       "      <td>3.224100e+04</td>\n",
       "      <td>SC</td>\n",
       "      <td>12</td>\n",
       "    </tr>\n",
       "  </tbody>\n",
       "</table>\n",
       "<p>3113 rows × 10 columns</p>\n",
       "</div>"
      ],
      "text/plain": [
       "       año               fecha        mes direccion  numero_operacional  \\\n",
       "90    2023      Enero del 2023      Enero      MAXI                 266   \n",
       "91    2023      Enero del 2023      Enero      MAXI                 278   \n",
       "92    2023      Enero del 2023      Enero      MAXI                 294   \n",
       "93    2023      Enero del 2023      Enero      MAXI                 701   \n",
       "94    2023      Enero del 2023      Enero      MAXI                 702   \n",
       "...    ...                 ...        ...       ...                 ...   \n",
       "77    2023  Diciembre del 2023  Diciembre      MAXI                 709   \n",
       "78    2023  Diciembre del 2023  Diciembre      MAXI                 896   \n",
       "2366  2023  Diciembre del 2023  Diciembre      MAXI                 503   \n",
       "2367  2023  Diciembre del 2023  Diciembre      MAXI                 504   \n",
       "2368  2023  Diciembre del 2023  Diciembre      MAXI                 505   \n",
       "\n",
       "                punto_operacional categoria       valores sep  aux  \n",
       "90         266 - Parana Don Bosco       vct  7.080923e+07  SC    1  \n",
       "91             278 - MAXI Marquez       vct  1.686451e+08  SC    1  \n",
       "92    294 - Ituzaingo Blas Parera       vct  2.159977e+08  SC    1  \n",
       "93                 701 - Ruta III       vct  7.070009e+08  SC    1  \n",
       "94                 702 - Claypole       vct  7.535027e+08  SC    1  \n",
       "...                           ...       ...           ...  ..  ...  \n",
       "77      709 - MAXI - LOMA HERMOSA       vct  7.033901e+08  SC   12  \n",
       "78        896 - MAXI - SIDE STORE       vct  1.163335e+08  SC   12  \n",
       "2366       503 - Maxi San Vicente       deb  2.748600e+04  SC   12  \n",
       "2367      504 - Maxi Cacheuta Cba       deb  2.684500e+04  SC   12  \n",
       "2368     505 - Maxi Ruta 25 Pilar       deb  3.224100e+04  SC   12  \n",
       "\n",
       "[3113 rows x 10 columns]"
      ]
     },
     "execution_count": 977,
     "metadata": {},
     "output_type": "execute_result"
    }
   ],
   "source": [
    "df_vdv_join.sort_values(by='aux', ascending=True)"
   ]
  },
  {
   "cell_type": "code",
   "execution_count": 978,
   "id": "de6bb41f",
   "metadata": {},
   "outputs": [],
   "source": [
    "df_vdv_join['fecha_completa'] = pd.to_datetime(\n",
    "    '01/' + df_vdv_join['aux'].astype(str) + '/' + df_vdv_join['año'].astype(str), format='%d/%m/%Y')"
   ]
  },
  {
   "cell_type": "code",
   "execution_count": 979,
   "id": "8ad58566",
   "metadata": {},
   "outputs": [],
   "source": [
    "mes_comparable = 'Septiembre'\n",
    "fecha_tope = pd.to_datetime('01/'+ str(meses_orden[mes_comparable]) + '/' + '2025', format='%d/%m/%Y')"
   ]
  },
  {
   "cell_type": "code",
   "execution_count": 980,
   "id": "d6c637a6",
   "metadata": {},
   "outputs": [],
   "source": [
    "df_vdv_join = df_vdv_join[df_vdv_join['fecha_completa'] <= fecha_tope]"
   ]
  },
  {
   "cell_type": "code",
   "execution_count": 981,
   "id": "2efb26e4",
   "metadata": {},
   "outputs": [],
   "source": [
    "df_vdv_join = df_vdv_join.pivot_table(values='valores', columns='año', index=['mes', 'numero_operacional', 'punto_operacional', 'categoria', 'sep', 'aux'], aggfunc='sum').reset_index()"
   ]
  },
  {
   "cell_type": "code",
   "execution_count": 982,
   "id": "a6ff0174",
   "metadata": {},
   "outputs": [],
   "source": [
    "df_vdv_join['progresion 2024'] = round((df_vdv_join[2024] / df_vdv_join[2023]) - 1, 3)\n",
    "df_vdv_join['progresion 2025'] = round((df_vdv_join[2025] / df_vdv_join[2024]) - 1, 3)"
   ]
  },
  {
   "cell_type": "code",
   "execution_count": 983,
   "id": "e8bea6f0",
   "metadata": {},
   "outputs": [],
   "source": [
    "df_vdv_join_tienda = df_vdv_join.groupby(['mes', 'numero_operacional', 'punto_operacional', 'categoria', 'sep', 'aux'])[[2023, 2024, 2025, 'progresion 2024', 'progresion 2025']].sum().reset_index()"
   ]
  },
  {
   "cell_type": "code",
   "execution_count": 984,
   "id": "3f43ac2a",
   "metadata": {},
   "outputs": [],
   "source": [
    "df_vdv_join_tienda = df_vdv_join_tienda.pivot_table(values=[2024, 2025, 'progresion 2024', 'progresion 2025'], columns='categoria', index=['mes', 'numero_operacional', 'punto_operacional', 'sep', 'aux'], aggfunc='sum').reset_index().sort_values(by=('aux',''))"
   ]
  },
  {
   "cell_type": "code",
   "execution_count": 985,
   "id": "0834a2de",
   "metadata": {},
   "outputs": [],
   "source": [
    "df_vdv_join_comparable = df_vdv_join[df_vdv_join['sep'] == 'SC']\n",
    "df_vdv_join_total = df_vdv_join"
   ]
  },
  {
   "cell_type": "code",
   "execution_count": 986,
   "id": "27155e36",
   "metadata": {},
   "outputs": [],
   "source": [
    "info_comparable = df_vdv_join_comparable.groupby(['mes', 'categoria', 'aux'])[['progresion 2024', 'progresion 2025']].sum().reset_index().pivot_table(values=['progresion 2024', 'progresion 2025'], index=['mes', 'aux'], columns='categoria').reset_index().sort_values(('aux',''))"
   ]
  },
  {
   "cell_type": "code",
   "execution_count": 987,
   "id": "42c84c84",
   "metadata": {},
   "outputs": [
    {
     "data": {
      "text/html": [
       "<div>\n",
       "<style scoped>\n",
       "    .dataframe tbody tr th:only-of-type {\n",
       "        vertical-align: middle;\n",
       "    }\n",
       "\n",
       "    .dataframe tbody tr th {\n",
       "        vertical-align: top;\n",
       "    }\n",
       "\n",
       "    .dataframe thead tr th {\n",
       "        text-align: left;\n",
       "    }\n",
       "</style>\n",
       "<table border=\"1\" class=\"dataframe\">\n",
       "  <thead>\n",
       "    <tr>\n",
       "      <th>año</th>\n",
       "      <th>mes</th>\n",
       "      <th>aux</th>\n",
       "      <th colspan=\"3\" halign=\"left\">progresion 2024</th>\n",
       "      <th colspan=\"3\" halign=\"left\">progresion 2025</th>\n",
       "    </tr>\n",
       "    <tr>\n",
       "      <th>categoria</th>\n",
       "      <th></th>\n",
       "      <th></th>\n",
       "      <th>deb</th>\n",
       "      <th>vct</th>\n",
       "      <th>vol</th>\n",
       "      <th>deb</th>\n",
       "      <th>vct</th>\n",
       "      <th>vol</th>\n",
       "    </tr>\n",
       "  </thead>\n",
       "  <tbody>\n",
       "    <tr>\n",
       "      <th>3</th>\n",
       "      <td>Enero</td>\n",
       "      <td>1</td>\n",
       "      <td>1.381</td>\n",
       "      <td>60.487</td>\n",
       "      <td>0.355</td>\n",
       "      <td>-6.497</td>\n",
       "      <td>20.558</td>\n",
       "      <td>-2.907</td>\n",
       "    </tr>\n",
       "    <tr>\n",
       "      <th>4</th>\n",
       "      <td>Febrero</td>\n",
       "      <td>2</td>\n",
       "      <td>-0.154</td>\n",
       "      <td>70.576</td>\n",
       "      <td>0.524</td>\n",
       "      <td>-6.019</td>\n",
       "      <td>18.080</td>\n",
       "      <td>-0.899</td>\n",
       "    </tr>\n",
       "    <tr>\n",
       "      <th>7</th>\n",
       "      <td>Marzo</td>\n",
       "      <td>3</td>\n",
       "      <td>-2.231</td>\n",
       "      <td>61.121</td>\n",
       "      <td>-1.550</td>\n",
       "      <td>-5.124</td>\n",
       "      <td>15.646</td>\n",
       "      <td>-0.998</td>\n",
       "    </tr>\n",
       "    <tr>\n",
       "      <th>0</th>\n",
       "      <td>Abril</td>\n",
       "      <td>4</td>\n",
       "      <td>-4.103</td>\n",
       "      <td>51.952</td>\n",
       "      <td>-3.600</td>\n",
       "      <td>-4.165</td>\n",
       "      <td>16.831</td>\n",
       "      <td>0.252</td>\n",
       "    </tr>\n",
       "    <tr>\n",
       "      <th>8</th>\n",
       "      <td>Mayo</td>\n",
       "      <td>5</td>\n",
       "      <td>-3.031</td>\n",
       "      <td>49.917</td>\n",
       "      <td>-3.630</td>\n",
       "      <td>-5.305</td>\n",
       "      <td>20.095</td>\n",
       "      <td>0.853</td>\n",
       "    </tr>\n",
       "    <tr>\n",
       "      <th>6</th>\n",
       "      <td>Junio</td>\n",
       "      <td>6</td>\n",
       "      <td>-3.594</td>\n",
       "      <td>46.074</td>\n",
       "      <td>-3.974</td>\n",
       "      <td>-6.144</td>\n",
       "      <td>15.307</td>\n",
       "      <td>-1.293</td>\n",
       "    </tr>\n",
       "    <tr>\n",
       "      <th>5</th>\n",
       "      <td>Julio</td>\n",
       "      <td>7</td>\n",
       "      <td>-4.056</td>\n",
       "      <td>41.593</td>\n",
       "      <td>-5.538</td>\n",
       "      <td>-5.370</td>\n",
       "      <td>12.593</td>\n",
       "      <td>-0.202</td>\n",
       "    </tr>\n",
       "    <tr>\n",
       "      <th>1</th>\n",
       "      <td>Agosto</td>\n",
       "      <td>8</td>\n",
       "      <td>-5.862</td>\n",
       "      <td>36.663</td>\n",
       "      <td>-6.107</td>\n",
       "      <td>-4.423</td>\n",
       "      <td>19.019</td>\n",
       "      <td>2.991</td>\n",
       "    </tr>\n",
       "    <tr>\n",
       "      <th>11</th>\n",
       "      <td>Septiembre</td>\n",
       "      <td>9</td>\n",
       "      <td>-6.925</td>\n",
       "      <td>46.838</td>\n",
       "      <td>-5.847</td>\n",
       "      <td>-5.486</td>\n",
       "      <td>6.457</td>\n",
       "      <td>-1.154</td>\n",
       "    </tr>\n",
       "    <tr>\n",
       "      <th>10</th>\n",
       "      <td>Octubre</td>\n",
       "      <td>10</td>\n",
       "      <td>-6.188</td>\n",
       "      <td>37.826</td>\n",
       "      <td>-5.516</td>\n",
       "      <td>0.000</td>\n",
       "      <td>0.000</td>\n",
       "      <td>0.000</td>\n",
       "    </tr>\n",
       "    <tr>\n",
       "      <th>9</th>\n",
       "      <td>Noviembre</td>\n",
       "      <td>11</td>\n",
       "      <td>8.905</td>\n",
       "      <td>62.199</td>\n",
       "      <td>0.320</td>\n",
       "      <td>0.000</td>\n",
       "      <td>0.000</td>\n",
       "      <td>0.000</td>\n",
       "    </tr>\n",
       "    <tr>\n",
       "      <th>2</th>\n",
       "      <td>Diciembre</td>\n",
       "      <td>12</td>\n",
       "      <td>-8.680</td>\n",
       "      <td>23.551</td>\n",
       "      <td>-7.878</td>\n",
       "      <td>0.000</td>\n",
       "      <td>0.000</td>\n",
       "      <td>0.000</td>\n",
       "    </tr>\n",
       "  </tbody>\n",
       "</table>\n",
       "</div>"
      ],
      "text/plain": [
       "año               mes aux progresion 2024                progresion 2025  \\\n",
       "categoria                             deb     vct    vol             deb   \n",
       "3               Enero   1           1.381  60.487  0.355          -6.497   \n",
       "4             Febrero   2          -0.154  70.576  0.524          -6.019   \n",
       "7               Marzo   3          -2.231  61.121 -1.550          -5.124   \n",
       "0               Abril   4          -4.103  51.952 -3.600          -4.165   \n",
       "8                Mayo   5          -3.031  49.917 -3.630          -5.305   \n",
       "6               Junio   6          -3.594  46.074 -3.974          -6.144   \n",
       "5               Julio   7          -4.056  41.593 -5.538          -5.370   \n",
       "1              Agosto   8          -5.862  36.663 -6.107          -4.423   \n",
       "11         Septiembre   9          -6.925  46.838 -5.847          -5.486   \n",
       "10            Octubre  10          -6.188  37.826 -5.516           0.000   \n",
       "9           Noviembre  11           8.905  62.199  0.320           0.000   \n",
       "2           Diciembre  12          -8.680  23.551 -7.878           0.000   \n",
       "\n",
       "año                       \n",
       "categoria     vct    vol  \n",
       "3          20.558 -2.907  \n",
       "4          18.080 -0.899  \n",
       "7          15.646 -0.998  \n",
       "0          16.831  0.252  \n",
       "8          20.095  0.853  \n",
       "6          15.307 -1.293  \n",
       "5          12.593 -0.202  \n",
       "1          19.019  2.991  \n",
       "11          6.457 -1.154  \n",
       "10          0.000  0.000  \n",
       "9           0.000  0.000  \n",
       "2           0.000  0.000  "
      ]
     },
     "execution_count": 987,
     "metadata": {},
     "output_type": "execute_result"
    }
   ],
   "source": [
    "info_comparable"
   ]
  }
 ],
 "metadata": {
  "kernelspec": {
   "display_name": "env",
   "language": "python",
   "name": "python3"
  },
  "language_info": {
   "codemirror_mode": {
    "name": "ipython",
    "version": 3
   },
   "file_extension": ".py",
   "mimetype": "text/x-python",
   "name": "python",
   "nbconvert_exporter": "python",
   "pygments_lexer": "ipython3",
   "version": "3.13.8"
  }
 },
 "nbformat": 4,
 "nbformat_minor": 5
}
