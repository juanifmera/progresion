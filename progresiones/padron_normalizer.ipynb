{
 "cells": [
  {
   "cell_type": "code",
   "execution_count": null,
   "id": "c2afdadc",
   "metadata": {},
   "outputs": [],
   "source": [
    "import pandas as pd\n",
    "from datetime import datetime, date\n",
    "import numpy as np\n",
    "import os"
   ]
  },
  {
   "cell_type": "code",
   "execution_count": 190,
   "id": "fa57a5ab",
   "metadata": {},
   "outputs": [
    {
     "name": "stderr",
     "output_type": "stream",
     "text": [
      "C:\\Users\\Juan Mera\\AppData\\Local\\Temp\\ipykernel_5044\\2011166845.py:42: FutureWarning: Downcasting behavior in `replace` is deprecated and will be removed in a future version. To retain the old behavior, explicitly call `result.infer_objects(copy=False)`. To opt-in to the future behavior, set `pd.set_option('future.no_silent_downcasting', True)`\n",
      "  padron[col] = padron[col].replace('sd', 0).replace('SD', 0).replace('-', 0)\n",
      "C:\\Users\\Juan Mera\\AppData\\Local\\Temp\\ipykernel_5044\\2011166845.py:42: FutureWarning: Downcasting behavior in `replace` is deprecated and will be removed in a future version. To retain the old behavior, explicitly call `result.infer_objects(copy=False)`. To opt-in to the future behavior, set `pd.set_option('future.no_silent_downcasting', True)`\n",
      "  padron[col] = padron[col].replace('sd', 0).replace('SD', 0).replace('-', 0)\n",
      "C:\\Users\\Juan Mera\\AppData\\Local\\Temp\\ipykernel_5044\\2011166845.py:42: FutureWarning: Downcasting behavior in `replace` is deprecated and will be removed in a future version. To retain the old behavior, explicitly call `result.infer_objects(copy=False)`. To opt-in to the future behavior, set `pd.set_option('future.no_silent_downcasting', True)`\n",
      "  padron[col] = padron[col].replace('sd', 0).replace('SD', 0).replace('-', 0)\n",
      "C:\\Users\\Juan Mera\\AppData\\Local\\Temp\\ipykernel_5044\\2011166845.py:42: FutureWarning: Downcasting behavior in `replace` is deprecated and will be removed in a future version. To retain the old behavior, explicitly call `result.infer_objects(copy=False)`. To opt-in to the future behavior, set `pd.set_option('future.no_silent_downcasting', True)`\n",
      "  padron[col] = padron[col].replace('sd', 0).replace('SD', 0).replace('-', 0)\n",
      "C:\\Users\\Juan Mera\\AppData\\Local\\Temp\\ipykernel_5044\\2011166845.py:42: FutureWarning: Downcasting behavior in `replace` is deprecated and will be removed in a future version. To retain the old behavior, explicitly call `result.infer_objects(copy=False)`. To opt-in to the future behavior, set `pd.set_option('future.no_silent_downcasting', True)`\n",
      "  padron[col] = padron[col].replace('sd', 0).replace('SD', 0).replace('-', 0)\n",
      "C:\\Users\\Juan Mera\\AppData\\Local\\Temp\\ipykernel_5044\\2011166845.py:42: FutureWarning: Downcasting behavior in `replace` is deprecated and will be removed in a future version. To retain the old behavior, explicitly call `result.infer_objects(copy=False)`. To opt-in to the future behavior, set `pd.set_option('future.no_silent_downcasting', True)`\n",
      "  padron[col] = padron[col].replace('sd', 0).replace('SD', 0).replace('-', 0)\n",
      "C:\\Users\\Juan Mera\\AppData\\Local\\Temp\\ipykernel_5044\\2011166845.py:42: FutureWarning: Downcasting behavior in `replace` is deprecated and will be removed in a future version. To retain the old behavior, explicitly call `result.infer_objects(copy=False)`. To opt-in to the future behavior, set `pd.set_option('future.no_silent_downcasting', True)`\n",
      "  padron[col] = padron[col].replace('sd', 0).replace('SD', 0).replace('-', 0)\n",
      "C:\\Users\\Juan Mera\\AppData\\Local\\Temp\\ipykernel_5044\\2011166845.py:42: FutureWarning: Downcasting behavior in `replace` is deprecated and will be removed in a future version. To retain the old behavior, explicitly call `result.infer_objects(copy=False)`. To opt-in to the future behavior, set `pd.set_option('future.no_silent_downcasting', True)`\n",
      "  padron[col] = padron[col].replace('sd', 0).replace('SD', 0).replace('-', 0)\n",
      "C:\\Users\\Juan Mera\\AppData\\Local\\Temp\\ipykernel_5044\\2011166845.py:42: FutureWarning: Downcasting behavior in `replace` is deprecated and will be removed in a future version. To retain the old behavior, explicitly call `result.infer_objects(copy=False)`. To opt-in to the future behavior, set `pd.set_option('future.no_silent_downcasting', True)`\n",
      "  padron[col] = padron[col].replace('sd', 0).replace('SD', 0).replace('-', 0)\n",
      "C:\\Users\\Juan Mera\\AppData\\Local\\Temp\\ipykernel_5044\\2011166845.py:42: FutureWarning: Downcasting behavior in `replace` is deprecated and will be removed in a future version. To retain the old behavior, explicitly call `result.infer_objects(copy=False)`. To opt-in to the future behavior, set `pd.set_option('future.no_silent_downcasting', True)`\n",
      "  padron[col] = padron[col].replace('sd', 0).replace('SD', 0).replace('-', 0)\n"
     ]
    }
   ],
   "source": [
    "# Limito la lectura del Padron utilizando solo las columnas necesarias\n",
    "cols = ['N°', 'NOMBRE', 'Fecha apertura', 'ORGANIZACIÓN ', 'DIRECTOR EXPLOTACIÓN', 'DIRECTOR OPERACIONAL', 'DIRECTOR / GERENTE REGIONAL', 'DIRECTOR/ GERENTE TIENDA', 'M² SALÓN', 'M² PGC', 'M² PFT', 'M² BAZAR', 'M² Electro', 'M² Textil', 'M² Pls', 'M² GALERIAS', 'DOMICILIO', 'PROVINCIA', 'CAJAS', 'M² Parcking', 'FIN DE CIERRE', 'ENE.2', 'FEB.2', 'MAR.2', 'ABR.2', 'MAY.2', 'JUN.2', 'JUL.2', 'AGO.2', 'SEP.2', 'OCT.2', 'NOV.2', 'DIC.2']\n",
    "\n",
    "# Leo el archivo (Conteplar que el archivo debe estar dentro de una carpeta llamada data)\n",
    "padron = pd.read_excel('data/padron.xlsx', header=17, usecols=cols)\n",
    "\n",
    "# Normalizo los nombres de las columnas\n",
    "padron.columns = padron.columns.str.lower().str.replace('/', '').str.replace('.2', '').str.strip().str.replace('  ', ' ').str.replace(' ', '_').str.replace('m²', 'mtr')\n",
    "padron = padron.rename(columns={'n°':'numero_operacional'})\n",
    "\n",
    "# Elimino las filas que tengan na en su numero, nombre, organizacion\n",
    "padron.dropna(subset=['numero_operacional', 'nombre', 'organización'], how='any')\n",
    "\n",
    "# Obtengo unicamente los valores que tengan Numero Operacional y no tengan nulos\n",
    "padron = padron[(padron['numero_operacional'] != '-') & (padron['numero_operacional'].notna())]\n",
    "\n",
    "# Convierto la Columna a INT\n",
    "padron['numero_operacional'] = pd.to_numeric(padron['numero_operacional'], errors='coerce').astype('Int64')\n",
    "\n",
    "# Me quedo con aquellas lineas que tengan numero Operacional\n",
    "padron = padron[padron['numero_operacional'].notna()]\n",
    "\n",
    "# Replazo valores nullos por dummies\n",
    "padron['fecha_apertura'] = padron['fecha_apertura'].fillna(date(2020, 1, 1))\n",
    "\n",
    "# Realizo una seleccion de columnas\n",
    "columnas_categoricas = ['director_explotación', 'director_operacional', 'director_gerente_regional', 'director_gerente_tienda', 'domicilio', 'provincia', 'ene', 'feb', 'mar', 'abr', 'may', 'jun', 'jul', 'ago', 'sep', 'oct', 'nov', 'dic']\n",
    "date_columns = ['fecha_apertura', 'fin_de_cierre']\n",
    "num_columns = ['mtr_salón', 'mtr_pgc', 'mtr_pft', 'mtr_bazar', 'mtr_electro', 'mtr_textil', 'mtr_pls', 'mtr_galerias', 'cajas', 'mtr_parcking']\n",
    "string_columns = ['nombre', 'organización', 'director_explotación', 'director_operacional', 'director_gerente_regional', 'director_gerente_tienda', 'domicilio', 'provincia', 'ene', 'feb', 'mar', 'abr', 'may', 'jun', 'jul', 'ago', 'sep', 'oct', 'nov', 'dic']\n",
    "\n",
    "# Normalizo algunos valores de las columnas Datetime\n",
    "padron['fin_de_cierre'] = padron['fin_de_cierre'].replace('-', '')\n",
    "padron['fin_de_cierre'] = padron['fin_de_cierre'].fillna('')\n",
    "\n",
    "# Itero sobre las columnas seleccionadas anteriormente para completar, limpiar y normalizar valores. Esto evita errores cuando se convierten a su tipo de datos indicado\n",
    "for col in columnas_categoricas:\n",
    "    padron[col] = padron[col].fillna('S/D')\n",
    "\n",
    "for col in num_columns:\n",
    "    padron[col] = padron[col].fillna(0)\n",
    "    padron[col] = padron[col].replace('sd', 0).replace('SD', 0).replace('-', 0)\n",
    "    padron[col] = padron[col].astype(int)\n",
    "\n",
    "for col in string_columns:\n",
    "    padron[col] = padron[col].str.lower().astype(str)\n",
    "\n",
    "for col in date_columns:\n",
    "    padron[col] = pd.to_datetime(padron[col])\n",
    "\n",
    "# Genero una nueva columna condicional que identifica cuales son las tiendas cerradas en base a su fecha de cierre, cuales estan activas en base a a la falta de una fecha de cierre, y aquellas que estan por abrir, comparando su fecha de apertura con la fecha en la cual corre el script\n",
    "padron['estado_tienda'] = np.where(padron['fecha_apertura'].dt.date > date(datetime.today().year, datetime.today().month, datetime.today().day), 'proxima apertura', np.where(padron['fin_de_cierre'].notna(), 'cerrada', 'activa'))\n",
    "\n",
    "# Finalmente renombro columnas para que no lleven tilde\n",
    "padron = padron.rename(columns={\n",
    "    'organización':'organizacion',\n",
    "    'director_explotación':'director_explotacion',\n",
    "    'mtr_salón':'mtr_salon'\n",
    "})"
   ]
  }
 ],
 "metadata": {
  "kernelspec": {
   "display_name": "Python 3",
   "language": "python",
   "name": "python3"
  },
  "language_info": {
   "codemirror_mode": {
    "name": "ipython",
    "version": 3
   },
   "file_extension": ".py",
   "mimetype": "text/x-python",
   "name": "python",
   "nbconvert_exporter": "python",
   "pygments_lexer": "ipython3",
   "version": "3.13.5"
  }
 },
 "nbformat": 4,
 "nbformat_minor": 5
}
