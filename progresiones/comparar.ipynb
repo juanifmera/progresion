{
 "cells": [
  {
   "cell_type": "code",
   "execution_count": 135,
   "id": "5ea72b83",
   "metadata": {},
   "outputs": [],
   "source": [
    "import pandas as pd\n",
    "import io\n",
    "from pathlib import Path\n",
    "import plotly.express as px"
   ]
  },
  {
   "cell_type": "code",
   "execution_count": 136,
   "id": "1f34d42e",
   "metadata": {},
   "outputs": [
    {
     "name": "stderr",
     "output_type": "stream",
     "text": [
      "C:\\Users\\juan_mera\\AppData\\Local\\Temp\\ipykernel_12708\\3922322100.py:28: SettingWithCopyWarning:\n",
      "\n",
      "\n",
      "A value is trying to be set on a copy of a slice from a DataFrame\n",
      "\n",
      "See the caveats in the documentation: https://pandas.pydata.org/pandas-docs/stable/user_guide/indexing.html#returning-a-view-versus-a-copy\n",
      "\n",
      "C:\\Users\\juan_mera\\AppData\\Local\\Temp\\ipykernel_12708\\3922322100.py:29: SettingWithCopyWarning:\n",
      "\n",
      "\n",
      "A value is trying to be set on a copy of a slice from a DataFrame\n",
      "\n",
      "See the caveats in the documentation: https://pandas.pydata.org/pandas-docs/stable/user_guide/indexing.html#returning-a-view-versus-a-copy\n",
      "\n",
      "C:\\Users\\juan_mera\\AppData\\Local\\Temp\\ipykernel_12708\\3922322100.py:32: SettingWithCopyWarning:\n",
      "\n",
      "\n",
      "A value is trying to be set on a copy of a slice from a DataFrame.\n",
      "Try using .loc[row_indexer,col_indexer] = value instead\n",
      "\n",
      "See the caveats in the documentation: https://pandas.pydata.org/pandas-docs/stable/user_guide/indexing.html#returning-a-view-versus-a-copy\n",
      "\n",
      "C:\\Users\\juan_mera\\AppData\\Local\\Temp\\ipykernel_12708\\3922322100.py:33: SettingWithCopyWarning:\n",
      "\n",
      "\n",
      "A value is trying to be set on a copy of a slice from a DataFrame.\n",
      "Try using .loc[row_indexer,col_indexer] = value instead\n",
      "\n",
      "See the caveats in the documentation: https://pandas.pydata.org/pandas-docs/stable/user_guide/indexing.html#returning-a-view-versus-a-copy\n",
      "\n",
      "C:\\Users\\juan_mera\\AppData\\Local\\Temp\\ipykernel_12708\\3922322100.py:36: SettingWithCopyWarning:\n",
      "\n",
      "\n",
      "A value is trying to be set on a copy of a slice from a DataFrame\n",
      "\n",
      "See the caveats in the documentation: https://pandas.pydata.org/pandas-docs/stable/user_guide/indexing.html#returning-a-view-versus-a-copy\n",
      "\n",
      "C:\\Users\\juan_mera\\AppData\\Local\\Temp\\ipykernel_12708\\3922322100.py:40: SettingWithCopyWarning:\n",
      "\n",
      "\n",
      "A value is trying to be set on a copy of a slice from a DataFrame\n",
      "\n",
      "See the caveats in the documentation: https://pandas.pydata.org/pandas-docs/stable/user_guide/indexing.html#returning-a-view-versus-a-copy\n",
      "\n",
      "C:\\Users\\juan_mera\\AppData\\Local\\Temp\\ipykernel_12708\\3922322100.py:46: SettingWithCopyWarning:\n",
      "\n",
      "\n",
      "A value is trying to be set on a copy of a slice from a DataFrame.\n",
      "Try using .loc[row_indexer,col_indexer] = value instead\n",
      "\n",
      "See the caveats in the documentation: https://pandas.pydata.org/pandas-docs/stable/user_guide/indexing.html#returning-a-view-versus-a-copy\n",
      "\n",
      "C:\\Users\\juan_mera\\AppData\\Local\\Temp\\ipykernel_12708\\3922322100.py:77: SettingWithCopyWarning:\n",
      "\n",
      "\n",
      "A value is trying to be set on a copy of a slice from a DataFrame\n",
      "\n",
      "See the caveats in the documentation: https://pandas.pydata.org/pandas-docs/stable/user_guide/indexing.html#returning-a-view-versus-a-copy\n",
      "\n",
      "C:\\Users\\juan_mera\\AppData\\Local\\Temp\\ipykernel_12708\\3922322100.py:80: SettingWithCopyWarning:\n",
      "\n",
      "\n",
      "A value is trying to be set on a copy of a slice from a DataFrame.\n",
      "Try using .loc[row_indexer,col_indexer] = value instead\n",
      "\n",
      "See the caveats in the documentation: https://pandas.pydata.org/pandas-docs/stable/user_guide/indexing.html#returning-a-view-versus-a-copy\n",
      "\n",
      "C:\\Users\\juan_mera\\AppData\\Local\\Temp\\ipykernel_12708\\3922322100.py:132: SettingWithCopyWarning:\n",
      "\n",
      "\n",
      "A value is trying to be set on a copy of a slice from a DataFrame\n",
      "\n",
      "See the caveats in the documentation: https://pandas.pydata.org/pandas-docs/stable/user_guide/indexing.html#returning-a-view-versus-a-copy\n",
      "\n",
      "C:\\Users\\juan_mera\\AppData\\Local\\Temp\\ipykernel_12708\\3922322100.py:135: SettingWithCopyWarning:\n",
      "\n",
      "\n",
      "A value is trying to be set on a copy of a slice from a DataFrame.\n",
      "Try using .loc[row_indexer,col_indexer] = value instead\n",
      "\n",
      "See the caveats in the documentation: https://pandas.pydata.org/pandas-docs/stable/user_guide/indexing.html#returning-a-view-versus-a-copy\n",
      "\n"
     ]
    }
   ],
   "source": [
    "# Carga de Archivos y transformaciones generales\n",
    "mes_comparable = 'Agosto'\n",
    "\n",
    "#TENER CUIDADO A LA HORA DE SUBIR LA INFORMACION. EN ESTE CASO COMO VAMOS A REALIZAR UNA COMPARACION GENERAL POR TIENDA/FORMATO, NO ES NECESARIO APERTURAR EL REPORTE DE VENTAS Y VOLUMEN POR SECTOR SECCION. UNICAMENTE POR GF PARA QUITARLE LOS ENVASES AL VOLUMEN\n",
    "df_ventas_y_volumen = pd.read_csv('data/ventas y volumen express 2023 - 2025.csv', encoding='utf-16', header=1)\n",
    "df_debitos = pd.read_csv('data/debitos express 2023 - 2025.csv', encoding='utf-16', header=1, sep=',', decimal=',')\n",
    "padron = pd.read_excel('data/padron - agosto.xlsx', header=17) #type:ignore\n",
    "\n",
    "# Trabajo sobre Ventas y Volumen\n",
    "#Me quedo unicamente con las columnas importantes\n",
    "df_ventas_y_volumen = df_ventas_y_volumen[['Año', 'Mes', 'Direccion', 'Punto Operacional', 'Grupo de Familia', 'Ventas c/impuesto', 'Venta en Unidades']]\n",
    "\n",
    "#Renombro las columnas\n",
    "df_ventas_y_volumen.columns = (df_ventas_y_volumen.columns.str.strip().str.lower().str.replace(\" \", \"_\"))\n",
    "df_ventas_y_volumen.rename(columns={\n",
    "'ventas_c/impuesto':'venta',\n",
    "'venta_en_unidades':'volumen'\n",
    "}, inplace=True)\n",
    "\n",
    "#Genero una columna para Obtener el ID tienda\n",
    "df_ventas_y_volumen['numero_operacional'] = df_ventas_y_volumen['punto_operacional'].str.split('-').str[0]\n",
    "\n",
    "#Me quedo con las columnas necesarias\n",
    "ventas = df_ventas_y_volumen[['año', 'mes', 'direccion', 'numero_operacional', 'punto_operacional', 'grupo_de_familia', 'venta']]\n",
    "volumen = df_ventas_y_volumen[['año', 'mes', 'direccion', 'numero_operacional', 'punto_operacional', 'grupo_de_familia', 'volumen']]\n",
    "\n",
    "#Quito los NA de las columans de valores\n",
    "ventas.dropna(subset=['venta'], how='any', inplace=True)\n",
    "volumen.dropna(subset=['volumen'], how='any', inplace=True)\n",
    "\n",
    "#Realizo transformaciones para quitar carateres y convertir las columnas a valores numericos\n",
    "ventas['venta'] = ventas['venta'].str.replace('.','').str.replace(',','.').astype('float')\n",
    "volumen['volumen'] = volumen['volumen'].str.split(',').str[0].str.replace('.','').astype('int')\n",
    "\n",
    "#Renombro las columnas con valores de ambos DF\n",
    "ventas.rename(columns={\n",
    "'venta':'valores'\n",
    "}, inplace=True)\n",
    "\n",
    "volumen.rename(columns={\n",
    "'volumen':'valores'\n",
    "}, inplace=True)\n",
    "\n",
    "#Categorizo los valores tanto de volumne como de Ventas\n",
    "ventas['categoria'] = 'VCT'\n",
    "volumen['categoria'] = 'VOL'\n",
    "\n",
    "#Agrupo las ventas\n",
    "ventas_agrupado = ventas.groupby(['año', 'mes', 'direccion', 'numero_operacional', 'punto_operacional', 'categoria'])['valores'].sum().reset_index()\n",
    "\n",
    "#Quito Envases del Volumen y Agrupo\n",
    "volumen_sin_vol = volumen[~volumen['grupo_de_familia'].str.contains('ENVASES')]\n",
    "volumen_agrupado = volumen_sin_vol.groupby(['año', 'mes', 'direccion', 'numero_operacional', 'punto_operacional', 'categoria'])['valores'].sum().reset_index()\n",
    "\n",
    "# Trabajo sobre Debitos\n",
    "# Renombro el DF\n",
    "debitos_agrupados = df_debitos\n",
    "\n",
    "# Renombro las columnas como corresponden\n",
    "debitos_agrupados.columns = debitos_agrupados.columns.str.lower().str.replace(' ','_')\n",
    "\n",
    "# Renombro la columna de Debitos a valores\n",
    "debitos_agrupados.rename(columns={\n",
    "'cant._tickets_por_local':'valores'\n",
    "}, inplace=True)\n",
    "\n",
    "# Genero una columna Categorica\n",
    "debitos_agrupados['categoria'] = 'DEB'\n",
    "\n",
    "# Genero columna para el ID tienda\n",
    "debitos_agrupados['numero_operacional'] = debitos_agrupados['punto_operacional'].str.split('-').str[0]\n",
    "\n",
    "# Ordeno las columnas del df\n",
    "debitos_agrupados = debitos_agrupados[['año', 'mes', 'direccion', 'numero_operacional', 'punto_operacional', 'categoria', 'valores']]\n",
    "\n",
    "# Quito nulos numericos de la columna valores\n",
    "debitos_agrupados.dropna(subset=['valores'], how='any', inplace=True)\n",
    "\n",
    "# Convierto la columna de valores a su tipo de datos correspondiente\n",
    "debitos_agrupados['valores'] = debitos_agrupados['valores'].str.replace('.','').astype(int)\n",
    "\n",
    "# Trabajo sobre el padron\n",
    "# Selecciono las columnas que me sirven del padron\n",
    "padron = padron[['N°', 'NOMBRE', 'Fecha apertura', 'ORGANIZACIÓN ', 'M² SALÓN', 'M² PGC', 'M² PFT', 'M² BAZAR', 'M² Electro', 'M² Textil', 'M² Pls', 'M² GALERIAS', 'PROVINCIA', 'M² Parcking', 'FIN DE CIERRE', 'ENE.2', 'FEB.2', 'MAR.2', 'ABR.2', 'MAY.2', 'JUN.2', 'JUL.2', 'AGO.2', 'SEP.2', 'OCT.2', 'NOV.2', 'DIC.2']] #type:ignore\n",
    "\n",
    "# Cambio de nombres en el padron\n",
    "padron.columns = (\n",
    "padron.columns\n",
    ".str.lower()\n",
    ".str.strip()\n",
    ".str.replace(' ', '_', regex=False)\n",
    ".str.replace('m²', 'm', regex=False)\n",
    ".str.replace('.2','')\n",
    ")\n",
    "\n",
    "# Formateo la fecha para que tenga sentido\n",
    "padron['fecha_apertura'] = padron['fecha_apertura'].dt.strftime('%d/%m/%Y')\n",
    "\n",
    "# Cambio el nombre de la columna N por \"Numero Operacional\"\n",
    "padron.rename(columns={'n°':'numero_operacional'}, inplace=True)\n",
    "\n",
    "# Quito los valores nulos utilizando como referencia la columna Numero Operacional, nombre y fecha apertura\n",
    "padron.dropna(subset=['numero_operacional', 'nombre', 'fecha_apertura', mes_comparable[0:3].lower()], how='any', inplace=True)\n",
    "\n",
    "# Genero una funcion para convertir los valores de una columna a mayuscula\n",
    "def maysc(df: pd.DataFrame, columna: str):\n",
    "    df[columna] = df[columna].str.upper()\n",
    "#Aplico la formula a la columna del mes comparable para que todos los valores sean en mayuscula\n",
    "\n",
    "maysc(padron, mes_comparable[0:3].lower())\n",
    "\n",
    "# Coloco el numero operacional como numero\n",
    "padron['numero_operacional'] = padron['numero_operacional'].astype(int)\n",
    "\n",
    "# Concateno todos los df (venta, debito y volumen) y lo joineo con el padron\n",
    "df = pd.concat([ventas_agrupado, volumen_agrupado, debitos_agrupados])\n",
    "\n",
    "# Convierto el ID a numero\n",
    "df['numero_operacional'] = df['numero_operacional'].astype(int)\n",
    "\n",
    "# Genero el Join del df Agupado con el Padron con el objetivo de quedarme unicamente con aquellas tiendas Comparables\n",
    "df_join = df.merge(padron, how='left', on='numero_operacional')\n",
    "\n",
    "# Trabajo sobre Progresiones Total Formato\n",
    "# Me quedo unicamente con las columnas que me sirven del DF Joineado (ACA TENGO LA SC DEL MES)\n",
    "df_join = df_join[['año', 'mes', 'direccion', 'numero_operacional', 'punto_operacional', 'fecha_apertura', 'fin_de_cierre', 'provincia','categoria', 'valores', mes_comparable[0:3].lower()]]\n",
    "\n",
    "# Filtro unicamente las lineas que sean Superficie Comparable\n",
    "df_join_sc = df_join[df_join[mes_comparable[0:3].lower()] == 'SC']\n",
    "\n",
    "#Renombro la Columna Mes a Fecha para Luego generar la Columna Mes Correspondiente\n",
    "df_join_sc.rename(columns={\n",
    "'mes':'fecha'\n",
    "}, inplace=True)\n",
    "df_join_sc['mes'] = df_join_sc['fecha'].str.split(' ').str[0]"
   ]
  },
  {
   "cell_type": "markdown",
   "id": "d0c333e6",
   "metadata": {},
   "source": [
    "### Formato"
   ]
  },
  {
   "cell_type": "code",
   "execution_count": 137,
   "id": "b29cbc04",
   "metadata": {},
   "outputs": [
    {
     "name": "stderr",
     "output_type": "stream",
     "text": [
      "C:\\Users\\juan_mera\\AppData\\Local\\Temp\\ipykernel_12708\\3021178585.py:5: SettingWithCopyWarning:\n",
      "\n",
      "\n",
      "A value is trying to be set on a copy of a slice from a DataFrame.\n",
      "Try using .loc[row_indexer,col_indexer] = value instead\n",
      "\n",
      "See the caveats in the documentation: https://pandas.pydata.org/pandas-docs/stable/user_guide/indexing.html#returning-a-view-versus-a-copy\n",
      "\n"
     ]
    }
   ],
   "source": [
    "#Genero un diccionario con los meses y sus valores numericos de forma auxiliar\n",
    "orden_meses = {\"Enero\":1, \"Febrero\":2, \"Marzo\":3, \"Abril\":4, \"Mayo\":5, \"Junio\":6, \"Julio\":7, \"Agosto\":8, \"Septiembre\":9, \"Octubre\":10, \"Noviembre\":11, \"Diciembre\":12}\n",
    "\n",
    "#Genero una columna auziliar para ordenar los meses y luego limitar el periodo\n",
    "df_join_sc['aux'] = df_join_sc['mes'].map(orden_meses)\n",
    "\n",
    "# Agrupo por los campos que me sirven y pivoteo la info para calcular las progresiones\n",
    "df_total_formato = df_join_sc.groupby(['año', 'mes', 'aux', 'categoria'])['valores'].sum().reset_index().pivot_table(values='valores', index=['mes', 'aux', 'categoria'], columns='año', aggfunc='sum').reset_index()\n",
    "\n",
    "#Genero las progresiones\n",
    "df_total_formato['progresion 2024'] = round((((df_total_formato[2024] / df_total_formato[2023]) - 1) * 100), 1)\n",
    "df_total_formato['progresion 2025'] = round((((df_total_formato[2025] / df_total_formato[2024]) - 1) * 100), 1)\n",
    "\n",
    "#Me traigo unicamente la informacion que me sirve\n",
    "df_total_formato = df_total_formato[['mes', 'aux', 'categoria', 'progresion 2024', 'progresion 2025']]\n",
    "\n",
    "#Ordeno el df\n",
    "df_total_formato = df_total_formato.sort_values('aux')\n",
    "\n",
    "#\"Derrito\" el df para poder generar un formato long y asi realizar un grafico con el periodo continuado desde 2024 en adelante\n",
    "df_total_formato = df_total_formato.melt(id_vars=['mes', 'aux', 'categoria'], value_vars=['progresion 2024', 'progresion 2025'], var_name='progresiones', value_name='valores')\n",
    "\n",
    "#genero una columna de periodo concatenando el mes y el año\n",
    "df_total_formato['periodo'] = df_total_formato['aux'].astype(str).str.zfill(2) + '-' + df_total_formato['progresiones'].str.split(' ').str[1].astype(str).str[2:]\n",
    "\n",
    "df_total_formato['punto_operacional'] = 'Total Formato'\n",
    "\n",
    "df_total_formato = df_total_formato[['punto_operacional', 'mes', 'aux', 'categoria', 'progresiones', 'valores', 'periodo']]"
   ]
  },
  {
   "cell_type": "code",
   "execution_count": 138,
   "id": "49d57016",
   "metadata": {},
   "outputs": [],
   "source": [
    "# Agrupo por los campos que me sirven y pivoteo la info para calcular las progresiones\n",
    "df_join_sc = df_join_sc.groupby(['año', 'mes', 'aux', 'punto_operacional', 'categoria'])['valores'].sum().reset_index().pivot_table(values='valores', index=['mes', 'aux', 'punto_operacional', 'categoria'], columns='año', aggfunc='sum').reset_index()\n",
    "\n",
    "#Genero las progresiones\n",
    "df_join_sc['progresion 2024'] = round((((df_join_sc[2024] / df_join_sc[2023]) - 1) * 100), 1)\n",
    "df_join_sc['progresion 2025'] = round((((df_join_sc[2025] / df_join_sc[2024]) - 1) * 100), 1)\n",
    "\n",
    "#Me traigo unicamente la informacion que me sirve\n",
    "df_progresiones = df_join_sc[['punto_operacional', 'mes', 'aux', 'categoria', 'progresion 2024', 'progresion 2025']]\n",
    "\n",
    "#Ordeno el df\n",
    "df_progresiones = df_progresiones.sort_values('aux')\n",
    "\n",
    "#\"Derrito\" el df para poder generar un formato long y asi realizar un grafico con el periodo continuado desde 2024 en adelante\n",
    "df_progresiones = df_progresiones.melt(id_vars=['punto_operacional', 'mes', 'aux', 'categoria'], value_vars=['progresion 2024', 'progresion 2025'], var_name='progresiones', value_name='valores')\n",
    "\n",
    "#genero una columna de periodo concatenando el mes y el año\n",
    "df_progresiones['periodo'] = df_progresiones['aux'].astype(str).str.zfill(2) + '-' + df_progresiones['progresiones'].str.split(' ').str[1].astype(str).str[2:]"
   ]
  },
  {
   "cell_type": "code",
   "execution_count": 139,
   "id": "df54ea39",
   "metadata": {},
   "outputs": [],
   "source": [
    "df_final = pd.concat([df_progresiones, df_total_formato])"
   ]
  },
  {
   "cell_type": "code",
   "execution_count": 141,
   "id": "6cc7f80c",
   "metadata": {},
   "outputs": [],
   "source": [
    "#Genero un df por tienda seleccionada (IMPORTANTE CAMBIAR ACA POR PARAMETROS EN LA FUNCION Y QUE SE ACTUALICE EN BASE A ESTO)\n",
    "df_final_filtrado = df_final[(df_final['punto_operacional'].isin(['Total Formato', '400 - Proxi Centenera 177'])) & (df_final['categoria'] == 'VCT')]"
   ]
  },
  {
   "cell_type": "code",
   "execution_count": 143,
   "id": "4c0f7620",
   "metadata": {},
   "outputs": [
    {
     "data": {
      "application/vnd.plotly.v1+json": {
       "config": {
        "plotlyServerURL": "https://plot.ly"
       },
       "data": [
        {
         "hovertemplate": "punto_operacional=400 - Proxi Centenera 177<br>periodo=%{x}<br>valores=%{text}<extra></extra>",
         "legendgroup": "400 - Proxi Centenera 177",
         "line": {
          "color": "#636efa",
          "dash": "solid"
         },
         "marker": {
          "symbol": "circle"
         },
         "mode": "lines+markers+text",
         "name": "400 - Proxi Centenera 177",
         "orientation": "v",
         "showlegend": true,
         "text": {
          "bdata": "AAAAAADwckDNzMzMzDx1QM3MzMzMHHVAZmZmZmaGb0CamZmZmeltQDMzMzMzW3FAMzMzMzNLcEBmZmZmZvZqQM3MzMzM/GZAzczMzMycZ0CamZmZmelkQJqZmZmZuVtAzczMzMysUECamZmZmdlGQDMzMzMzM0hAAAAAAABATEAAAAAAAEBLQDMzMzMzM0lAZmZmZmbmSUCamZmZmRlGQM3MzMzMzCxAAAAAAAAA+H8AAAAAAAD4fwAAAAAAAPh/",
          "dtype": "f8"
         },
         "textposition": "top center",
         "type": "scatter",
         "x": [
          "01-24",
          "02-24",
          "03-24",
          "04-24",
          "05-24",
          "06-24",
          "07-24",
          "08-24",
          "09-24",
          "10-24",
          "11-24",
          "12-24",
          "01-25",
          "02-25",
          "03-25",
          "04-25",
          "05-25",
          "06-25",
          "07-25",
          "08-25",
          "09-25",
          "10-25",
          "11-25",
          "12-25"
         ],
         "xaxis": "x",
         "y": {
          "bdata": "AAAAAADwckDNzMzMzDx1QM3MzMzMHHVAZmZmZmaGb0CamZmZmeltQDMzMzMzW3FAMzMzMzNLcEBmZmZmZvZqQM3MzMzM/GZAzczMzMycZ0CamZmZmelkQJqZmZmZuVtAzczMzMysUECamZmZmdlGQDMzMzMzM0hAAAAAAABATEAAAAAAAEBLQDMzMzMzM0lAZmZmZmbmSUCamZmZmRlGQM3MzMzMzCxAAAAAAAAA+H8AAAAAAAD4fwAAAAAAAPh/",
          "dtype": "f8"
         },
         "yaxis": "y"
        },
        {
         "hovertemplate": "punto_operacional=Total Formato<br>periodo=%{x}<br>valores=%{text}<extra></extra>",
         "legendgroup": "Total Formato",
         "line": {
          "color": "#EF553B",
          "dash": "solid"
         },
         "marker": {
          "symbol": "circle"
         },
         "mode": "lines+markers+text",
         "name": "Total Formato",
         "orientation": "v",
         "showlegend": true,
         "text": {
          "bdata": "zczMzMzscUBmZmZmZoZ1QDMzMzMzM3RAMzMzMzNLckBmZmZmZu5xQDMzMzMz825AMzMzMzMjb0AAAAAAAMBqQGZmZmZmVmhAMzMzMzNzZkCamZmZmYliQDMzMzMzc1tAzczMzMzMUUCamZmZmZlGQAAAAAAAQENAmpmZmZnZRUAzMzMzM7NCQM3MzMzMzENAmpmZmZnZQkBmZmZmZuY/QGZmZmZmZhRAAAAAAAAA+H8AAAAAAAD4fwAAAAAAAPh/",
          "dtype": "f8"
         },
         "textposition": "top center",
         "type": "scatter",
         "x": [
          "01-24",
          "02-24",
          "03-24",
          "04-24",
          "05-24",
          "06-24",
          "07-24",
          "08-24",
          "09-24",
          "10-24",
          "11-24",
          "12-24",
          "01-25",
          "02-25",
          "03-25",
          "04-25",
          "05-25",
          "06-25",
          "07-25",
          "08-25",
          "09-25",
          "10-25",
          "11-25",
          "12-25"
         ],
         "xaxis": "x",
         "y": {
          "bdata": "zczMzMzscUBmZmZmZoZ1QDMzMzMzM3RAMzMzMzNLckBmZmZmZu5xQDMzMzMz825AMzMzMzMjb0AAAAAAAMBqQGZmZmZmVmhAMzMzMzNzZkCamZmZmYliQDMzMzMzc1tAzczMzMzMUUCamZmZmZlGQAAAAAAAQENAmpmZmZnZRUAzMzMzM7NCQM3MzMzMzENAmpmZmZnZQkBmZmZmZuY/QGZmZmZmZhRAAAAAAAAA+H8AAAAAAAD4fwAAAAAAAPh/",
          "dtype": "f8"
         },
         "yaxis": "y"
        }
       ],
       "layout": {
        "legend": {
         "title": {
          "text": "punto_operacional"
         },
         "tracegroupgap": 0
        },
        "margin": {
         "t": 60
        },
        "template": {
         "data": {
          "bar": [
           {
            "error_x": {
             "color": "#2a3f5f"
            },
            "error_y": {
             "color": "#2a3f5f"
            },
            "marker": {
             "line": {
              "color": "#E5ECF6",
              "width": 0.5
             },
             "pattern": {
              "fillmode": "overlay",
              "size": 10,
              "solidity": 0.2
             }
            },
            "type": "bar"
           }
          ],
          "barpolar": [
           {
            "marker": {
             "line": {
              "color": "#E5ECF6",
              "width": 0.5
             },
             "pattern": {
              "fillmode": "overlay",
              "size": 10,
              "solidity": 0.2
             }
            },
            "type": "barpolar"
           }
          ],
          "carpet": [
           {
            "aaxis": {
             "endlinecolor": "#2a3f5f",
             "gridcolor": "white",
             "linecolor": "white",
             "minorgridcolor": "white",
             "startlinecolor": "#2a3f5f"
            },
            "baxis": {
             "endlinecolor": "#2a3f5f",
             "gridcolor": "white",
             "linecolor": "white",
             "minorgridcolor": "white",
             "startlinecolor": "#2a3f5f"
            },
            "type": "carpet"
           }
          ],
          "choropleth": [
           {
            "colorbar": {
             "outlinewidth": 0,
             "ticks": ""
            },
            "type": "choropleth"
           }
          ],
          "contour": [
           {
            "colorbar": {
             "outlinewidth": 0,
             "ticks": ""
            },
            "colorscale": [
             [
              0,
              "#0d0887"
             ],
             [
              0.1111111111111111,
              "#46039f"
             ],
             [
              0.2222222222222222,
              "#7201a8"
             ],
             [
              0.3333333333333333,
              "#9c179e"
             ],
             [
              0.4444444444444444,
              "#bd3786"
             ],
             [
              0.5555555555555556,
              "#d8576b"
             ],
             [
              0.6666666666666666,
              "#ed7953"
             ],
             [
              0.7777777777777778,
              "#fb9f3a"
             ],
             [
              0.8888888888888888,
              "#fdca26"
             ],
             [
              1,
              "#f0f921"
             ]
            ],
            "type": "contour"
           }
          ],
          "contourcarpet": [
           {
            "colorbar": {
             "outlinewidth": 0,
             "ticks": ""
            },
            "type": "contourcarpet"
           }
          ],
          "heatmap": [
           {
            "colorbar": {
             "outlinewidth": 0,
             "ticks": ""
            },
            "colorscale": [
             [
              0,
              "#0d0887"
             ],
             [
              0.1111111111111111,
              "#46039f"
             ],
             [
              0.2222222222222222,
              "#7201a8"
             ],
             [
              0.3333333333333333,
              "#9c179e"
             ],
             [
              0.4444444444444444,
              "#bd3786"
             ],
             [
              0.5555555555555556,
              "#d8576b"
             ],
             [
              0.6666666666666666,
              "#ed7953"
             ],
             [
              0.7777777777777778,
              "#fb9f3a"
             ],
             [
              0.8888888888888888,
              "#fdca26"
             ],
             [
              1,
              "#f0f921"
             ]
            ],
            "type": "heatmap"
           }
          ],
          "histogram": [
           {
            "marker": {
             "pattern": {
              "fillmode": "overlay",
              "size": 10,
              "solidity": 0.2
             }
            },
            "type": "histogram"
           }
          ],
          "histogram2d": [
           {
            "colorbar": {
             "outlinewidth": 0,
             "ticks": ""
            },
            "colorscale": [
             [
              0,
              "#0d0887"
             ],
             [
              0.1111111111111111,
              "#46039f"
             ],
             [
              0.2222222222222222,
              "#7201a8"
             ],
             [
              0.3333333333333333,
              "#9c179e"
             ],
             [
              0.4444444444444444,
              "#bd3786"
             ],
             [
              0.5555555555555556,
              "#d8576b"
             ],
             [
              0.6666666666666666,
              "#ed7953"
             ],
             [
              0.7777777777777778,
              "#fb9f3a"
             ],
             [
              0.8888888888888888,
              "#fdca26"
             ],
             [
              1,
              "#f0f921"
             ]
            ],
            "type": "histogram2d"
           }
          ],
          "histogram2dcontour": [
           {
            "colorbar": {
             "outlinewidth": 0,
             "ticks": ""
            },
            "colorscale": [
             [
              0,
              "#0d0887"
             ],
             [
              0.1111111111111111,
              "#46039f"
             ],
             [
              0.2222222222222222,
              "#7201a8"
             ],
             [
              0.3333333333333333,
              "#9c179e"
             ],
             [
              0.4444444444444444,
              "#bd3786"
             ],
             [
              0.5555555555555556,
              "#d8576b"
             ],
             [
              0.6666666666666666,
              "#ed7953"
             ],
             [
              0.7777777777777778,
              "#fb9f3a"
             ],
             [
              0.8888888888888888,
              "#fdca26"
             ],
             [
              1,
              "#f0f921"
             ]
            ],
            "type": "histogram2dcontour"
           }
          ],
          "mesh3d": [
           {
            "colorbar": {
             "outlinewidth": 0,
             "ticks": ""
            },
            "type": "mesh3d"
           }
          ],
          "parcoords": [
           {
            "line": {
             "colorbar": {
              "outlinewidth": 0,
              "ticks": ""
             }
            },
            "type": "parcoords"
           }
          ],
          "pie": [
           {
            "automargin": true,
            "type": "pie"
           }
          ],
          "scatter": [
           {
            "fillpattern": {
             "fillmode": "overlay",
             "size": 10,
             "solidity": 0.2
            },
            "type": "scatter"
           }
          ],
          "scatter3d": [
           {
            "line": {
             "colorbar": {
              "outlinewidth": 0,
              "ticks": ""
             }
            },
            "marker": {
             "colorbar": {
              "outlinewidth": 0,
              "ticks": ""
             }
            },
            "type": "scatter3d"
           }
          ],
          "scattercarpet": [
           {
            "marker": {
             "colorbar": {
              "outlinewidth": 0,
              "ticks": ""
             }
            },
            "type": "scattercarpet"
           }
          ],
          "scattergeo": [
           {
            "marker": {
             "colorbar": {
              "outlinewidth": 0,
              "ticks": ""
             }
            },
            "type": "scattergeo"
           }
          ],
          "scattergl": [
           {
            "marker": {
             "colorbar": {
              "outlinewidth": 0,
              "ticks": ""
             }
            },
            "type": "scattergl"
           }
          ],
          "scattermap": [
           {
            "marker": {
             "colorbar": {
              "outlinewidth": 0,
              "ticks": ""
             }
            },
            "type": "scattermap"
           }
          ],
          "scattermapbox": [
           {
            "marker": {
             "colorbar": {
              "outlinewidth": 0,
              "ticks": ""
             }
            },
            "type": "scattermapbox"
           }
          ],
          "scatterpolar": [
           {
            "marker": {
             "colorbar": {
              "outlinewidth": 0,
              "ticks": ""
             }
            },
            "type": "scatterpolar"
           }
          ],
          "scatterpolargl": [
           {
            "marker": {
             "colorbar": {
              "outlinewidth": 0,
              "ticks": ""
             }
            },
            "type": "scatterpolargl"
           }
          ],
          "scatterternary": [
           {
            "marker": {
             "colorbar": {
              "outlinewidth": 0,
              "ticks": ""
             }
            },
            "type": "scatterternary"
           }
          ],
          "surface": [
           {
            "colorbar": {
             "outlinewidth": 0,
             "ticks": ""
            },
            "colorscale": [
             [
              0,
              "#0d0887"
             ],
             [
              0.1111111111111111,
              "#46039f"
             ],
             [
              0.2222222222222222,
              "#7201a8"
             ],
             [
              0.3333333333333333,
              "#9c179e"
             ],
             [
              0.4444444444444444,
              "#bd3786"
             ],
             [
              0.5555555555555556,
              "#d8576b"
             ],
             [
              0.6666666666666666,
              "#ed7953"
             ],
             [
              0.7777777777777778,
              "#fb9f3a"
             ],
             [
              0.8888888888888888,
              "#fdca26"
             ],
             [
              1,
              "#f0f921"
             ]
            ],
            "type": "surface"
           }
          ],
          "table": [
           {
            "cells": {
             "fill": {
              "color": "#EBF0F8"
             },
             "line": {
              "color": "white"
             }
            },
            "header": {
             "fill": {
              "color": "#C8D4E3"
             },
             "line": {
              "color": "white"
             }
            },
            "type": "table"
           }
          ]
         },
         "layout": {
          "annotationdefaults": {
           "arrowcolor": "#2a3f5f",
           "arrowhead": 0,
           "arrowwidth": 1
          },
          "autotypenumbers": "strict",
          "coloraxis": {
           "colorbar": {
            "outlinewidth": 0,
            "ticks": ""
           }
          },
          "colorscale": {
           "diverging": [
            [
             0,
             "#8e0152"
            ],
            [
             0.1,
             "#c51b7d"
            ],
            [
             0.2,
             "#de77ae"
            ],
            [
             0.3,
             "#f1b6da"
            ],
            [
             0.4,
             "#fde0ef"
            ],
            [
             0.5,
             "#f7f7f7"
            ],
            [
             0.6,
             "#e6f5d0"
            ],
            [
             0.7,
             "#b8e186"
            ],
            [
             0.8,
             "#7fbc41"
            ],
            [
             0.9,
             "#4d9221"
            ],
            [
             1,
             "#276419"
            ]
           ],
           "sequential": [
            [
             0,
             "#0d0887"
            ],
            [
             0.1111111111111111,
             "#46039f"
            ],
            [
             0.2222222222222222,
             "#7201a8"
            ],
            [
             0.3333333333333333,
             "#9c179e"
            ],
            [
             0.4444444444444444,
             "#bd3786"
            ],
            [
             0.5555555555555556,
             "#d8576b"
            ],
            [
             0.6666666666666666,
             "#ed7953"
            ],
            [
             0.7777777777777778,
             "#fb9f3a"
            ],
            [
             0.8888888888888888,
             "#fdca26"
            ],
            [
             1,
             "#f0f921"
            ]
           ],
           "sequentialminus": [
            [
             0,
             "#0d0887"
            ],
            [
             0.1111111111111111,
             "#46039f"
            ],
            [
             0.2222222222222222,
             "#7201a8"
            ],
            [
             0.3333333333333333,
             "#9c179e"
            ],
            [
             0.4444444444444444,
             "#bd3786"
            ],
            [
             0.5555555555555556,
             "#d8576b"
            ],
            [
             0.6666666666666666,
             "#ed7953"
            ],
            [
             0.7777777777777778,
             "#fb9f3a"
            ],
            [
             0.8888888888888888,
             "#fdca26"
            ],
            [
             1,
             "#f0f921"
            ]
           ]
          },
          "colorway": [
           "#636efa",
           "#EF553B",
           "#00cc96",
           "#ab63fa",
           "#FFA15A",
           "#19d3f3",
           "#FF6692",
           "#B6E880",
           "#FF97FF",
           "#FECB52"
          ],
          "font": {
           "color": "#2a3f5f"
          },
          "geo": {
           "bgcolor": "white",
           "lakecolor": "white",
           "landcolor": "#E5ECF6",
           "showlakes": true,
           "showland": true,
           "subunitcolor": "white"
          },
          "hoverlabel": {
           "align": "left"
          },
          "hovermode": "closest",
          "mapbox": {
           "style": "light"
          },
          "paper_bgcolor": "white",
          "plot_bgcolor": "#E5ECF6",
          "polar": {
           "angularaxis": {
            "gridcolor": "white",
            "linecolor": "white",
            "ticks": ""
           },
           "bgcolor": "#E5ECF6",
           "radialaxis": {
            "gridcolor": "white",
            "linecolor": "white",
            "ticks": ""
           }
          },
          "scene": {
           "xaxis": {
            "backgroundcolor": "#E5ECF6",
            "gridcolor": "white",
            "gridwidth": 2,
            "linecolor": "white",
            "showbackground": true,
            "ticks": "",
            "zerolinecolor": "white"
           },
           "yaxis": {
            "backgroundcolor": "#E5ECF6",
            "gridcolor": "white",
            "gridwidth": 2,
            "linecolor": "white",
            "showbackground": true,
            "ticks": "",
            "zerolinecolor": "white"
           },
           "zaxis": {
            "backgroundcolor": "#E5ECF6",
            "gridcolor": "white",
            "gridwidth": 2,
            "linecolor": "white",
            "showbackground": true,
            "ticks": "",
            "zerolinecolor": "white"
           }
          },
          "shapedefaults": {
           "line": {
            "color": "#2a3f5f"
           }
          },
          "ternary": {
           "aaxis": {
            "gridcolor": "white",
            "linecolor": "white",
            "ticks": ""
           },
           "baxis": {
            "gridcolor": "white",
            "linecolor": "white",
            "ticks": ""
           },
           "bgcolor": "#E5ECF6",
           "caxis": {
            "gridcolor": "white",
            "linecolor": "white",
            "ticks": ""
           }
          },
          "title": {
           "x": 0.05
          },
          "xaxis": {
           "automargin": true,
           "gridcolor": "white",
           "linecolor": "white",
           "ticks": "",
           "title": {
            "standoff": 15
           },
           "zerolinecolor": "white",
           "zerolinewidth": 2
          },
          "yaxis": {
           "automargin": true,
           "gridcolor": "white",
           "linecolor": "white",
           "ticks": "",
           "title": {
            "standoff": 15
           },
           "zerolinecolor": "white",
           "zerolinewidth": 2
          }
         }
        },
        "title": {
         "text": "Evolución VCT vs Formato",
         "x": 0.5,
         "xanchor": "center",
         "y": 0.95,
         "yanchor": "top"
        },
        "xaxis": {
         "anchor": "y",
         "domain": [
          0,
          1
         ],
         "title": {
          "text": "Periodo (Mes-Año)"
         }
        },
        "yaxis": {
         "anchor": "x",
         "domain": [
          0,
          1
         ],
         "title": {
          "text": "Valores en porcentaje"
         }
        }
       }
      }
     },
     "metadata": {},
     "output_type": "display_data"
    }
   ],
   "source": [
    "fig = px.line(\n",
    "    df_final_filtrado,\n",
    "    x=\"periodo\",\n",
    "    y=\"valores\",\n",
    "    markers=True,\n",
    "    text=\"valores\",\n",
    "    color='punto_operacional'\n",
    ")\n",
    "\n",
    "fig.update_layout(\n",
    "    title={\n",
    "        'text': f\"Evolución {df_final_filtrado['categoria'].unique()[0]} vs Formato\",\n",
    "        'y':0.95,\n",
    "        'x':0.5,\n",
    "        'xanchor': 'center',\n",
    "        'yanchor': 'top'\n",
    "    },\n",
    "    yaxis_title=\"Valores en porcentaje\",\n",
    "    xaxis_title=\"Periodo (Mes-Año)\"\n",
    ")\n",
    "\n",
    "fig.update_traces(textposition=\"top center\")\n",
    "\n",
    "fig"
   ]
  }
 ],
 "metadata": {
  "kernelspec": {
   "display_name": "env",
   "language": "python",
   "name": "python3"
  },
  "language_info": {
   "codemirror_mode": {
    "name": "ipython",
    "version": 3
   },
   "file_extension": ".py",
   "mimetype": "text/x-python",
   "name": "python",
   "nbconvert_exporter": "python",
   "pygments_lexer": "ipython3",
   "version": "3.13.7"
  }
 },
 "nbformat": 4,
 "nbformat_minor": 5
}
